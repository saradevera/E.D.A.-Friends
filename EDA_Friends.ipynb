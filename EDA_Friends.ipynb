{
 "cells": [
  {
   "cell_type": "code",
   "execution_count": 1,
   "metadata": {},
   "outputs": [
    {
     "data": {
      "text/html": [
       "        <script type=\"text/javascript\">\n",
       "        window.PlotlyConfig = {MathJaxConfig: 'local'};\n",
       "        if (window.MathJax && window.MathJax.Hub && window.MathJax.Hub.Config) {window.MathJax.Hub.Config({SVG: {font: \"STIX-Web\"}});}\n",
       "        if (typeof require !== 'undefined') {\n",
       "        require.undef(\"plotly\");\n",
       "        requirejs.config({\n",
       "            paths: {\n",
       "                'plotly': ['https://cdn.plot.ly/plotly-2.12.1.min']\n",
       "            }\n",
       "        });\n",
       "        require(['plotly'], function(Plotly) {\n",
       "            window._Plotly = Plotly;\n",
       "        });\n",
       "        }\n",
       "        </script>\n",
       "        "
      ]
     },
     "metadata": {},
     "output_type": "display_data"
    },
    {
     "data": {
      "text/html": [
       "        <script type=\"text/javascript\">\n",
       "        window.PlotlyConfig = {MathJaxConfig: 'local'};\n",
       "        if (window.MathJax && window.MathJax.Hub && window.MathJax.Hub.Config) {window.MathJax.Hub.Config({SVG: {font: \"STIX-Web\"}});}\n",
       "        if (typeof require !== 'undefined') {\n",
       "        require.undef(\"plotly\");\n",
       "        requirejs.config({\n",
       "            paths: {\n",
       "                'plotly': ['https://cdn.plot.ly/plotly-2.12.1.min']\n",
       "            }\n",
       "        });\n",
       "        require(['plotly'], function(Plotly) {\n",
       "            window._Plotly = Plotly;\n",
       "        });\n",
       "        }\n",
       "        </script>\n",
       "        "
      ]
     },
     "metadata": {},
     "output_type": "display_data"
    }
   ],
   "source": [
    "import pandas as pd\n",
    "import numpy as np\n",
    "import seaborn as sns\n",
    "import matplotlib.pyplot as plt\n",
    "import variables as v\n",
    "import re\n",
    "import functions as f\n",
    "from plotly.offline import init_notebook_mode, iplot, plot\n",
    "import plotly as py\n",
    "import plotly.graph_objs as go\n",
    "init_notebook_mode(connected=True)\n",
    "import squarify\n",
    "\n",
    "\n",
    "friends_1 = pd.read_csv(v.guiones_csv, sep=',')\n",
    "friends_1.set_index('Unnamed: 0')\n",
    "\n",
    "friends_imdb2 = pd.read_csv(v.imdb2_csv, sep=',', encoding='latin-1')\n",
    "\n",
    "friends_visualiz = pd.read_csv(v.visualizados_csv, sep=',', encoding='latin-1')\n",
    "\n"
   ]
  },
  {
   "cell_type": "code",
   "execution_count": 2,
   "metadata": {},
   "outputs": [
    {
     "name": "stdout",
     "output_type": "stream",
     "text": [
      "<class 'pandas.core.frame.DataFrame'>\n",
      "RangeIndex: 61256 entries, 0 to 61255\n",
      "Data columns (total 6 columns):\n",
      " #   Column          Non-Null Count  Dtype \n",
      "---  ------          --------------  ----- \n",
      " 0   Unnamed: 0      61256 non-null  int64 \n",
      " 1   season_number   61256 non-null  int64 \n",
      " 2   episode_number  61256 non-null  int64 \n",
      " 3   episode_name    61256 non-null  object\n",
      " 4   character       61256 non-null  object\n",
      " 5   line            61256 non-null  object\n",
      "dtypes: int64(3), object(3)\n",
      "memory usage: 2.8+ MB\n"
     ]
    }
   ],
   "source": [
    "friends_1.info()"
   ]
  },
  {
   "cell_type": "code",
   "execution_count": 3,
   "metadata": {},
   "outputs": [
    {
     "name": "stdout",
     "output_type": "stream",
     "text": [
      "940\n"
     ]
    },
    {
     "data": {
      "text/plain": [
       "array(['monica', 'joey', 'chandler', 'phoebe', 'all', 'ross', 'rachel',\n",
       "       'waitress', 'phoebe, ross, chandler, and\\xa0joey', 'paul',\n",
       "       'priest on tv', 'frannie', 'ross and rachel', 'customer', 'marsha',\n",
       "       'carol', 'chandler and\\xa0joey', 'mrs. geller', 'mr. geller',\n",
       "       'susan', 'barry', 'robbie', 'bernice', 'dr. oberman', 'paula',\n",
       "       'alan', 'the guys', 'lizzie', 'guys', 'leslie', 'kiki', 'joanne',\n",
       "       'receptionist', 'pizza guy', 'monica and phoebe', 'both', 'kid',\n",
       "       'angela', 'janice', 'woman', 'bob', 'aurora', 'director', 'jill',\n",
       "       'monica, joey, and\\xa0phoebe', 'mr. heckles', 'paolo', 'shelley',\n",
       "       'aunt lillian', 'nurse', 'andrea', 'lowell', 'terry', 'guy',\n",
       "       'girl', 'max', 'david', 'sandy', 'fun bobby', 'dick clark',\n",
       "       'jay leno', 'mrs. bing', 'coma guy', 'joey, chandler, and ross',\n",
       "       'carol and susan', \"phoebe's assistant\", 'joey and\\xa0chandler',\n",
       "       'joey and chandler', 'rachel and\\xa0phoebe', 'girls', 'roger',\n",
       "       'mr. tribbiani', 'ronni', 'mrs. tribbiani', 'lorraine', 'kristin',\n",
       "       'rachel and phoebe', 'fireman no. 1', 'fireman no. 2',\n",
       "       'fireman no. 3', 'mrs. tedlock', 'celia', 'steve', 'ursula',\n",
       "       'chandler and joey', 'teacher', 'helen', 'nina', 'ross and susan',\n",
       "       'mr. douglas', 'jamie', 'fran', 'rachel and chandler',\n",
       "       'mr.heckles', 'soothing male voice', 'monica and rachel',\n",
       "       'dr. mitchell', 'rachel\\xa0(as monica)', 'monica\\xa0(as rachel)',\n",
       "       'dr. rosen', 'the whole party', \"phoebe's friends\",\n",
       "       'rachel and monica', 'ross and chandler', 'chandler and ross',\n",
       "       'phoebe and rachel', 'aunt iris', 'monica and\\xa0phoebe',\n",
       "       'intercom', 'luisa', 'woman no. 1', 'woman no. 2',\n",
       "       'ross and\\xa0rachel', 'joey and ross', 'bobby', 'mindy',\n",
       "       'danielle', 'phoebe and\\xa0rachel', 'fake monica', 'dr. baldhara',\n",
       "       'pa', 'actor', 'casting director no. 1', 'casting director no. 2',\n",
       "       'phoebe, joey, and\\xa0ross', 'young ethan',\n",
       "       'ross, rachel, and\\xa0phoebe', 'joey, chander, and\\xa0ross',\n",
       "       'gerston', 'santos', 'petrie', 'dr. franzblau', 'lydia',\n",
       "       'susan and ross', 'janitor', 'melanie', 'flight attendant', 'man',\n",
       "       'carl', 'julie', 'ross and\\xa0julie', 'paulo', 'frankie',\n",
       "       'annabelle', 'hombre man', 'store guy', 'mr. treeger', 'mr. boyle',\n",
       "       'alison', 'stranger', 'duncan', 'rahcel', 'old woman', 'jade',\n",
       "       'waiter', 'machine', 'caroline', 'boys', 'doctor', 'girl 1 on bus',\n",
       "       'girl 2 on bus', 'girl 1', 'girl 2', 'stephanie',\n",
       "       'transit authority guy', 'both (but to different babies)',\n",
       "       'together', 'chan', 'rach', 'phoe', 'mnca', 'mich', 'phoe/mnca',\n",
       "       'rtst', 'joey/chan', 'chan, joey, ross', 'radio',\n",
       "       'chandler, monica, and joey', 'gunther', 'gang', 'grandmother',\n",
       "       'fbob', 'russ', 'estl', 'ross, chandler & joey', 'mrs. wallace',\n",
       "       'mrs. green', 'mrs green', 'mr a', 'minister',\n",
       "       'commercial voiceover', 'rob', 'erica', 'lipson', 'kids',\n",
       "       'tv doctor', 'joey on tv', 'security guard', 'trainer',\n",
       "       \"director's assistant\", 'susie', 'van damme', 'interviewer',\n",
       "       'gail', 'monica and ross', 'mr, geller', 'roy',\n",
       "       'rachel, monica, roy, and chip', 'dr. burke',\n",
       "       'chandler, joey, and phoebe', 'delivery guy', 'richard', 'friend',\n",
       "       \"joey's co-star\", 'tattoo artist', 'producer', 'eddie', 'amber',\n",
       "       'dr. remore', 'tilly', 'writer', 'dr horton', 'dr. horton',\n",
       "       'amger', 'estelle', 'casting guy', 'mover', 'ben', 'ernie',\n",
       "       'everyone', 'big bully', 'little bully', 'mrs buffay', 'frank',\n",
       "       'mr. greene', 'mrs. greene', \"girl's voice\", 'gunter', 'scott',\n",
       "       'ryan', 'jeannie', 'phoebe and ryan', 'wedding planner',\n",
       "       'mr. wineburg', 'mrs. wineburg', 'best man', 'video',\n",
       "       \"woman's voice\", 'ross and\\xa0chandler', 'michelle',\n",
       "       'sherman whitfield', 'whitfield', 'malcom', 'host', 'mike',\n",
       "       'carol and\\xa0susan', 'rachel and\\xa0monica', 'joey and\\xa0ross',\n",
       "       'young\\xa0ross', 'young\\xa0monica', 'phoebe and girl', 'jasmine',\n",
       "       'isabella', 'eric', 'friend no. 1', 'friend no. 2', 'her friends',\n",
       "       'matress king', 'dr. green', 'dr green', 'student', 'jester',\n",
       "       'chandler and phoebe', 'rachel, chandler, and joey',\n",
       "       'monica and joey', 'margha', 'sarah', 'leader', 'joey and monica',\n",
       "       'rachel’s boss', 'mr. kaplan', 'joey’s sisters', 'cookie',\n",
       "       'sister 1', 'joey’s grandmother', 'joey’s sister', 'mary-angela',\n",
       "       'mary-theresa', 'mark', 'jeannine', 'julio', 'quartet',\n",
       "       'the bass barber', 'bass singer', 'clerk', 'robert',\n",
       "       'richard’s date', 'singer', 'monica, ross, and joey', 'ginger',\n",
       "       'phoebe and monica', 'phoebe and leslie', 'lecturer', 'commercial',\n",
       "       'issac', 'chloe', 'sergei', 'mischa', 'sophie', 'the girls',\n",
       "       'chandler, phoebe, and joey', 'alice', 'hypnosis tape', 'pete',\n",
       "       'ross and joey', 'secretary', 'employee', 'the director', 'kate',\n",
       "       'spokeswoman', 'joanna', 'lauren', 'anchorwoman',\n",
       "       'chandler, phoebe, and rachel', 'hold voice', 'tommy', 'cailin',\n",
       "       'stage manager', 'vince', 'jason', 'dr. rhodes', 'dr. johnson',\n",
       "       \"pete's mom\", 'fireman', 'guru saj', 'billy crystal',\n",
       "       'robin williams', 'billy', 'robin', 'doug', 'hoshi', 'bonnie',\n",
       "       'phil', 'stevens', 'announcer', 'referee', 'tv announcer',\n",
       "       'phoebe sr', 'ross and bonnie', 'phoebe sr.', 'rachel and bonnie',\n",
       "       'phoebe, ross, and rachel', 'chip', 'tony', 'peter',\n",
       "       'chandler, monica, joey, and rachel', 'the salesman',\n",
       "       'monica, chandler, phoebe, and rachel', 'oven',\n",
       "       'joey, rachel, and ross', 'gym employee', 'rick', 'bank officer',\n",
       "       'ms. lambert', 'mrs. potter', 'mr. simon', 'kathy', 'josh',\n",
       "       'amanda', 'cheryl', 'mrs. burkart', 'casey', 'voice',\n",
       "       'dr. timothy burke', 'tim', 'mr. posner', 'mrs. lynch',\n",
       "       'allesandro', 'drew', 'monica, rachel, and joey', 'a waiter',\n",
       "       'the waiter', 'the conductor', 'the woman from poughkeepsie',\n",
       "       'kitchen worker', 'woman on train', 'chandler, monica, and rachel',\n",
       "       'smart kid', 'tour guide', 'older scientist', 'another tour guide',\n",
       "       'another scientist', 'dr. zane', 'frank and alice',\n",
       "       \"kathy's co-star\", 'mr. waltham', 'joshua', 'emily', 'the a.d',\n",
       "       'the cigarette smoking guy', 'charlton heston',\n",
       "       'the cigarette guy', 'devon', 'liam', 'ticket counter attendant',\n",
       "       'mrs. chatracus', 'the doctor', 'ticket agent', 'mrs. burgin',\n",
       "       'mr. burgin', 'the singing man', 'the saleslady',\n",
       "       'sleep clinic worker', 'marjorie', 'monica, joey, and phoebe',\n",
       "       'the stripper', 'the vendor', 'fergie', 'housekeeper',\n",
       "       'ross and monica', 'mrs. waltham', 'felicity', 'drunk man',\n",
       "       'passenger', 'minster', 'gate agent', 'dave', 'dr. harad',\n",
       "       \"joey's doctor\", 'male\\xa0nurse', 'dan', 'delivery room\\xa0nurse',\n",
       "       'stage director', 'emeril', 'pbs volunteer', 'gary collins',\n",
       "       'hotel clerk', 'chandler and\\xa0phoebe', 'chandler and\\xa0monica',\n",
       "       'danny', 'health inspector', 'larry', 'tom', 'the housekeeper',\n",
       "       'past life phoebe', 'big nosed rachel', 'fat monica',\n",
       "       'the paramedic', 'french phoebe', 'the teacher', 'cynthia',\n",
       "       'dr. leedbetter', 'a female student', 'the man', \"danny's sister\",\n",
       "       'krista', 'monica and\\xa0ross', 'elizabeth hornswoggle',\n",
       "       'elizabeth', 'joey and\\xa0rachel', 'kara', 'frank sr.',\n",
       "       'the pastor', 'the casting director', 'dr. ledbetter', 'katie',\n",
       "       'ross and\\xa0joey', 'party guests', 'guest #1', 'guest #2',\n",
       "       'guest #3', 'dream\\xa0monica', 'dream\\xa0joey',\n",
       "       'the smoking woman', 'cop', 'chandler and\\xa0rachel',\n",
       "       'phoebe and\\xa0joey', 'gary', 'the saleswoman', \"gary's radio\",\n",
       "       'the old man', 'the little girl', 'mr. zelner', 'the hot girl',\n",
       "       'jen', 'kim', 'nancy', 'kyle', 'raymond', 'delivery girl',\n",
       "       'caitlin', 'grandma tribbiani', 'answering machine',\n",
       "       'phoebe and\\xa0gary', 'dr. miller', 'stanley', 'the grip',\n",
       "       'the husband', 'a casino boss', 'a tourist', 'the croupier',\n",
       "       'the\\xa0flight attendant', 'blackjack dealer', 'the woman dealer',\n",
       "       \"joey's hand twin\", 'a drunken gambler', 'drunken gambler',\n",
       "       'the lurker', 'the security guard', 'the attendant', 'attendant',\n",
       "       '{transciber’s note', 'croupler', 'hitchhiker', 'karin', 'meg',\n",
       "       'russell', 'the potential roommate', 'the professor',\n",
       "       'casting director #1', 'casting director #2',\n",
       "       'casting director #3', 'a crew member', 'alex', 'a student',\n",
       "       'guy #1', 'guy #2', 'the porsche owner', 'judge', 'passerby',\n",
       "       'monica and\\xa0rachel', 'janine', 'chandler and monica',\n",
       "       'ralph lauren', 'hillary', 'janine [to chandler]',\n",
       "       'mr. and\\xa0mrs. geller', 'tall guy', 'joey’s head', 'patron',\n",
       "       'customers', 'phoebe and\\xa0ross', 'a male customer', 'the fan',\n",
       "       'buffay, the vampire layer', 'the vampire', 'man’s voice',\n",
       "       'another man’s voice', 'same man’s voice', \"monica's boyfriend\",\n",
       "       'guy all the way in the back', 'dr. wesley', 'dr. drake remoray',\n",
       "       'hope', 'dr. roger', 'arthur', 'jack', \"joey's look-a-like\",\n",
       "       'the instructor', 'janice’s voice', 'burt', 'fireman #1', 'dana',\n",
       "       'fireman #2', 'mel', 'professor feesen', 'sebastian', 'eldad',\n",
       "       'patrick', 'the producer', 'wayne', 'c.h.e.e.s.e.',\n",
       "       'phoebe and\\xa0monica', 'the dry cleaner', 'the museum official',\n",
       "       'female clerk', 'male jeweler', 'female jeweler', 'mr. thompson',\n",
       "       'zoe', 'first dorm guy', 'second dorm guy', \"matire'd\", 'lisa',\n",
       "       'emil alexander', 'mr. bowmont', 'narrator', 'mac', 'c.h.e.e.s.e',\n",
       "       'hilda', 'tag', 'nurse #1', 'nurse #2', 'dr. stryker remoray',\n",
       "       'melissa', 'the photographer', 'hums while he pees', 'whitney',\n",
       "       'joey’s date', 'erin', 'female student', 'male student',\n",
       "       'the waitress', 'the colonel', 'the librarian',\n",
       "       'the head librarian', 'joey, rachel, and\\xa0phoebe', 'the knocker',\n",
       "       'the woman', \"maitre d'\", 'male guest', 'rachel and\\xa0joey',\n",
       "       'salesman', 'the wedding guest', 'the second guest', 'aunt millie',\n",
       "       'smoke detector', 'a disembodied voice', 'the fireman',\n",
       "       'supervisor', 'earl', 'the \"hey guy\" guy', 'marge',\n",
       "       'the man in the sportscar', 'dina', 'jessica lockhart', 'cecilia',\n",
       "       'the writer', 'monica and\\xa0chandler', 'fredrick',\n",
       "       'matthew perry', 'lisa kudrow', 'fat\\xa0joey', 'kristen', 'megan',\n",
       "       'a woman', 'lewis', 'morse', 'the cute guy', 'jake',\n",
       "       'the presenter', 'jessica ashley', 'cassie', 'the other woman',\n",
       "       'a waiter in drag', 'waiter in drag', 'helena', 'policeman',\n",
       "       'the chorus line', 'the assistant director', 'mr. bing',\n",
       "       'the rabbi', 'photographer', 'bandleader', 'mona',\n",
       "       'dennis phillips', 'little girl', 'second girl', 'ashley',\n",
       "       'fat girl', 'gert', 'front desk clerk', 'woman at the wedding',\n",
       "       'man at the wedding', 'anxious wedding guest', 'airline employee',\n",
       "       'dr. long', 'mr. franklin', 'dr. drake ramoray', 'kash', 'witch',\n",
       "       'clown', 'cowgirl', 'ballerina', 'boy in the cape',\n",
       "       \"mrs. verhoeven's daughter\", 'brenda', 'stripper', 'hooker', 'stu',\n",
       "       'will', 'ross and\\xa0will', 'trudie styler', 'dr. schiff',\n",
       "       'locksmith', \"joey's date\", 'man on tv', 'woman on tv', 'don',\n",
       "       'waiter no. 2', 'jim', \"mona's date\", 'parker', 'aunt lisa',\n",
       "       'uncle dan', 'the interviewer', 'phoebe, ross, and\\xa0rachel',\n",
       "       'ray', 'cashier', 'the food critic', 'the cooking teacher',\n",
       "       'the acting teacher', 'marc', 'evil bitch', 'sick bastard',\n",
       "       'woman giving birth', 'cliff', 'sid', 'ms. mckenna',\n",
       "       'joey and phoebe', 'mary ellen', 'dr. gettleman', 'sally', 'boy',\n",
       "       'hayley', \"hayley's roommate\", 'ken', 'claudia', 'phoebe & joey',\n",
       "       'maitre d�', 'ms. geller', 'ross & rachel', 'monica & chandler',\n",
       "       'waiters', 'prospective nanny', 'sandy/grumpus',\n",
       "       'joey/wigglemunch', 'catherine', 'bitsy', 'theodore', 'joey nods',\n",
       "       'rachel to emma', 'woman at door',\n",
       "       'woman at door in a sing song voice', 'amy',\n",
       "       'ross with a look of wondering how long this is going to go on on his face',\n",
       "       \"ross starts talking over her 'do you remember' line\",\n",
       "       'rachel opens their door', 'everyone there says', 'joey laughs',\n",
       "       'joey looks rejected', 'ross to\\xa0monica', 'monica to\\xa0ross',\n",
       "       'monica to emma', 'monica to\\xa0amy',\n",
       "       'amy with confused look on face',\n",
       "       'phoebe shakes her hand and says', 'phoebe looks down',\n",
       "       'amy coming out of the bathroom',\n",
       "       \"ross first has a look of 'huh' then changes it to sarcastic happy\",\n",
       "       'amy turns around to\\xa0phoebe', 'amy turns to ross and\\xa0rachel',\n",
       "       'ross starts playing with a plate',\n",
       "       'monica about to have a heart attack', 'joey raises his hand',\n",
       "       'ross looks down',\n",
       "       'amy walks over to the couch and sits down next to\\xa0rachel',\n",
       "       'rachel turns to\\xa0ross', 'ross walks over',\n",
       "       'monica screaming at\\xa0ross',\n",
       "       \"rachel starts messing up amy's hair\",\n",
       "       'amy and rachel at same time', 'monica starts crying',\n",
       "       'amy starting to cry', 'jo lynn', 'bill', 'kevin', 'wendy',\n",
       "       'others', 'gavin', 'joey/drake', 'extra', 'another extra',\n",
       "       'phoebe/waitress', 'molly', 'heather', 'ross, joey and chandler',\n",
       "       'salon girl', 'sonia', 'blonde girl', 'her friend',\n",
       "       'joey\\xa0(checks the refrigerator)',\n",
       "       'chandler\\xa0(reading the newspaper)',\n",
       "       'joey\\xa0(gives a thumbs up sign)', 'steve\\xa0(staring at rachel)',\n",
       "       'rachel\\xa0(feeling awkward)', 'rachel\\xa0(awkward chuckle)',\n",
       "       'phoebe\\xa0(to joey)', 'chandler\\xa0(laughs)',\n",
       "       'monica\\xa0(laughs)', 'waiter #2', 'steve\\xa0(sobbing)',\n",
       "       'monica\\xa0(on phone)', 'rachel\\xa0(to steve)',\n",
       "       'monica\\xa0(to joey)', 'rachel and joey', 'intern', 'lennart',\n",
       "       'producer #1', 'mugger', 'phoebe\\xa0and\\xa0monica', 'boss',\n",
       "       'joey & monica', 'monica, chandler, ross',\n",
       "       'chandler\\xa0(stands up and walks to joey)', 'handyman',\n",
       "       'monica, rachel, chandler', 'chandler/joey/rachel/monica',\n",
       "       'strange man', 'manny', 'kori',\n",
       "       'everyone almost simultaneously except ross', 'racel',\n",
       "       'rachel, chandler and monica', 'everyone but monica', 'message',\n",
       "       'second message', 'tv', 'everybody', 'actress/olivia',\n",
       "       'chase lassiter', '1st customer', '2nd customer', '3rd customer',\n",
       "       'rachel/actress', 'chandlers', 'charlie', 'professor spafford',\n",
       "       'jane', 'kyle lowder', 'bitter lady', 'matthew ashford', 'rache',\n",
       "       'dirk', 'bitter woman', 'doctor connelly', 'professor sherman',\n",
       "       'shop assistant', 'zack', 'prof. sherman', 'jeanette',\n",
       "       'ross and charlie', 'man with a bow tie', 'phoebe & mike',\n",
       "       'alexandra steele', 'mr. oberblau', 'paleontologist',\n",
       "       'professore clerk', 'monica, chandler and phoebe',\n",
       "       \"joey's voice, but she sees ross\", \"joey's voice/ross\",\n",
       "       'rachel/ross', 'precious', 'joey\\xa0(to rachel)',\n",
       "       'joey\\xa0and rachel', 'frank jr.',\n",
       "       'monica\\xa0(reads a form in her lap)', 'colleen', 'owen',\n",
       "       'frank jr.\\xa0(looks at the triplets)', 'chandler\\xa0(to monica)',\n",
       "       'ross\\xa0(on the verge of tears)', 'assistant', 'joey and rachel',\n",
       "       'glenda', 'ross, rachel and chandler', 'jack and judy', 'judy',\n",
       "       'chandler\\xa0(nearly weeping)', 'ross (stops recording)',\n",
       "       'phoebe (sees the cake)', 'joey (staring at the cake)',\n",
       "       'rachel (on the phone)', 'emma', 'monica and chandler',\n",
       "       'joey\\xa0(to chandler)', 'chandler\\xa0(to rachel)', 'benjamin',\n",
       "       'benjamin\\xa0(to ross)', 'dr. li', 'dr. biely', 'charity guy',\n",
       "       'ross\\xa0(to emma)', 'phoebe\\xa0(to mike)',\n",
       "       'mike\\xa0(to the charity guy)', 'laura', 'ross\\xa0', 'agency guy',\n",
       "       'phoebe (walking to ross carrying a black leather jacket)',\n",
       "       'adoption\\xa0agency guy', 'phoebe\\xa0', 'monica\\xa0(puzzled)',\n",
       "       'missy', 'donny osmond', 'donny', 'gene', 'stage manager\\xa0',\n",
       "       'roy, the male stripper', 'henrietta', 'adrienne',\n",
       "       \"present chandler's voice\", \"mike's mother\", \"mike's father\",\n",
       "       'monica\\xa0(rolling her eyes)', \"mike's mom\", \"mike's dad\",\n",
       "       'rachel\\xa0(leaving)', 'tape', 'casting assistant', 'mr zellner',\n",
       "       'mr campbell', 'all\\xa0(except rachel)', 'realtor', 'mackenzie',\n",
       "       'rita', 'jennifer', 'mr zelner', 'phoebe (doing estelle)',\n",
       "       'phoebe-estelle', 'lady', 'chandler (to monica)', 'r zelner',\n",
       "       'rachel\\xa0(she flips the coin)', 'chandler\\xa0(to joey)',\n",
       "       'monica\\xa0(to ross)', 'erica\\xa0(standing up)',\n",
       "       'monica\\xa0(enters the room)',\n",
       "       'phoebe\\xa0(watching the food on the table)', 'rachel\\xa0(crying)',\n",
       "       'joey\\xa0(to ross)', 'phoebe\\xa0(to rachel)', 'phoebe and joey',\n",
       "       'jennifer aniston (v.o.)', 'phoebe, ross, rachel',\n",
       "       'gate attendant #1', 'passenger #1', 'air stewardess',\n",
       "       'passenger #2', 'passenger #3', 'gate attendant #2'], dtype=object)"
      ]
     },
     "execution_count": 3,
     "metadata": {},
     "output_type": "execute_result"
    }
   ],
   "source": [
    "# COMPROBAMOS CUANTOS Y QUÉ PERSONAJES HAY A LO LARGO DE LA SERIE\n",
    "\n",
    "print(friends_1['character'].nunique())\n",
    "friends_1['character'].unique()\n"
   ]
  },
  {
   "cell_type": "code",
   "execution_count": 4,
   "metadata": {},
   "outputs": [
    {
     "data": {
      "text/plain": [
       "911"
      ]
     },
     "execution_count": 4,
     "metadata": {},
     "output_type": "execute_result"
    }
   ],
   "source": [
    "# AL COMPROBAR LOS PERSONAJES QUE APARECEN EN LA COLUMNA 'character' DESCUBRIMOS QUE EXISTEN CARACTERES QUE NO SON CORRECTOS.\n",
    "# TAMBIÉN OCURRE EN LA COLUMNA 'line'. PROCEDEMOS A ELIMINARLOS DE AMBAS COLUMNAS\n",
    "# IGUALMENTE, DESCUBRIMOS QUE EL PERSONAJE RACHEL, EN ALGUNAS FILAS SE LE HA DENOMINADO 'rach' POR LO QUE PROCEDEMOS \n",
    "# TAMBIÉN A IGUALARLO AL NOMBRE 'rachel'\n",
    "\n",
    "friends_1['character'] = friends_1['character'].apply(lambda x: x.replace('\\xa0',' '))\n",
    "friends_1['line'] = friends_1['line'].apply(lambda x: x.replace('\\xa0',' '))\n",
    "friends_1[friends_1['character']=='rach'] = friends_1[friends_1['character']=='rach'].apply(lambda x: x.replace('rach','rachel'))\n",
    "friends_1[friends_1['character']=='mnca'] = friends_1[friends_1['character']=='mnca'].apply(lambda x: x.replace('mnca','monica'))\n",
    "friends_1[friends_1['character']=='chan'] = friends_1[friends_1['character']=='chan'].apply(lambda x: x.replace('chan','chandler'))\n",
    "friends_1[friends_1['character']=='phoe'] = friends_1[friends_1['character']=='phoe'].apply(lambda x: x.replace('phoe','phoebe'))\n",
    "# friends_1['character'].unique()\n",
    "friends_1['character'].nunique()\n"
   ]
  },
  {
   "cell_type": "code",
   "execution_count": 5,
   "metadata": {},
   "outputs": [
    {
     "name": "stdout",
     "output_type": "stream",
     "text": [
      "Hay 2589 raros\n",
      "Hay 257 dobles con and\n"
     ]
    }
   ],
   "source": [
    "# CONTINUANDO CON LA REVISIÓN PREVIA DE PERSONAJES, DESCUBRIMOS IGUALMENTE QUE EXISTEN PERSONAJES QUE APARECEN ESCRITOS\n",
    "# EN DISTINTOS FORMATOS (CON ANOTACIONES ENTRE PARÉNTESIS O JUNTO A OTRO PERSONAJE)\n",
    "\n",
    "lista_noformato = []\n",
    "lista_doblepersonajes = []\n",
    "for i in friends_1['character']:\n",
    "    if ' and ' in i:\n",
    "        lista_doblepersonajes.append(i)\n",
    "    elif 'to ' in i:\n",
    "        lista_noformato.append(i)\n",
    "    elif '(' in i:\n",
    "        lista_noformato.append(i)\n",
    "    elif ' ' in i:\n",
    "        lista_noformato.append(i)\n",
    "    else:\n",
    "        continue\n",
    "\n",
    "# print(lista_noformato)\n",
    "print('Hay', len(lista_noformato), 'raros')\n",
    "print('Hay', len(lista_doblepersonajes), 'dobles con and')"
   ]
  },
  {
   "cell_type": "code",
   "execution_count": 6,
   "metadata": {},
   "outputs": [
    {
     "name": "stdout",
     "output_type": "stream",
     "text": [
      "Ya no hay raros\n",
      "465\n",
      "Hay 0 raros\n",
      "Hay 0 dobles con and\n"
     ]
    }
   ],
   "source": [
    "# PARA RESOLVER EL PROBLEMA ANTERIOR, NOS QUEDAREMOS CON EL PRIMER NOMBRE QUE APARECE EN TODOS ESOS STRINGS.\n",
    "\n",
    "friends_1['character'] = friends_1['character'].str.extract(r'(^\\w+)')\n",
    "\n",
    "lista_noformato = []\n",
    "lista_doblepersonajes = []\n",
    "\n",
    "try:\n",
    "    for i in friends_1['character']:\n",
    "        if ' and ' in i:\n",
    "            lista_doblepersonajes.append(i)\n",
    "        elif 'to ' in i:\n",
    "            lista_noformato.append(i)\n",
    "        elif '(' in i:\n",
    "            lista_noformato.append(i)\n",
    "        elif ' ' in i:\n",
    "            lista_noformato.append(i)\n",
    "except:\n",
    "        print('Ya no hay raros')\n",
    "        \n",
    "print(friends_1['character'].nunique())\n",
    "print('Hay', len(lista_noformato), 'raros')\n",
    "print('Hay', len(lista_doblepersonajes), 'dobles con and')"
   ]
  },
  {
   "cell_type": "code",
   "execution_count": 7,
   "metadata": {},
   "outputs": [
    {
     "data": {
      "text/plain": [
       "465"
      ]
     },
     "execution_count": 7,
     "metadata": {},
     "output_type": "execute_result"
    }
   ],
   "source": [
    "# OBTENEMOS EL NÚMERO TOTAL DE PERSONAJES ÚNICOS...\n",
    "total_de_personajes = friends_1['character'].nunique()\n",
    "total_de_personajes"
   ]
  },
  {
   "cell_type": "code",
   "execution_count": 8,
   "metadata": {},
   "outputs": [
    {
     "name": "stderr",
     "output_type": "stream",
     "text": [
      "c:\\Users\\pieci\\AppData\\Local\\Programs\\Python\\Python37\\lib\\site-packages\\ipykernel_launcher.py:11: FutureWarning:\n",
      "\n",
      "Index.__or__ operating as a set operation is deprecated, in the future this will be a logical operation matching Series.__or__.  Use index.union(other) instead\n",
      "\n"
     ]
    },
    {
     "data": {
      "text/html": [
       "<div>\n",
       "<style scoped>\n",
       "    .dataframe tbody tr th:only-of-type {\n",
       "        vertical-align: middle;\n",
       "    }\n",
       "\n",
       "    .dataframe tbody tr th {\n",
       "        vertical-align: top;\n",
       "    }\n",
       "\n",
       "    .dataframe thead th {\n",
       "        text-align: right;\n",
       "    }\n",
       "</style>\n",
       "<table border=\"1\" class=\"dataframe\">\n",
       "  <thead>\n",
       "    <tr style=\"text-align: right;\">\n",
       "      <th></th>\n",
       "      <th>line</th>\n",
       "    </tr>\n",
       "    <tr>\n",
       "      <th>character</th>\n",
       "      <th></th>\n",
       "    </tr>\n",
       "  </thead>\n",
       "  <tbody>\n",
       "    <tr>\n",
       "      <th>susan</th>\n",
       "      <td>106</td>\n",
       "    </tr>\n",
       "    <tr>\n",
       "      <th>mona</th>\n",
       "      <td>114</td>\n",
       "    </tr>\n",
       "    <tr>\n",
       "      <th>david</th>\n",
       "      <td>120</td>\n",
       "    </tr>\n",
       "    <tr>\n",
       "      <th>amy</th>\n",
       "      <td>125</td>\n",
       "    </tr>\n",
       "    <tr>\n",
       "      <th>gunther</th>\n",
       "      <td>130</td>\n",
       "    </tr>\n",
       "    <tr>\n",
       "      <th>paul</th>\n",
       "      <td>133</td>\n",
       "    </tr>\n",
       "    <tr>\n",
       "      <th>tag</th>\n",
       "      <td>146</td>\n",
       "    </tr>\n",
       "    <tr>\n",
       "      <th>emily</th>\n",
       "      <td>167</td>\n",
       "    </tr>\n",
       "    <tr>\n",
       "      <th>charlie</th>\n",
       "      <td>190</td>\n",
       "    </tr>\n",
       "    <tr>\n",
       "      <th>frank</th>\n",
       "      <td>196</td>\n",
       "    </tr>\n",
       "    <tr>\n",
       "      <th>carol</th>\n",
       "      <td>199</td>\n",
       "    </tr>\n",
       "    <tr>\n",
       "      <th>janice</th>\n",
       "      <td>219</td>\n",
       "    </tr>\n",
       "    <tr>\n",
       "      <th>richard</th>\n",
       "      <td>260</td>\n",
       "    </tr>\n",
       "    <tr>\n",
       "      <th>mike</th>\n",
       "      <td>366</td>\n",
       "    </tr>\n",
       "    <tr>\n",
       "      <th>phoebe</th>\n",
       "      <td>7586</td>\n",
       "    </tr>\n",
       "    <tr>\n",
       "      <th>joey</th>\n",
       "      <td>8295</td>\n",
       "    </tr>\n",
       "    <tr>\n",
       "      <th>monica</th>\n",
       "      <td>8456</td>\n",
       "    </tr>\n",
       "    <tr>\n",
       "      <th>chandler</th>\n",
       "      <td>8504</td>\n",
       "    </tr>\n",
       "    <tr>\n",
       "      <th>ross</th>\n",
       "      <td>9104</td>\n",
       "    </tr>\n",
       "    <tr>\n",
       "      <th>rachel</th>\n",
       "      <td>9295</td>\n",
       "    </tr>\n",
       "  </tbody>\n",
       "</table>\n",
       "</div>"
      ],
      "text/plain": [
       "           line\n",
       "character      \n",
       "susan       106\n",
       "mona        114\n",
       "david       120\n",
       "amy         125\n",
       "gunther     130\n",
       "paul        133\n",
       "tag         146\n",
       "emily       167\n",
       "charlie     190\n",
       "frank       196\n",
       "carol       199\n",
       "janice      219\n",
       "richard     260\n",
       "mike        366\n",
       "phoebe     7586\n",
       "joey       8295\n",
       "monica     8456\n",
       "chandler   8504\n",
       "ross       9104\n",
       "rachel     9295"
      ]
     },
     "execution_count": 8,
     "metadata": {},
     "output_type": "execute_result"
    }
   ],
   "source": [
    "# PARA EL SIGUIENTE ESTUDIO QUE QUEREMOS HACER, (TODOS LOS PERSONAJES Y SU APARICIÓN) SACAMOS UN DATAFRAME SOLO DE PERSONAJES Y ELIMINAMOS AQUELLOS QUE DESVIRTUARÍAN EL RESULTADO.\n",
    "\n",
    "personajes = friends_1.groupby(['character']).count()['line'].sort_values()\n",
    "df_personajes = pd.DataFrame(personajes)\n",
    "mask = df_personajes[df_personajes.index=='mr'].index\n",
    "mask2 = df_personajes[df_personajes.index=='mrs'].index\n",
    "mask3 = df_personajes[df_personajes.index=='the'].index\n",
    "mask4 = df_personajes[df_personajes.index=='all'].index\n",
    "mask5 = df_personajes[df_personajes.index=='dr'].index\n",
    "mask6 = df_personajes[df_personajes.index=='woman'].index\n",
    "df_personajes_new = df_personajes.drop(mask|mask2|mask3|mask4|mask5|mask6)\n",
    "\n",
    "df_personajes_new.loc[df_personajes_new['line'] < 70, 'line'] = 'Other characters'\n",
    "df_personajes_new.tail(20)\n"
   ]
  },
  {
   "cell_type": "code",
   "execution_count": 9,
   "metadata": {},
   "outputs": [
    {
     "data": {
      "application/vnd.plotly.v1+json": {
       "config": {
        "linkText": "Export to plot.ly",
        "plotlyServerURL": "https://plot.ly",
        "showLink": false
       },
       "data": [
        {
         "domain": {
          "x": [
           0,
           1
          ],
          "y": [
           0,
           1
          ]
         },
         "hole": 0.4,
         "hovertemplate": "character=%{label}<br>line=%{value}<extra></extra>",
         "labels": [
          "1st",
          "party",
          "paleontologist",
          "pa",
          "oven",
          "old",
          "narrator",
          "mel",
          "marge",
          "locksmith",
          "jo",
          "jeanette",
          "jane",
          "henrietta",
          "heather",
          "health",
          "gunter",
          "french",
          "fredrick",
          "extra",
          "employee",
          "emma",
          "emil",
          "emeril",
          "customers",
          "cowgirl",
          "clown",
          "chase",
          "passerby",
          "chandlers",
          "past",
          "petrie",
          "writer",
          "witch",
          "wedding",
          "video",
          "uncle",
          "transit",
          "together",
          "tattoo",
          "strange",
          "soothing",
          "smoke",
          "smart",
          "sister",
          "shop",
          "sherman",
          "secretary",
          "same",
          "referee",
          "raymond",
          "rache",
          "racel",
          "r",
          "professore",
          "prof",
          "priest",
          "present",
          "phoe",
          "peter",
          "chan",
          "zoe",
          "bass",
          "boys",
          "adoption",
          "alexandra",
          "actor",
          "anchorwoman",
          "amger",
          "alison",
          "blonde",
          "ashley",
          "2nd",
          "attendant",
          "alex",
          "message",
          "sick",
          "bank",
          "kevin",
          "dick",
          "older",
          "andrea",
          "sid",
          "handyman",
          "frankie",
          "first",
          "meg",
          "drunk",
          "drunken",
          "hope",
          "santos",
          "helen",
          "sally",
          "radio",
          "realtor",
          "blackjack",
          "ernie",
          "ralph",
          "glenda",
          "matress",
          "spokeswoman",
          "trainer",
          "3rd",
          "kitchen",
          "casey",
          "karin",
          "waiters",
          "lecturer",
          "buffay",
          "gerston",
          "pbs",
          "her",
          "adrienne",
          "tape",
          "rahcel",
          "phil",
          "matire",
          "jennifer",
          "arthur",
          "jeannie",
          "mac",
          "gail",
          "answering",
          "croupler",
          "fun",
          "store",
          "front",
          "ballerina",
          "girls",
          "best",
          "patrick",
          "gert",
          "mugger",
          "fergie",
          "bandleader",
          "guest",
          "paulo",
          "others",
          "hotel",
          "bernice",
          "kids",
          "burt",
          "lisa",
          "tony",
          "claudia",
          "jeannine",
          "commercial",
          "marjorie",
          "stevens",
          "everybody",
          "matthew",
          "sleep",
          "patron",
          "hypnosis",
          "mover",
          "rita",
          "salesman",
          "intercom",
          "minster",
          "salon",
          "dirk",
          "hoshi",
          "jester",
          "host",
          "marsha",
          "hold",
          "hums",
          "lady",
          "kara",
          "kiki",
          "hooker",
          "hilda",
          "c",
          "anxious",
          "voice",
          "catherine",
          "cookie",
          "cynthia",
          "sonia",
          "dave",
          "devon",
          "singer",
          "security",
          "drew",
          "scott",
          "eldad",
          "airline",
          "bitter",
          "prospective",
          "ken",
          "jay",
          "photographer",
          "joanne",
          "boss",
          "jake",
          "danielle",
          "guys",
          "josh",
          "stripper",
          "another",
          "kristin",
          "leader",
          "whitfield",
          "amber",
          "producer",
          "robbie",
          "felicity",
          "female",
          "jen",
          "second",
          "quartet",
          "housekeeper",
          "caroline",
          "lipson",
          "tour",
          "tall",
          "cailin",
          "lorraine",
          "stu",
          "celia",
          "gang",
          "estl",
          "intern",
          "ray",
          "evil",
          "hitchhiker",
          "stanley",
          "dream",
          "paula",
          "gym",
          "alan",
          "stranger",
          "waitress",
          "sergei",
          "kori",
          "air",
          "kyle",
          "mary",
          "actress",
          "tv",
          "machine",
          "annabelle",
          "marc",
          "liam",
          "cashier",
          "clerk",
          "boy",
          "coma",
          "dan",
          "delivery",
          "grandma",
          "fran",
          "frannie",
          "kid",
          "manny",
          "jasmine",
          "melanie",
          "pizza",
          "dennis",
          "professor",
          "maitre",
          "supervisor",
          "tilly",
          "whitney",
          "announcer",
          "jessica",
          "flight",
          "kash",
          "hombre",
          "sebastian",
          "nancy",
          "stage",
          "colleen",
          "bobby",
          "krista",
          "theodore",
          "charlton",
          "carl",
          "student",
          "morse",
          "ms",
          "isabella",
          "bill",
          "owen",
          "rick",
          "lewis",
          "missy",
          "judy",
          "precious",
          "billy",
          "assistant",
          "allesandro",
          "dana",
          "agency",
          "wayne",
          "robin",
          "lizzie",
          "judge",
          "jamie",
          "margha",
          "lowell",
          "mackenzie",
          "gate",
          "friend",
          "everyone",
          "shelley",
          "donny",
          "don",
          "issac",
          "russell",
          "trudie",
          "customer",
          "minister",
          "jim",
          "guru",
          "angela",
          "max",
          "julio",
          "janitor",
          "hayley",
          "van",
          "malcom",
          "cop",
          "stephanie",
          "sophie",
          "brenda",
          "male",
          "mich",
          "nina",
          "mischa",
          "jason",
          "megan",
          "tom",
          "casting",
          "rob",
          "wendy",
          "a",
          "ginger",
          "vince",
          "hillary",
          "teacher",
          "luisa",
          "cassie",
          "bitsy",
          "michelle",
          "leslie",
          "molly",
          "jade",
          "cheryl",
          "chip",
          "rtst",
          "helena",
          "grandmother",
          "charity",
          "passenger",
          "fake",
          "bob",
          "ronni",
          "both",
          "jack",
          "terry",
          "cliff",
          "fireman",
          "zack",
          "duncan",
          "fat",
          "larry",
          "robert",
          "amanda",
          "tommy",
          "aunt",
          "katie",
          "policeman",
          "lydia",
          "russ",
          "paolo",
          "erin",
          "caitlin",
          "lauren",
          "doctor",
          "roger",
          "ticket",
          "roy",
          "gene",
          "mindy",
          "fbob",
          "interviewer",
          "little",
          "laura",
          "aurora",
          "sarah",
          "earl",
          "estelle",
          "young",
          "dina",
          "chloe",
          "ryan",
          "kristen",
          "parker",
          "big",
          "lennart",
          "melissa",
          "sandy",
          "bonnie",
          "receptionist",
          "susie",
          "girl",
          "benjamin",
          "barry",
          "alice",
          "kim",
          "tim",
          "cecilia",
          "doug",
          "will",
          "mark",
          "julie",
          "nurse",
          "waiter",
          "steve",
          "danny",
          "kate",
          "eddie",
          "gavin",
          "guy",
          "man",
          "director",
          "eric",
          "ursula",
          "joanna",
          "ben",
          "jill",
          "janine",
          "erica",
          "elizabeth",
          "kathy",
          "joshua",
          "gary",
          "pete",
          "susan",
          "mona",
          "david",
          "amy",
          "gunther",
          "paul",
          "tag",
          "emily",
          "charlie",
          "frank",
          "carol",
          "janice",
          "richard",
          "mike",
          "phoebe",
          "joey",
          "monica",
          "chandler",
          "ross",
          "rachel"
         ],
         "legendgroup": "",
         "name": "",
         "showlegend": true,
         "textinfo": "percent+label",
         "textposition": "inside",
         "type": "pie",
         "values": [
          "Other characters",
          "Other characters",
          "Other characters",
          "Other characters",
          "Other characters",
          "Other characters",
          "Other characters",
          "Other characters",
          "Other characters",
          "Other characters",
          "Other characters",
          "Other characters",
          "Other characters",
          "Other characters",
          "Other characters",
          "Other characters",
          "Other characters",
          "Other characters",
          "Other characters",
          "Other characters",
          "Other characters",
          "Other characters",
          "Other characters",
          "Other characters",
          "Other characters",
          "Other characters",
          "Other characters",
          "Other characters",
          "Other characters",
          "Other characters",
          "Other characters",
          "Other characters",
          "Other characters",
          "Other characters",
          "Other characters",
          "Other characters",
          "Other characters",
          "Other characters",
          "Other characters",
          "Other characters",
          "Other characters",
          "Other characters",
          "Other characters",
          "Other characters",
          "Other characters",
          "Other characters",
          "Other characters",
          "Other characters",
          "Other characters",
          "Other characters",
          "Other characters",
          "Other characters",
          "Other characters",
          "Other characters",
          "Other characters",
          "Other characters",
          "Other characters",
          "Other characters",
          "Other characters",
          "Other characters",
          "Other characters",
          "Other characters",
          "Other characters",
          "Other characters",
          "Other characters",
          "Other characters",
          "Other characters",
          "Other characters",
          "Other characters",
          "Other characters",
          "Other characters",
          "Other characters",
          "Other characters",
          "Other characters",
          "Other characters",
          "Other characters",
          "Other characters",
          "Other characters",
          "Other characters",
          "Other characters",
          "Other characters",
          "Other characters",
          "Other characters",
          "Other characters",
          "Other characters",
          "Other characters",
          "Other characters",
          "Other characters",
          "Other characters",
          "Other characters",
          "Other characters",
          "Other characters",
          "Other characters",
          "Other characters",
          "Other characters",
          "Other characters",
          "Other characters",
          "Other characters",
          "Other characters",
          "Other characters",
          "Other characters",
          "Other characters",
          "Other characters",
          "Other characters",
          "Other characters",
          "Other characters",
          "Other characters",
          "Other characters",
          "Other characters",
          "Other characters",
          "Other characters",
          "Other characters",
          "Other characters",
          "Other characters",
          "Other characters",
          "Other characters",
          "Other characters",
          "Other characters",
          "Other characters",
          "Other characters",
          "Other characters",
          "Other characters",
          "Other characters",
          "Other characters",
          "Other characters",
          "Other characters",
          "Other characters",
          "Other characters",
          "Other characters",
          "Other characters",
          "Other characters",
          "Other characters",
          "Other characters",
          "Other characters",
          "Other characters",
          "Other characters",
          "Other characters",
          "Other characters",
          "Other characters",
          "Other characters",
          "Other characters",
          "Other characters",
          "Other characters",
          "Other characters",
          "Other characters",
          "Other characters",
          "Other characters",
          "Other characters",
          "Other characters",
          "Other characters",
          "Other characters",
          "Other characters",
          "Other characters",
          "Other characters",
          "Other characters",
          "Other characters",
          "Other characters",
          "Other characters",
          "Other characters",
          "Other characters",
          "Other characters",
          "Other characters",
          "Other characters",
          "Other characters",
          "Other characters",
          "Other characters",
          "Other characters",
          "Other characters",
          "Other characters",
          "Other characters",
          "Other characters",
          "Other characters",
          "Other characters",
          "Other characters",
          "Other characters",
          "Other characters",
          "Other characters",
          "Other characters",
          "Other characters",
          "Other characters",
          "Other characters",
          "Other characters",
          "Other characters",
          "Other characters",
          "Other characters",
          "Other characters",
          "Other characters",
          "Other characters",
          "Other characters",
          "Other characters",
          "Other characters",
          "Other characters",
          "Other characters",
          "Other characters",
          "Other characters",
          "Other characters",
          "Other characters",
          "Other characters",
          "Other characters",
          "Other characters",
          "Other characters",
          "Other characters",
          "Other characters",
          "Other characters",
          "Other characters",
          "Other characters",
          "Other characters",
          "Other characters",
          "Other characters",
          "Other characters",
          "Other characters",
          "Other characters",
          "Other characters",
          "Other characters",
          "Other characters",
          "Other characters",
          "Other characters",
          "Other characters",
          "Other characters",
          "Other characters",
          "Other characters",
          "Other characters",
          "Other characters",
          "Other characters",
          "Other characters",
          "Other characters",
          "Other characters",
          "Other characters",
          "Other characters",
          "Other characters",
          "Other characters",
          "Other characters",
          "Other characters",
          "Other characters",
          "Other characters",
          "Other characters",
          "Other characters",
          "Other characters",
          "Other characters",
          "Other characters",
          "Other characters",
          "Other characters",
          "Other characters",
          "Other characters",
          "Other characters",
          "Other characters",
          "Other characters",
          "Other characters",
          "Other characters",
          "Other characters",
          "Other characters",
          "Other characters",
          "Other characters",
          "Other characters",
          "Other characters",
          "Other characters",
          "Other characters",
          "Other characters",
          "Other characters",
          "Other characters",
          "Other characters",
          "Other characters",
          "Other characters",
          "Other characters",
          "Other characters",
          "Other characters",
          "Other characters",
          "Other characters",
          "Other characters",
          "Other characters",
          "Other characters",
          "Other characters",
          "Other characters",
          "Other characters",
          "Other characters",
          "Other characters",
          "Other characters",
          "Other characters",
          "Other characters",
          "Other characters",
          "Other characters",
          "Other characters",
          "Other characters",
          "Other characters",
          "Other characters",
          "Other characters",
          "Other characters",
          "Other characters",
          "Other characters",
          "Other characters",
          "Other characters",
          "Other characters",
          "Other characters",
          "Other characters",
          "Other characters",
          "Other characters",
          "Other characters",
          "Other characters",
          "Other characters",
          "Other characters",
          "Other characters",
          "Other characters",
          "Other characters",
          "Other characters",
          "Other characters",
          "Other characters",
          "Other characters",
          "Other characters",
          "Other characters",
          "Other characters",
          "Other characters",
          "Other characters",
          "Other characters",
          "Other characters",
          "Other characters",
          "Other characters",
          "Other characters",
          "Other characters",
          "Other characters",
          "Other characters",
          "Other characters",
          "Other characters",
          "Other characters",
          "Other characters",
          "Other characters",
          "Other characters",
          "Other characters",
          "Other characters",
          "Other characters",
          "Other characters",
          "Other characters",
          "Other characters",
          "Other characters",
          "Other characters",
          "Other characters",
          "Other characters",
          "Other characters",
          "Other characters",
          "Other characters",
          "Other characters",
          "Other characters",
          "Other characters",
          "Other characters",
          "Other characters",
          "Other characters",
          "Other characters",
          "Other characters",
          "Other characters",
          "Other characters",
          "Other characters",
          "Other characters",
          "Other characters",
          "Other characters",
          "Other characters",
          "Other characters",
          "Other characters",
          "Other characters",
          "Other characters",
          "Other characters",
          "Other characters",
          "Other characters",
          "Other characters",
          "Other characters",
          "Other characters",
          "Other characters",
          "Other characters",
          "Other characters",
          "Other characters",
          "Other characters",
          "Other characters",
          "Other characters",
          "Other characters",
          "Other characters",
          "Other characters",
          "Other characters",
          "Other characters",
          "Other characters",
          "Other characters",
          "Other characters",
          "Other characters",
          "Other characters",
          "Other characters",
          "Other characters",
          "Other characters",
          "Other characters",
          "Other characters",
          "Other characters",
          "Other characters",
          "Other characters",
          "Other characters",
          "Other characters",
          "Other characters",
          "Other characters",
          "Other characters",
          "Other characters",
          "Other characters",
          "Other characters",
          "Other characters",
          "Other characters",
          "Other characters",
          "Other characters",
          "Other characters",
          "Other characters",
          "Other characters",
          "Other characters",
          "Other characters",
          "Other characters",
          "Other characters",
          "Other characters",
          "Other characters",
          "Other characters",
          "Other characters",
          "Other characters",
          "Other characters",
          "Other characters",
          "Other characters",
          "Other characters",
          "Other characters",
          "Other characters",
          "Other characters",
          "Other characters",
          "Other characters",
          "Other characters",
          "Other characters",
          "Other characters",
          "Other characters",
          "Other characters",
          "Other characters",
          71,
          73,
          73,
          83,
          93,
          93,
          95,
          95,
          98,
          100,
          104,
          106,
          114,
          120,
          125,
          130,
          133,
          146,
          167,
          190,
          196,
          199,
          219,
          260,
          366,
          7586,
          8295,
          8456,
          8504,
          9104,
          9295
         ]
        }
       ],
       "layout": {
        "legend": {
         "tracegroupgap": 0
        },
        "piecolorway": [
         "#BFA1A1",
         "#6488C8",
         "#FCDA44",
         "#CFDB74",
         "#D88F53",
         "#843B73"
        ],
        "template": {
         "data": {
          "bar": [
           {
            "error_x": {
             "color": "#2a3f5f"
            },
            "error_y": {
             "color": "#2a3f5f"
            },
            "marker": {
             "line": {
              "color": "#E5ECF6",
              "width": 0.5
             },
             "pattern": {
              "fillmode": "overlay",
              "size": 10,
              "solidity": 0.2
             }
            },
            "type": "bar"
           }
          ],
          "barpolar": [
           {
            "marker": {
             "line": {
              "color": "#E5ECF6",
              "width": 0.5
             },
             "pattern": {
              "fillmode": "overlay",
              "size": 10,
              "solidity": 0.2
             }
            },
            "type": "barpolar"
           }
          ],
          "carpet": [
           {
            "aaxis": {
             "endlinecolor": "#2a3f5f",
             "gridcolor": "white",
             "linecolor": "white",
             "minorgridcolor": "white",
             "startlinecolor": "#2a3f5f"
            },
            "baxis": {
             "endlinecolor": "#2a3f5f",
             "gridcolor": "white",
             "linecolor": "white",
             "minorgridcolor": "white",
             "startlinecolor": "#2a3f5f"
            },
            "type": "carpet"
           }
          ],
          "choropleth": [
           {
            "colorbar": {
             "outlinewidth": 0,
             "ticks": ""
            },
            "type": "choropleth"
           }
          ],
          "contour": [
           {
            "colorbar": {
             "outlinewidth": 0,
             "ticks": ""
            },
            "colorscale": [
             [
              0,
              "#0d0887"
             ],
             [
              0.1111111111111111,
              "#46039f"
             ],
             [
              0.2222222222222222,
              "#7201a8"
             ],
             [
              0.3333333333333333,
              "#9c179e"
             ],
             [
              0.4444444444444444,
              "#bd3786"
             ],
             [
              0.5555555555555556,
              "#d8576b"
             ],
             [
              0.6666666666666666,
              "#ed7953"
             ],
             [
              0.7777777777777778,
              "#fb9f3a"
             ],
             [
              0.8888888888888888,
              "#fdca26"
             ],
             [
              1,
              "#f0f921"
             ]
            ],
            "type": "contour"
           }
          ],
          "contourcarpet": [
           {
            "colorbar": {
             "outlinewidth": 0,
             "ticks": ""
            },
            "type": "contourcarpet"
           }
          ],
          "heatmap": [
           {
            "colorbar": {
             "outlinewidth": 0,
             "ticks": ""
            },
            "colorscale": [
             [
              0,
              "#0d0887"
             ],
             [
              0.1111111111111111,
              "#46039f"
             ],
             [
              0.2222222222222222,
              "#7201a8"
             ],
             [
              0.3333333333333333,
              "#9c179e"
             ],
             [
              0.4444444444444444,
              "#bd3786"
             ],
             [
              0.5555555555555556,
              "#d8576b"
             ],
             [
              0.6666666666666666,
              "#ed7953"
             ],
             [
              0.7777777777777778,
              "#fb9f3a"
             ],
             [
              0.8888888888888888,
              "#fdca26"
             ],
             [
              1,
              "#f0f921"
             ]
            ],
            "type": "heatmap"
           }
          ],
          "heatmapgl": [
           {
            "colorbar": {
             "outlinewidth": 0,
             "ticks": ""
            },
            "colorscale": [
             [
              0,
              "#0d0887"
             ],
             [
              0.1111111111111111,
              "#46039f"
             ],
             [
              0.2222222222222222,
              "#7201a8"
             ],
             [
              0.3333333333333333,
              "#9c179e"
             ],
             [
              0.4444444444444444,
              "#bd3786"
             ],
             [
              0.5555555555555556,
              "#d8576b"
             ],
             [
              0.6666666666666666,
              "#ed7953"
             ],
             [
              0.7777777777777778,
              "#fb9f3a"
             ],
             [
              0.8888888888888888,
              "#fdca26"
             ],
             [
              1,
              "#f0f921"
             ]
            ],
            "type": "heatmapgl"
           }
          ],
          "histogram": [
           {
            "marker": {
             "pattern": {
              "fillmode": "overlay",
              "size": 10,
              "solidity": 0.2
             }
            },
            "type": "histogram"
           }
          ],
          "histogram2d": [
           {
            "colorbar": {
             "outlinewidth": 0,
             "ticks": ""
            },
            "colorscale": [
             [
              0,
              "#0d0887"
             ],
             [
              0.1111111111111111,
              "#46039f"
             ],
             [
              0.2222222222222222,
              "#7201a8"
             ],
             [
              0.3333333333333333,
              "#9c179e"
             ],
             [
              0.4444444444444444,
              "#bd3786"
             ],
             [
              0.5555555555555556,
              "#d8576b"
             ],
             [
              0.6666666666666666,
              "#ed7953"
             ],
             [
              0.7777777777777778,
              "#fb9f3a"
             ],
             [
              0.8888888888888888,
              "#fdca26"
             ],
             [
              1,
              "#f0f921"
             ]
            ],
            "type": "histogram2d"
           }
          ],
          "histogram2dcontour": [
           {
            "colorbar": {
             "outlinewidth": 0,
             "ticks": ""
            },
            "colorscale": [
             [
              0,
              "#0d0887"
             ],
             [
              0.1111111111111111,
              "#46039f"
             ],
             [
              0.2222222222222222,
              "#7201a8"
             ],
             [
              0.3333333333333333,
              "#9c179e"
             ],
             [
              0.4444444444444444,
              "#bd3786"
             ],
             [
              0.5555555555555556,
              "#d8576b"
             ],
             [
              0.6666666666666666,
              "#ed7953"
             ],
             [
              0.7777777777777778,
              "#fb9f3a"
             ],
             [
              0.8888888888888888,
              "#fdca26"
             ],
             [
              1,
              "#f0f921"
             ]
            ],
            "type": "histogram2dcontour"
           }
          ],
          "mesh3d": [
           {
            "colorbar": {
             "outlinewidth": 0,
             "ticks": ""
            },
            "type": "mesh3d"
           }
          ],
          "parcoords": [
           {
            "line": {
             "colorbar": {
              "outlinewidth": 0,
              "ticks": ""
             }
            },
            "type": "parcoords"
           }
          ],
          "pie": [
           {
            "automargin": true,
            "type": "pie"
           }
          ],
          "scatter": [
           {
            "fillpattern": {
             "fillmode": "overlay",
             "size": 10,
             "solidity": 0.2
            },
            "type": "scatter"
           }
          ],
          "scatter3d": [
           {
            "line": {
             "colorbar": {
              "outlinewidth": 0,
              "ticks": ""
             }
            },
            "marker": {
             "colorbar": {
              "outlinewidth": 0,
              "ticks": ""
             }
            },
            "type": "scatter3d"
           }
          ],
          "scattercarpet": [
           {
            "marker": {
             "colorbar": {
              "outlinewidth": 0,
              "ticks": ""
             }
            },
            "type": "scattercarpet"
           }
          ],
          "scattergeo": [
           {
            "marker": {
             "colorbar": {
              "outlinewidth": 0,
              "ticks": ""
             }
            },
            "type": "scattergeo"
           }
          ],
          "scattergl": [
           {
            "marker": {
             "colorbar": {
              "outlinewidth": 0,
              "ticks": ""
             }
            },
            "type": "scattergl"
           }
          ],
          "scattermapbox": [
           {
            "marker": {
             "colorbar": {
              "outlinewidth": 0,
              "ticks": ""
             }
            },
            "type": "scattermapbox"
           }
          ],
          "scatterpolar": [
           {
            "marker": {
             "colorbar": {
              "outlinewidth": 0,
              "ticks": ""
             }
            },
            "type": "scatterpolar"
           }
          ],
          "scatterpolargl": [
           {
            "marker": {
             "colorbar": {
              "outlinewidth": 0,
              "ticks": ""
             }
            },
            "type": "scatterpolargl"
           }
          ],
          "scatterternary": [
           {
            "marker": {
             "colorbar": {
              "outlinewidth": 0,
              "ticks": ""
             }
            },
            "type": "scatterternary"
           }
          ],
          "surface": [
           {
            "colorbar": {
             "outlinewidth": 0,
             "ticks": ""
            },
            "colorscale": [
             [
              0,
              "#0d0887"
             ],
             [
              0.1111111111111111,
              "#46039f"
             ],
             [
              0.2222222222222222,
              "#7201a8"
             ],
             [
              0.3333333333333333,
              "#9c179e"
             ],
             [
              0.4444444444444444,
              "#bd3786"
             ],
             [
              0.5555555555555556,
              "#d8576b"
             ],
             [
              0.6666666666666666,
              "#ed7953"
             ],
             [
              0.7777777777777778,
              "#fb9f3a"
             ],
             [
              0.8888888888888888,
              "#fdca26"
             ],
             [
              1,
              "#f0f921"
             ]
            ],
            "type": "surface"
           }
          ],
          "table": [
           {
            "cells": {
             "fill": {
              "color": "#EBF0F8"
             },
             "line": {
              "color": "white"
             }
            },
            "header": {
             "fill": {
              "color": "#C8D4E3"
             },
             "line": {
              "color": "white"
             }
            },
            "type": "table"
           }
          ]
         },
         "layout": {
          "annotationdefaults": {
           "arrowcolor": "#2a3f5f",
           "arrowhead": 0,
           "arrowwidth": 1
          },
          "autotypenumbers": "strict",
          "coloraxis": {
           "colorbar": {
            "outlinewidth": 0,
            "ticks": ""
           }
          },
          "colorscale": {
           "diverging": [
            [
             0,
             "#8e0152"
            ],
            [
             0.1,
             "#c51b7d"
            ],
            [
             0.2,
             "#de77ae"
            ],
            [
             0.3,
             "#f1b6da"
            ],
            [
             0.4,
             "#fde0ef"
            ],
            [
             0.5,
             "#f7f7f7"
            ],
            [
             0.6,
             "#e6f5d0"
            ],
            [
             0.7,
             "#b8e186"
            ],
            [
             0.8,
             "#7fbc41"
            ],
            [
             0.9,
             "#4d9221"
            ],
            [
             1,
             "#276419"
            ]
           ],
           "sequential": [
            [
             0,
             "#0d0887"
            ],
            [
             0.1111111111111111,
             "#46039f"
            ],
            [
             0.2222222222222222,
             "#7201a8"
            ],
            [
             0.3333333333333333,
             "#9c179e"
            ],
            [
             0.4444444444444444,
             "#bd3786"
            ],
            [
             0.5555555555555556,
             "#d8576b"
            ],
            [
             0.6666666666666666,
             "#ed7953"
            ],
            [
             0.7777777777777778,
             "#fb9f3a"
            ],
            [
             0.8888888888888888,
             "#fdca26"
            ],
            [
             1,
             "#f0f921"
            ]
           ],
           "sequentialminus": [
            [
             0,
             "#0d0887"
            ],
            [
             0.1111111111111111,
             "#46039f"
            ],
            [
             0.2222222222222222,
             "#7201a8"
            ],
            [
             0.3333333333333333,
             "#9c179e"
            ],
            [
             0.4444444444444444,
             "#bd3786"
            ],
            [
             0.5555555555555556,
             "#d8576b"
            ],
            [
             0.6666666666666666,
             "#ed7953"
            ],
            [
             0.7777777777777778,
             "#fb9f3a"
            ],
            [
             0.8888888888888888,
             "#fdca26"
            ],
            [
             1,
             "#f0f921"
            ]
           ]
          },
          "colorway": [
           "#636efa",
           "#EF553B",
           "#00cc96",
           "#ab63fa",
           "#FFA15A",
           "#19d3f3",
           "#FF6692",
           "#B6E880",
           "#FF97FF",
           "#FECB52"
          ],
          "font": {
           "color": "#2a3f5f"
          },
          "geo": {
           "bgcolor": "white",
           "lakecolor": "white",
           "landcolor": "#E5ECF6",
           "showlakes": true,
           "showland": true,
           "subunitcolor": "white"
          },
          "hoverlabel": {
           "align": "left"
          },
          "hovermode": "closest",
          "mapbox": {
           "style": "light"
          },
          "paper_bgcolor": "white",
          "plot_bgcolor": "#E5ECF6",
          "polar": {
           "angularaxis": {
            "gridcolor": "white",
            "linecolor": "white",
            "ticks": ""
           },
           "bgcolor": "#E5ECF6",
           "radialaxis": {
            "gridcolor": "white",
            "linecolor": "white",
            "ticks": ""
           }
          },
          "scene": {
           "xaxis": {
            "backgroundcolor": "#E5ECF6",
            "gridcolor": "white",
            "gridwidth": 2,
            "linecolor": "white",
            "showbackground": true,
            "ticks": "",
            "zerolinecolor": "white"
           },
           "yaxis": {
            "backgroundcolor": "#E5ECF6",
            "gridcolor": "white",
            "gridwidth": 2,
            "linecolor": "white",
            "showbackground": true,
            "ticks": "",
            "zerolinecolor": "white"
           },
           "zaxis": {
            "backgroundcolor": "#E5ECF6",
            "gridcolor": "white",
            "gridwidth": 2,
            "linecolor": "white",
            "showbackground": true,
            "ticks": "",
            "zerolinecolor": "white"
           }
          },
          "shapedefaults": {
           "line": {
            "color": "#2a3f5f"
           }
          },
          "ternary": {
           "aaxis": {
            "gridcolor": "white",
            "linecolor": "white",
            "ticks": ""
           },
           "baxis": {
            "gridcolor": "white",
            "linecolor": "white",
            "ticks": ""
           },
           "bgcolor": "#E5ECF6",
           "caxis": {
            "gridcolor": "white",
            "linecolor": "white",
            "ticks": ""
           }
          },
          "title": {
           "x": 0.05
          },
          "xaxis": {
           "automargin": true,
           "gridcolor": "white",
           "linecolor": "white",
           "ticks": "",
           "title": {
            "standoff": 15
           },
           "zerolinecolor": "white",
           "zerolinewidth": 2
          },
          "yaxis": {
           "automargin": true,
           "gridcolor": "white",
           "linecolor": "white",
           "ticks": "",
           "title": {
            "standoff": 15
           },
           "zerolinecolor": "white",
           "zerolinewidth": 2
          }
         }
        },
        "title": {
         "text": "(Casi) todos los personajes que aparecen en la serie"
        }
       }
      },
      "text/html": [
       "<div>                            <div id=\"0d6ee7ed-58fc-4200-8c02-a8b1fe622a7f\" class=\"plotly-graph-div\" style=\"height:525px; width:100%;\"></div>            <script type=\"text/javascript\">                require([\"plotly\"], function(Plotly) {                    window.PLOTLYENV=window.PLOTLYENV || {};                                    if (document.getElementById(\"0d6ee7ed-58fc-4200-8c02-a8b1fe622a7f\")) {                    Plotly.newPlot(                        \"0d6ee7ed-58fc-4200-8c02-a8b1fe622a7f\",                        [{\"domain\":{\"x\":[0.0,1.0],\"y\":[0.0,1.0]},\"hole\":0.4,\"hovertemplate\":\"character=%{label}<br>line=%{value}<extra></extra>\",\"labels\":[\"1st\",\"party\",\"paleontologist\",\"pa\",\"oven\",\"old\",\"narrator\",\"mel\",\"marge\",\"locksmith\",\"jo\",\"jeanette\",\"jane\",\"henrietta\",\"heather\",\"health\",\"gunter\",\"french\",\"fredrick\",\"extra\",\"employee\",\"emma\",\"emil\",\"emeril\",\"customers\",\"cowgirl\",\"clown\",\"chase\",\"passerby\",\"chandlers\",\"past\",\"petrie\",\"writer\",\"witch\",\"wedding\",\"video\",\"uncle\",\"transit\",\"together\",\"tattoo\",\"strange\",\"soothing\",\"smoke\",\"smart\",\"sister\",\"shop\",\"sherman\",\"secretary\",\"same\",\"referee\",\"raymond\",\"rache\",\"racel\",\"r\",\"professore\",\"prof\",\"priest\",\"present\",\"phoe\",\"peter\",\"chan\",\"zoe\",\"bass\",\"boys\",\"adoption\",\"alexandra\",\"actor\",\"anchorwoman\",\"amger\",\"alison\",\"blonde\",\"ashley\",\"2nd\",\"attendant\",\"alex\",\"message\",\"sick\",\"bank\",\"kevin\",\"dick\",\"older\",\"andrea\",\"sid\",\"handyman\",\"frankie\",\"first\",\"meg\",\"drunk\",\"drunken\",\"hope\",\"santos\",\"helen\",\"sally\",\"radio\",\"realtor\",\"blackjack\",\"ernie\",\"ralph\",\"glenda\",\"matress\",\"spokeswoman\",\"trainer\",\"3rd\",\"kitchen\",\"casey\",\"karin\",\"waiters\",\"lecturer\",\"buffay\",\"gerston\",\"pbs\",\"her\",\"adrienne\",\"tape\",\"rahcel\",\"phil\",\"matire\",\"jennifer\",\"arthur\",\"jeannie\",\"mac\",\"gail\",\"answering\",\"croupler\",\"fun\",\"store\",\"front\",\"ballerina\",\"girls\",\"best\",\"patrick\",\"gert\",\"mugger\",\"fergie\",\"bandleader\",\"guest\",\"paulo\",\"others\",\"hotel\",\"bernice\",\"kids\",\"burt\",\"lisa\",\"tony\",\"claudia\",\"jeannine\",\"commercial\",\"marjorie\",\"stevens\",\"everybody\",\"matthew\",\"sleep\",\"patron\",\"hypnosis\",\"mover\",\"rita\",\"salesman\",\"intercom\",\"minster\",\"salon\",\"dirk\",\"hoshi\",\"jester\",\"host\",\"marsha\",\"hold\",\"hums\",\"lady\",\"kara\",\"kiki\",\"hooker\",\"hilda\",\"c\",\"anxious\",\"voice\",\"catherine\",\"cookie\",\"cynthia\",\"sonia\",\"dave\",\"devon\",\"singer\",\"security\",\"drew\",\"scott\",\"eldad\",\"airline\",\"bitter\",\"prospective\",\"ken\",\"jay\",\"photographer\",\"joanne\",\"boss\",\"jake\",\"danielle\",\"guys\",\"josh\",\"stripper\",\"another\",\"kristin\",\"leader\",\"whitfield\",\"amber\",\"producer\",\"robbie\",\"felicity\",\"female\",\"jen\",\"second\",\"quartet\",\"housekeeper\",\"caroline\",\"lipson\",\"tour\",\"tall\",\"cailin\",\"lorraine\",\"stu\",\"celia\",\"gang\",\"estl\",\"intern\",\"ray\",\"evil\",\"hitchhiker\",\"stanley\",\"dream\",\"paula\",\"gym\",\"alan\",\"stranger\",\"waitress\",\"sergei\",\"kori\",\"air\",\"kyle\",\"mary\",\"actress\",\"tv\",\"machine\",\"annabelle\",\"marc\",\"liam\",\"cashier\",\"clerk\",\"boy\",\"coma\",\"dan\",\"delivery\",\"grandma\",\"fran\",\"frannie\",\"kid\",\"manny\",\"jasmine\",\"melanie\",\"pizza\",\"dennis\",\"professor\",\"maitre\",\"supervisor\",\"tilly\",\"whitney\",\"announcer\",\"jessica\",\"flight\",\"kash\",\"hombre\",\"sebastian\",\"nancy\",\"stage\",\"colleen\",\"bobby\",\"krista\",\"theodore\",\"charlton\",\"carl\",\"student\",\"morse\",\"ms\",\"isabella\",\"bill\",\"owen\",\"rick\",\"lewis\",\"missy\",\"judy\",\"precious\",\"billy\",\"assistant\",\"allesandro\",\"dana\",\"agency\",\"wayne\",\"robin\",\"lizzie\",\"judge\",\"jamie\",\"margha\",\"lowell\",\"mackenzie\",\"gate\",\"friend\",\"everyone\",\"shelley\",\"donny\",\"don\",\"issac\",\"russell\",\"trudie\",\"customer\",\"minister\",\"jim\",\"guru\",\"angela\",\"max\",\"julio\",\"janitor\",\"hayley\",\"van\",\"malcom\",\"cop\",\"stephanie\",\"sophie\",\"brenda\",\"male\",\"mich\",\"nina\",\"mischa\",\"jason\",\"megan\",\"tom\",\"casting\",\"rob\",\"wendy\",\"a\",\"ginger\",\"vince\",\"hillary\",\"teacher\",\"luisa\",\"cassie\",\"bitsy\",\"michelle\",\"leslie\",\"molly\",\"jade\",\"cheryl\",\"chip\",\"rtst\",\"helena\",\"grandmother\",\"charity\",\"passenger\",\"fake\",\"bob\",\"ronni\",\"both\",\"jack\",\"terry\",\"cliff\",\"fireman\",\"zack\",\"duncan\",\"fat\",\"larry\",\"robert\",\"amanda\",\"tommy\",\"aunt\",\"katie\",\"policeman\",\"lydia\",\"russ\",\"paolo\",\"erin\",\"caitlin\",\"lauren\",\"doctor\",\"roger\",\"ticket\",\"roy\",\"gene\",\"mindy\",\"fbob\",\"interviewer\",\"little\",\"laura\",\"aurora\",\"sarah\",\"earl\",\"estelle\",\"young\",\"dina\",\"chloe\",\"ryan\",\"kristen\",\"parker\",\"big\",\"lennart\",\"melissa\",\"sandy\",\"bonnie\",\"receptionist\",\"susie\",\"girl\",\"benjamin\",\"barry\",\"alice\",\"kim\",\"tim\",\"cecilia\",\"doug\",\"will\",\"mark\",\"julie\",\"nurse\",\"waiter\",\"steve\",\"danny\",\"kate\",\"eddie\",\"gavin\",\"guy\",\"man\",\"director\",\"eric\",\"ursula\",\"joanna\",\"ben\",\"jill\",\"janine\",\"erica\",\"elizabeth\",\"kathy\",\"joshua\",\"gary\",\"pete\",\"susan\",\"mona\",\"david\",\"amy\",\"gunther\",\"paul\",\"tag\",\"emily\",\"charlie\",\"frank\",\"carol\",\"janice\",\"richard\",\"mike\",\"phoebe\",\"joey\",\"monica\",\"chandler\",\"ross\",\"rachel\"],\"legendgroup\":\"\",\"name\":\"\",\"showlegend\":true,\"textinfo\":\"percent+label\",\"textposition\":\"inside\",\"values\":[\"Other characters\",\"Other characters\",\"Other characters\",\"Other characters\",\"Other characters\",\"Other characters\",\"Other characters\",\"Other characters\",\"Other characters\",\"Other characters\",\"Other characters\",\"Other characters\",\"Other characters\",\"Other characters\",\"Other characters\",\"Other characters\",\"Other characters\",\"Other characters\",\"Other characters\",\"Other characters\",\"Other characters\",\"Other characters\",\"Other characters\",\"Other characters\",\"Other characters\",\"Other characters\",\"Other characters\",\"Other characters\",\"Other characters\",\"Other characters\",\"Other characters\",\"Other characters\",\"Other characters\",\"Other characters\",\"Other characters\",\"Other characters\",\"Other characters\",\"Other characters\",\"Other characters\",\"Other characters\",\"Other characters\",\"Other characters\",\"Other characters\",\"Other characters\",\"Other characters\",\"Other characters\",\"Other characters\",\"Other characters\",\"Other characters\",\"Other characters\",\"Other characters\",\"Other characters\",\"Other characters\",\"Other characters\",\"Other characters\",\"Other characters\",\"Other characters\",\"Other characters\",\"Other characters\",\"Other characters\",\"Other characters\",\"Other characters\",\"Other characters\",\"Other characters\",\"Other characters\",\"Other characters\",\"Other characters\",\"Other characters\",\"Other characters\",\"Other characters\",\"Other characters\",\"Other characters\",\"Other characters\",\"Other characters\",\"Other characters\",\"Other characters\",\"Other characters\",\"Other characters\",\"Other characters\",\"Other characters\",\"Other characters\",\"Other characters\",\"Other characters\",\"Other characters\",\"Other characters\",\"Other characters\",\"Other characters\",\"Other characters\",\"Other characters\",\"Other characters\",\"Other characters\",\"Other characters\",\"Other characters\",\"Other characters\",\"Other characters\",\"Other characters\",\"Other characters\",\"Other characters\",\"Other characters\",\"Other characters\",\"Other characters\",\"Other characters\",\"Other characters\",\"Other characters\",\"Other characters\",\"Other characters\",\"Other characters\",\"Other characters\",\"Other characters\",\"Other characters\",\"Other characters\",\"Other characters\",\"Other characters\",\"Other characters\",\"Other characters\",\"Other characters\",\"Other characters\",\"Other characters\",\"Other characters\",\"Other characters\",\"Other characters\",\"Other characters\",\"Other characters\",\"Other characters\",\"Other characters\",\"Other characters\",\"Other characters\",\"Other characters\",\"Other characters\",\"Other characters\",\"Other characters\",\"Other characters\",\"Other characters\",\"Other characters\",\"Other characters\",\"Other characters\",\"Other characters\",\"Other characters\",\"Other characters\",\"Other characters\",\"Other characters\",\"Other characters\",\"Other characters\",\"Other characters\",\"Other characters\",\"Other characters\",\"Other characters\",\"Other characters\",\"Other characters\",\"Other characters\",\"Other characters\",\"Other characters\",\"Other characters\",\"Other characters\",\"Other characters\",\"Other characters\",\"Other characters\",\"Other characters\",\"Other characters\",\"Other characters\",\"Other characters\",\"Other characters\",\"Other characters\",\"Other characters\",\"Other characters\",\"Other characters\",\"Other characters\",\"Other characters\",\"Other characters\",\"Other characters\",\"Other characters\",\"Other characters\",\"Other characters\",\"Other characters\",\"Other characters\",\"Other characters\",\"Other characters\",\"Other characters\",\"Other characters\",\"Other characters\",\"Other characters\",\"Other characters\",\"Other characters\",\"Other characters\",\"Other characters\",\"Other characters\",\"Other characters\",\"Other characters\",\"Other characters\",\"Other characters\",\"Other characters\",\"Other characters\",\"Other characters\",\"Other characters\",\"Other characters\",\"Other characters\",\"Other characters\",\"Other characters\",\"Other characters\",\"Other characters\",\"Other characters\",\"Other characters\",\"Other characters\",\"Other characters\",\"Other characters\",\"Other characters\",\"Other characters\",\"Other characters\",\"Other characters\",\"Other characters\",\"Other characters\",\"Other characters\",\"Other characters\",\"Other characters\",\"Other characters\",\"Other characters\",\"Other characters\",\"Other characters\",\"Other characters\",\"Other characters\",\"Other characters\",\"Other characters\",\"Other characters\",\"Other characters\",\"Other characters\",\"Other characters\",\"Other characters\",\"Other characters\",\"Other characters\",\"Other characters\",\"Other characters\",\"Other characters\",\"Other characters\",\"Other characters\",\"Other characters\",\"Other characters\",\"Other characters\",\"Other characters\",\"Other characters\",\"Other characters\",\"Other characters\",\"Other characters\",\"Other characters\",\"Other characters\",\"Other characters\",\"Other characters\",\"Other characters\",\"Other characters\",\"Other characters\",\"Other characters\",\"Other characters\",\"Other characters\",\"Other characters\",\"Other characters\",\"Other characters\",\"Other characters\",\"Other characters\",\"Other characters\",\"Other characters\",\"Other characters\",\"Other characters\",\"Other characters\",\"Other characters\",\"Other characters\",\"Other characters\",\"Other characters\",\"Other characters\",\"Other characters\",\"Other characters\",\"Other characters\",\"Other characters\",\"Other characters\",\"Other characters\",\"Other characters\",\"Other characters\",\"Other characters\",\"Other characters\",\"Other characters\",\"Other characters\",\"Other characters\",\"Other characters\",\"Other characters\",\"Other characters\",\"Other characters\",\"Other characters\",\"Other characters\",\"Other characters\",\"Other characters\",\"Other characters\",\"Other characters\",\"Other characters\",\"Other characters\",\"Other characters\",\"Other characters\",\"Other characters\",\"Other characters\",\"Other characters\",\"Other characters\",\"Other characters\",\"Other characters\",\"Other characters\",\"Other characters\",\"Other characters\",\"Other characters\",\"Other characters\",\"Other characters\",\"Other characters\",\"Other characters\",\"Other characters\",\"Other characters\",\"Other characters\",\"Other characters\",\"Other characters\",\"Other characters\",\"Other characters\",\"Other characters\",\"Other characters\",\"Other characters\",\"Other characters\",\"Other characters\",\"Other characters\",\"Other characters\",\"Other characters\",\"Other characters\",\"Other characters\",\"Other characters\",\"Other characters\",\"Other characters\",\"Other characters\",\"Other characters\",\"Other characters\",\"Other characters\",\"Other characters\",\"Other characters\",\"Other characters\",\"Other characters\",\"Other characters\",\"Other characters\",\"Other characters\",\"Other characters\",\"Other characters\",\"Other characters\",\"Other characters\",\"Other characters\",\"Other characters\",\"Other characters\",\"Other characters\",\"Other characters\",\"Other characters\",\"Other characters\",\"Other characters\",\"Other characters\",\"Other characters\",\"Other characters\",\"Other characters\",\"Other characters\",\"Other characters\",\"Other characters\",\"Other characters\",\"Other characters\",\"Other characters\",\"Other characters\",\"Other characters\",\"Other characters\",\"Other characters\",\"Other characters\",\"Other characters\",\"Other characters\",\"Other characters\",\"Other characters\",\"Other characters\",\"Other characters\",\"Other characters\",\"Other characters\",\"Other characters\",\"Other characters\",\"Other characters\",\"Other characters\",\"Other characters\",\"Other characters\",\"Other characters\",\"Other characters\",\"Other characters\",\"Other characters\",\"Other characters\",\"Other characters\",\"Other characters\",\"Other characters\",\"Other characters\",\"Other characters\",\"Other characters\",\"Other characters\",\"Other characters\",\"Other characters\",\"Other characters\",\"Other characters\",\"Other characters\",\"Other characters\",\"Other characters\",\"Other characters\",\"Other characters\",\"Other characters\",\"Other characters\",\"Other characters\",\"Other characters\",\"Other characters\",\"Other characters\",\"Other characters\",\"Other characters\",\"Other characters\",\"Other characters\",\"Other characters\",\"Other characters\",\"Other characters\",\"Other characters\",\"Other characters\",\"Other characters\",\"Other characters\",\"Other characters\",\"Other characters\",\"Other characters\",\"Other characters\",\"Other characters\",\"Other characters\",\"Other characters\",\"Other characters\",\"Other characters\",\"Other characters\",71,73,73,83,93,93,95,95,98,100,104,106,114,120,125,130,133,146,167,190,196,199,219,260,366,7586,8295,8456,8504,9104,9295],\"type\":\"pie\"}],                        {\"legend\":{\"tracegroupgap\":0},\"piecolorway\":[\"#BFA1A1\",\"#6488C8\",\"#FCDA44\",\"#CFDB74\",\"#D88F53\",\"#843B73\"],\"template\":{\"data\":{\"barpolar\":[{\"marker\":{\"line\":{\"color\":\"#E5ECF6\",\"width\":0.5},\"pattern\":{\"fillmode\":\"overlay\",\"size\":10,\"solidity\":0.2}},\"type\":\"barpolar\"}],\"bar\":[{\"error_x\":{\"color\":\"#2a3f5f\"},\"error_y\":{\"color\":\"#2a3f5f\"},\"marker\":{\"line\":{\"color\":\"#E5ECF6\",\"width\":0.5},\"pattern\":{\"fillmode\":\"overlay\",\"size\":10,\"solidity\":0.2}},\"type\":\"bar\"}],\"carpet\":[{\"aaxis\":{\"endlinecolor\":\"#2a3f5f\",\"gridcolor\":\"white\",\"linecolor\":\"white\",\"minorgridcolor\":\"white\",\"startlinecolor\":\"#2a3f5f\"},\"baxis\":{\"endlinecolor\":\"#2a3f5f\",\"gridcolor\":\"white\",\"linecolor\":\"white\",\"minorgridcolor\":\"white\",\"startlinecolor\":\"#2a3f5f\"},\"type\":\"carpet\"}],\"choropleth\":[{\"colorbar\":{\"outlinewidth\":0,\"ticks\":\"\"},\"type\":\"choropleth\"}],\"contourcarpet\":[{\"colorbar\":{\"outlinewidth\":0,\"ticks\":\"\"},\"type\":\"contourcarpet\"}],\"contour\":[{\"colorbar\":{\"outlinewidth\":0,\"ticks\":\"\"},\"colorscale\":[[0.0,\"#0d0887\"],[0.1111111111111111,\"#46039f\"],[0.2222222222222222,\"#7201a8\"],[0.3333333333333333,\"#9c179e\"],[0.4444444444444444,\"#bd3786\"],[0.5555555555555556,\"#d8576b\"],[0.6666666666666666,\"#ed7953\"],[0.7777777777777778,\"#fb9f3a\"],[0.8888888888888888,\"#fdca26\"],[1.0,\"#f0f921\"]],\"type\":\"contour\"}],\"heatmapgl\":[{\"colorbar\":{\"outlinewidth\":0,\"ticks\":\"\"},\"colorscale\":[[0.0,\"#0d0887\"],[0.1111111111111111,\"#46039f\"],[0.2222222222222222,\"#7201a8\"],[0.3333333333333333,\"#9c179e\"],[0.4444444444444444,\"#bd3786\"],[0.5555555555555556,\"#d8576b\"],[0.6666666666666666,\"#ed7953\"],[0.7777777777777778,\"#fb9f3a\"],[0.8888888888888888,\"#fdca26\"],[1.0,\"#f0f921\"]],\"type\":\"heatmapgl\"}],\"heatmap\":[{\"colorbar\":{\"outlinewidth\":0,\"ticks\":\"\"},\"colorscale\":[[0.0,\"#0d0887\"],[0.1111111111111111,\"#46039f\"],[0.2222222222222222,\"#7201a8\"],[0.3333333333333333,\"#9c179e\"],[0.4444444444444444,\"#bd3786\"],[0.5555555555555556,\"#d8576b\"],[0.6666666666666666,\"#ed7953\"],[0.7777777777777778,\"#fb9f3a\"],[0.8888888888888888,\"#fdca26\"],[1.0,\"#f0f921\"]],\"type\":\"heatmap\"}],\"histogram2dcontour\":[{\"colorbar\":{\"outlinewidth\":0,\"ticks\":\"\"},\"colorscale\":[[0.0,\"#0d0887\"],[0.1111111111111111,\"#46039f\"],[0.2222222222222222,\"#7201a8\"],[0.3333333333333333,\"#9c179e\"],[0.4444444444444444,\"#bd3786\"],[0.5555555555555556,\"#d8576b\"],[0.6666666666666666,\"#ed7953\"],[0.7777777777777778,\"#fb9f3a\"],[0.8888888888888888,\"#fdca26\"],[1.0,\"#f0f921\"]],\"type\":\"histogram2dcontour\"}],\"histogram2d\":[{\"colorbar\":{\"outlinewidth\":0,\"ticks\":\"\"},\"colorscale\":[[0.0,\"#0d0887\"],[0.1111111111111111,\"#46039f\"],[0.2222222222222222,\"#7201a8\"],[0.3333333333333333,\"#9c179e\"],[0.4444444444444444,\"#bd3786\"],[0.5555555555555556,\"#d8576b\"],[0.6666666666666666,\"#ed7953\"],[0.7777777777777778,\"#fb9f3a\"],[0.8888888888888888,\"#fdca26\"],[1.0,\"#f0f921\"]],\"type\":\"histogram2d\"}],\"histogram\":[{\"marker\":{\"pattern\":{\"fillmode\":\"overlay\",\"size\":10,\"solidity\":0.2}},\"type\":\"histogram\"}],\"mesh3d\":[{\"colorbar\":{\"outlinewidth\":0,\"ticks\":\"\"},\"type\":\"mesh3d\"}],\"parcoords\":[{\"line\":{\"colorbar\":{\"outlinewidth\":0,\"ticks\":\"\"}},\"type\":\"parcoords\"}],\"pie\":[{\"automargin\":true,\"type\":\"pie\"}],\"scatter3d\":[{\"line\":{\"colorbar\":{\"outlinewidth\":0,\"ticks\":\"\"}},\"marker\":{\"colorbar\":{\"outlinewidth\":0,\"ticks\":\"\"}},\"type\":\"scatter3d\"}],\"scattercarpet\":[{\"marker\":{\"colorbar\":{\"outlinewidth\":0,\"ticks\":\"\"}},\"type\":\"scattercarpet\"}],\"scattergeo\":[{\"marker\":{\"colorbar\":{\"outlinewidth\":0,\"ticks\":\"\"}},\"type\":\"scattergeo\"}],\"scattergl\":[{\"marker\":{\"colorbar\":{\"outlinewidth\":0,\"ticks\":\"\"}},\"type\":\"scattergl\"}],\"scattermapbox\":[{\"marker\":{\"colorbar\":{\"outlinewidth\":0,\"ticks\":\"\"}},\"type\":\"scattermapbox\"}],\"scatterpolargl\":[{\"marker\":{\"colorbar\":{\"outlinewidth\":0,\"ticks\":\"\"}},\"type\":\"scatterpolargl\"}],\"scatterpolar\":[{\"marker\":{\"colorbar\":{\"outlinewidth\":0,\"ticks\":\"\"}},\"type\":\"scatterpolar\"}],\"scatter\":[{\"fillpattern\":{\"fillmode\":\"overlay\",\"size\":10,\"solidity\":0.2},\"type\":\"scatter\"}],\"scatterternary\":[{\"marker\":{\"colorbar\":{\"outlinewidth\":0,\"ticks\":\"\"}},\"type\":\"scatterternary\"}],\"surface\":[{\"colorbar\":{\"outlinewidth\":0,\"ticks\":\"\"},\"colorscale\":[[0.0,\"#0d0887\"],[0.1111111111111111,\"#46039f\"],[0.2222222222222222,\"#7201a8\"],[0.3333333333333333,\"#9c179e\"],[0.4444444444444444,\"#bd3786\"],[0.5555555555555556,\"#d8576b\"],[0.6666666666666666,\"#ed7953\"],[0.7777777777777778,\"#fb9f3a\"],[0.8888888888888888,\"#fdca26\"],[1.0,\"#f0f921\"]],\"type\":\"surface\"}],\"table\":[{\"cells\":{\"fill\":{\"color\":\"#EBF0F8\"},\"line\":{\"color\":\"white\"}},\"header\":{\"fill\":{\"color\":\"#C8D4E3\"},\"line\":{\"color\":\"white\"}},\"type\":\"table\"}]},\"layout\":{\"annotationdefaults\":{\"arrowcolor\":\"#2a3f5f\",\"arrowhead\":0,\"arrowwidth\":1},\"autotypenumbers\":\"strict\",\"coloraxis\":{\"colorbar\":{\"outlinewidth\":0,\"ticks\":\"\"}},\"colorscale\":{\"diverging\":[[0,\"#8e0152\"],[0.1,\"#c51b7d\"],[0.2,\"#de77ae\"],[0.3,\"#f1b6da\"],[0.4,\"#fde0ef\"],[0.5,\"#f7f7f7\"],[0.6,\"#e6f5d0\"],[0.7,\"#b8e186\"],[0.8,\"#7fbc41\"],[0.9,\"#4d9221\"],[1,\"#276419\"]],\"sequential\":[[0.0,\"#0d0887\"],[0.1111111111111111,\"#46039f\"],[0.2222222222222222,\"#7201a8\"],[0.3333333333333333,\"#9c179e\"],[0.4444444444444444,\"#bd3786\"],[0.5555555555555556,\"#d8576b\"],[0.6666666666666666,\"#ed7953\"],[0.7777777777777778,\"#fb9f3a\"],[0.8888888888888888,\"#fdca26\"],[1.0,\"#f0f921\"]],\"sequentialminus\":[[0.0,\"#0d0887\"],[0.1111111111111111,\"#46039f\"],[0.2222222222222222,\"#7201a8\"],[0.3333333333333333,\"#9c179e\"],[0.4444444444444444,\"#bd3786\"],[0.5555555555555556,\"#d8576b\"],[0.6666666666666666,\"#ed7953\"],[0.7777777777777778,\"#fb9f3a\"],[0.8888888888888888,\"#fdca26\"],[1.0,\"#f0f921\"]]},\"colorway\":[\"#636efa\",\"#EF553B\",\"#00cc96\",\"#ab63fa\",\"#FFA15A\",\"#19d3f3\",\"#FF6692\",\"#B6E880\",\"#FF97FF\",\"#FECB52\"],\"font\":{\"color\":\"#2a3f5f\"},\"geo\":{\"bgcolor\":\"white\",\"lakecolor\":\"white\",\"landcolor\":\"#E5ECF6\",\"showlakes\":true,\"showland\":true,\"subunitcolor\":\"white\"},\"hoverlabel\":{\"align\":\"left\"},\"hovermode\":\"closest\",\"mapbox\":{\"style\":\"light\"},\"paper_bgcolor\":\"white\",\"plot_bgcolor\":\"#E5ECF6\",\"polar\":{\"angularaxis\":{\"gridcolor\":\"white\",\"linecolor\":\"white\",\"ticks\":\"\"},\"bgcolor\":\"#E5ECF6\",\"radialaxis\":{\"gridcolor\":\"white\",\"linecolor\":\"white\",\"ticks\":\"\"}},\"scene\":{\"xaxis\":{\"backgroundcolor\":\"#E5ECF6\",\"gridcolor\":\"white\",\"gridwidth\":2,\"linecolor\":\"white\",\"showbackground\":true,\"ticks\":\"\",\"zerolinecolor\":\"white\"},\"yaxis\":{\"backgroundcolor\":\"#E5ECF6\",\"gridcolor\":\"white\",\"gridwidth\":2,\"linecolor\":\"white\",\"showbackground\":true,\"ticks\":\"\",\"zerolinecolor\":\"white\"},\"zaxis\":{\"backgroundcolor\":\"#E5ECF6\",\"gridcolor\":\"white\",\"gridwidth\":2,\"linecolor\":\"white\",\"showbackground\":true,\"ticks\":\"\",\"zerolinecolor\":\"white\"}},\"shapedefaults\":{\"line\":{\"color\":\"#2a3f5f\"}},\"ternary\":{\"aaxis\":{\"gridcolor\":\"white\",\"linecolor\":\"white\",\"ticks\":\"\"},\"baxis\":{\"gridcolor\":\"white\",\"linecolor\":\"white\",\"ticks\":\"\"},\"bgcolor\":\"#E5ECF6\",\"caxis\":{\"gridcolor\":\"white\",\"linecolor\":\"white\",\"ticks\":\"\"}},\"title\":{\"x\":0.05},\"xaxis\":{\"automargin\":true,\"gridcolor\":\"white\",\"linecolor\":\"white\",\"ticks\":\"\",\"title\":{\"standoff\":15},\"zerolinecolor\":\"white\",\"zerolinewidth\":2},\"yaxis\":{\"automargin\":true,\"gridcolor\":\"white\",\"linecolor\":\"white\",\"ticks\":\"\",\"title\":{\"standoff\":15},\"zerolinecolor\":\"white\",\"zerolinewidth\":2}}},\"title\":{\"text\":\"(Casi) todos los personajes que aparecen en la serie\"}},                        {\"responsive\": true}                    ).then(function(){\n",
       "                            \n",
       "var gd = document.getElementById('0d6ee7ed-58fc-4200-8c02-a8b1fe622a7f');\n",
       "var x = new MutationObserver(function (mutations, observer) {{\n",
       "        var display = window.getComputedStyle(gd).display;\n",
       "        if (!display || display === 'none') {{\n",
       "            console.log([gd, 'removed!']);\n",
       "            Plotly.purge(gd);\n",
       "            observer.disconnect();\n",
       "        }}\n",
       "}});\n",
       "\n",
       "// Listen for the removal of the full notebook cells\n",
       "var notebookContainer = gd.closest('#notebook-container');\n",
       "if (notebookContainer) {{\n",
       "    x.observe(notebookContainer, {childList: true});\n",
       "}}\n",
       "\n",
       "// Listen for the clearing of the current output cell\n",
       "var outputEl = gd.closest('.output');\n",
       "if (outputEl) {{\n",
       "    x.observe(outputEl, {childList: true});\n",
       "}}\n",
       "\n",
       "                        })                };                });            </script>        </div>"
      ]
     },
     "metadata": {},
     "output_type": "display_data"
    }
   ],
   "source": [
    "# CREAMOS UNA GRÁFICA TIPO PIE CON EL TOTAL DE PERSONAJES QUE A LO LARGO DE LA SERIE TIENE MAS DE 70 INTERVENCIONES \n",
    "\n",
    "import plotly.express as px\n",
    "\n",
    "colors = v.lista_de_colores\n",
    "\n",
    "fig = px.pie(df_personajes_new, values='line', names=df_personajes_new.index,\n",
    "             title='(Casi) todos los personajes que aparecen en la serie', color_discrete_sequence=colors, hole=0.4)\n",
    "\n",
    "fig.update_traces(textposition='inside', textinfo='percent+label')\n",
    "\n",
    "fig.write_html(\"(Casi) todos los personajes que aparecen en la serie.html\")\n",
    "\n",
    "iplot(fig)"
   ]
  },
  {
   "cell_type": "code",
   "execution_count": 10,
   "metadata": {},
   "outputs": [
    {
     "name": "stderr",
     "output_type": "stream",
     "text": [
      "c:\\Users\\pieci\\AppData\\Local\\Programs\\Python\\Python37\\lib\\site-packages\\ipykernel_launcher.py:11: SettingWithCopyWarning:\n",
      "\n",
      "\n",
      "A value is trying to be set on a copy of a slice from a DataFrame\n",
      "\n",
      "See the caveats in the documentation: https://pandas.pydata.org/pandas-docs/stable/user_guide/indexing.html#returning-a-view-versus-a-copy\n",
      "\n"
     ]
    },
    {
     "data": {
      "text/plain": [
       "' me taking care of you is no problem, huh? you guys feel safe. right? okay, i’m gonna take that spit bubble as, \"yeah, i do!\" okay, after i get rid of this dirty diaper leslie, i’ll set you up with a clean one.  okay, i’m sorry. i didn’t mean to scare you. i just have to clean that up. okay? ‘cause let’s face it, we’re at monica’s.  i broke it. all right. well, that’s just the way that goes.  okay, good.  why are there only two of you? where is leslie? well, you can’t answer.  leslie? where are you leslie? leslie, now would be a good time for your first words!  well, look at you! hey! you are a little bit mischievous! my gosh!  oh, you’re a lot mischievous! well, it’ll dry.   okay, you sit with your brother and sister now—who aren’t there! '"
      ]
     },
     "execution_count": 10,
     "metadata": {},
     "output_type": "execute_result"
    }
   ],
   "source": [
    "# SEGUIMOS CON LA LIMPIEZA DE DATOS DEL DATAFRAME PRINCIPAL\n",
    "\n",
    "# TENEMOS QUE ELIMINAR DE LA COLUMNA DE 'line' LAS ACOTACIONES QUE VAN ENTRE PARÉNTESIS\n",
    "# YA QUE NO FORMAN PARTE DE LAS FRASES Y LO USAREMOS COMO RECUENTO DE PALABRAS.\n",
    "\n",
    "# COMO DATO CURIOSO: SIN REALIZAR ESTE TRABAJO DE LIMPIEZA DE LAS ACOTACIONES, EL ORDEN DEL PERSONAJE QUE MÁS PALABRAS DICE A LO LARGO\n",
    "# DE LA SERIE ES DIFERENTE! ROSS GANARÍA EN CASO DE QUE NO NOS HUBIERAMOS DADO CUENTA DE ELIMINAR ESTAS ACOTACIONES.\n",
    "\n",
    "for i in range(len(friends_1['line'])):\n",
    "    if '(' in friends_1['line'][i]:\n",
    "        friends_1['line'][i] =\"\".join(re.split(\"\\(|\\)|\\[|\\]\", friends_1['line'][i])[::2])\n",
    "\n",
    "friends_1['line'][31651] # Ejemplo de prueba\n"
   ]
  },
  {
   "cell_type": "code",
   "execution_count": 11,
   "metadata": {},
   "outputs": [
    {
     "name": "stdout",
     "output_type": "stream",
     "text": [
      "6\n"
     ]
    }
   ],
   "source": [
    "# CREAMOS UN NUEVO DATAFRAME UNICAMENTE CON LOS 6 PERSONAJES PROTAGONISTAS EN ÉL\n",
    "\n",
    "mask1 = friends_1['character']=='monica'\n",
    "mask2 = friends_1['character']=='joey'\n",
    "mask3 = friends_1['character']=='ross'\n",
    "mask4 = friends_1['character']=='chandler'\n",
    "mask5 = friends_1['character']=='phoebe'\n",
    "mask6 = friends_1['character']=='rachel'\n",
    "\n",
    "\n",
    "friends_1_filtr = friends_1[mask1|mask2|mask3|mask4|mask5|mask6]\n",
    "print(friends_1_filtr['character'].nunique())"
   ]
  },
  {
   "cell_type": "code",
   "execution_count": 12,
   "metadata": {},
   "outputs": [
    {
     "name": "stderr",
     "output_type": "stream",
     "text": [
      "c:\\Users\\pieci\\AppData\\Local\\Programs\\Python\\Python37\\lib\\site-packages\\ipykernel_launcher.py:3: SettingWithCopyWarning:\n",
      "\n",
      "\n",
      "A value is trying to be set on a copy of a slice from a DataFrame.\n",
      "Try using .loc[row_indexer,col_indexer] = value instead\n",
      "\n",
      "See the caveats in the documentation: https://pandas.pydata.org/pandas-docs/stable/user_guide/indexing.html#returning-a-view-versus-a-copy\n",
      "\n"
     ]
    }
   ],
   "source": [
    "# CREAMOS UNA NUEVA COLUMNA CON LA LONGITUD DE CADA FRASE DICHA POR CADA UNO DE LOS 6 PROTAS\n",
    "\n",
    "friends_1_filtr['words_for_line'] = friends_1_filtr['line'].apply(lambda x: len(x.split()))\n",
    "# friends_1_filtr.head()\n"
   ]
  },
  {
   "cell_type": "code",
   "execution_count": 13,
   "metadata": {},
   "outputs": [
    {
     "name": "stderr",
     "output_type": "stream",
     "text": [
      "c:\\Users\\pieci\\AppData\\Local\\Programs\\Python\\Python37\\lib\\site-packages\\pandas\\core\\frame.py:4913: SettingWithCopyWarning:\n",
      "\n",
      "\n",
      "A value is trying to be set on a copy of a slice from a DataFrame\n",
      "\n",
      "See the caveats in the documentation: https://pandas.pydata.org/pandas-docs/stable/user_guide/indexing.html#returning-a-view-versus-a-copy\n",
      "\n"
     ]
    },
    {
     "data": {
      "text/html": [
       "<div>\n",
       "<style scoped>\n",
       "    .dataframe tbody tr th:only-of-type {\n",
       "        vertical-align: middle;\n",
       "    }\n",
       "\n",
       "    .dataframe tbody tr th {\n",
       "        vertical-align: top;\n",
       "    }\n",
       "\n",
       "    .dataframe thead th {\n",
       "        text-align: right;\n",
       "    }\n",
       "</style>\n",
       "<table border=\"1\" class=\"dataframe\">\n",
       "  <thead>\n",
       "    <tr style=\"text-align: right;\">\n",
       "      <th></th>\n",
       "      <th>Unnamed: 0</th>\n",
       "      <th>season_number</th>\n",
       "      <th>episode_number</th>\n",
       "      <th>episode_name</th>\n",
       "      <th>character</th>\n",
       "      <th>words_for_line</th>\n",
       "    </tr>\n",
       "  </thead>\n",
       "  <tbody>\n",
       "    <tr>\n",
       "      <th>0</th>\n",
       "      <td>0</td>\n",
       "      <td>1</td>\n",
       "      <td>1</td>\n",
       "      <td>the one where monica gets a new roommate (the ...</td>\n",
       "      <td>monica</td>\n",
       "      <td>11</td>\n",
       "    </tr>\n",
       "    <tr>\n",
       "      <th>1</th>\n",
       "      <td>1</td>\n",
       "      <td>1</td>\n",
       "      <td>1</td>\n",
       "      <td>the one where monica gets a new roommate (the ...</td>\n",
       "      <td>joey</td>\n",
       "      <td>14</td>\n",
       "    </tr>\n",
       "    <tr>\n",
       "      <th>2</th>\n",
       "      <td>2</td>\n",
       "      <td>1</td>\n",
       "      <td>1</td>\n",
       "      <td>the one where monica gets a new roommate (the ...</td>\n",
       "      <td>chandler</td>\n",
       "      <td>16</td>\n",
       "    </tr>\n",
       "    <tr>\n",
       "      <th>3</th>\n",
       "      <td>3</td>\n",
       "      <td>1</td>\n",
       "      <td>1</td>\n",
       "      <td>the one where monica gets a new roommate (the ...</td>\n",
       "      <td>phoebe</td>\n",
       "      <td>5</td>\n",
       "    </tr>\n",
       "    <tr>\n",
       "      <th>4</th>\n",
       "      <td>4</td>\n",
       "      <td>1</td>\n",
       "      <td>1</td>\n",
       "      <td>the one where monica gets a new roommate (the ...</td>\n",
       "      <td>phoebe</td>\n",
       "      <td>16</td>\n",
       "    </tr>\n",
       "  </tbody>\n",
       "</table>\n",
       "</div>"
      ],
      "text/plain": [
       "   Unnamed: 0  season_number  episode_number  \\\n",
       "0           0              1               1   \n",
       "1           1              1               1   \n",
       "2           2              1               1   \n",
       "3           3              1               1   \n",
       "4           4              1               1   \n",
       "\n",
       "                                        episode_name character  words_for_line  \n",
       "0  the one where monica gets a new roommate (the ...    monica              11  \n",
       "1  the one where monica gets a new roommate (the ...      joey              14  \n",
       "2  the one where monica gets a new roommate (the ...  chandler              16  \n",
       "3  the one where monica gets a new roommate (the ...    phoebe               5  \n",
       "4  the one where monica gets a new roommate (the ...    phoebe              16  "
      ]
     },
     "execution_count": 13,
     "metadata": {},
     "output_type": "execute_result"
    }
   ],
   "source": [
    "# ELIMINAMOS LA COLUMNA DE 'line' PORQUE YA NO ES NECESARIA PARA EL ESTUDIO\n",
    "friends_1_filtr.drop(['line'], axis=1, inplace=True)\n",
    "friends_1_filtr.head()\n"
   ]
  },
  {
   "cell_type": "code",
   "execution_count": 14,
   "metadata": {},
   "outputs": [
    {
     "data": {
      "text/html": [
       "<div>\n",
       "<style scoped>\n",
       "    .dataframe tbody tr th:only-of-type {\n",
       "        vertical-align: middle;\n",
       "    }\n",
       "\n",
       "    .dataframe tbody tr th {\n",
       "        vertical-align: top;\n",
       "    }\n",
       "\n",
       "    .dataframe thead th {\n",
       "        text-align: right;\n",
       "    }\n",
       "</style>\n",
       "<table border=\"1\" class=\"dataframe\">\n",
       "  <thead>\n",
       "    <tr style=\"text-align: right;\">\n",
       "      <th></th>\n",
       "      <th>Unnamed: 0</th>\n",
       "    </tr>\n",
       "    <tr>\n",
       "      <th>character</th>\n",
       "      <th></th>\n",
       "    </tr>\n",
       "  </thead>\n",
       "  <tbody>\n",
       "    <tr>\n",
       "      <th>phoebe</th>\n",
       "      <td>7586</td>\n",
       "    </tr>\n",
       "    <tr>\n",
       "      <th>joey</th>\n",
       "      <td>8295</td>\n",
       "    </tr>\n",
       "    <tr>\n",
       "      <th>monica</th>\n",
       "      <td>8456</td>\n",
       "    </tr>\n",
       "    <tr>\n",
       "      <th>chandler</th>\n",
       "      <td>8504</td>\n",
       "    </tr>\n",
       "    <tr>\n",
       "      <th>ross</th>\n",
       "      <td>9104</td>\n",
       "    </tr>\n",
       "    <tr>\n",
       "      <th>rachel</th>\n",
       "      <td>9295</td>\n",
       "    </tr>\n",
       "  </tbody>\n",
       "</table>\n",
       "</div>"
      ],
      "text/plain": [
       "           Unnamed: 0\n",
       "character            \n",
       "phoebe           7586\n",
       "joey             8295\n",
       "monica           8456\n",
       "chandler         8504\n",
       "ross             9104\n",
       "rachel           9295"
      ]
     },
     "execution_count": 14,
     "metadata": {},
     "output_type": "execute_result"
    }
   ],
   "source": [
    "# HACEMOS UN PRIMER RECUENTO DEL NÚMERO DE VECES QUE CADA PROTA TIENE UNA FRASE EN PANTALLA, ORDENADO DE MAYOR A MENOR\n",
    "\n",
    "friends_vecesqhabla = friends_1_filtr.groupby(['character']).count()[['Unnamed: 0']].sort_values(by='Unnamed: 0', ascending=True)\n",
    "friends_vecesqhabla.sort_values(by='Unnamed: 0', ascending=True)\n"
   ]
  },
  {
   "cell_type": "code",
   "execution_count": 15,
   "metadata": {},
   "outputs": [
    {
     "data": {
      "image/png": "[encoded data removed]",
      "text/plain": [
       "<Figure size 1440x576 with 1 Axes>"
      ]
     },
     "metadata": {
      "needs_background": "light"
     },
     "output_type": "display_data"
    }
   ],
   "source": [
    "from tkinter import font\n",
    "\n",
    "sns.set_style('white', {\"axes.grid\": True, 'grid.linestyle': ':', \"grid.color\": \"grey\", 'axes.spines.left': False,\n",
    " 'axes.spines.bottom': False,\n",
    " 'axes.spines.right': False,\n",
    " 'axes.spines.top': False, 'font.family': ['Verdana']})\n",
    "\n",
    "my_color=np.where(friends_vecesqhabla ['Unnamed: 0']==friends_vecesqhabla ['Unnamed: 0'].max(), v.rachel, v.colordefondo)\n",
    "my_size=np.where(friends_vecesqhabla ['Unnamed: 0']==friends_vecesqhabla ['Unnamed: 0'].max(), 400, 200)\n",
    "\n",
    "plt.figure(figsize=(20,8))\n",
    "plt.hlines(y=friends_vecesqhabla.index,\n",
    "           xmin=140,\n",
    "           xmax=friends_vecesqhabla,\n",
    "           color=my_color, linewidth=7)\n",
    "plt.scatter(friends_vecesqhabla, friends_vecesqhabla.index, color=my_color, s=my_size, alpha=1)\n",
    "\n",
    "plt.xticks(fontsize=14)\n",
    "plt.yticks(fontsize=14)\n",
    "plt.xlim(6000,10000)\n",
    "plt.title('¿Quién es el personaje que más apariciones tiene?', loc='left', fontsize=14)\n",
    "plt.xlabel('Nº de apariciones', fontsize=14 )\n",
    "# plt.ylabel('Personajes', fontsize=14)\n",
    "\n",
    "plt.show()"
   ]
  },
  {
   "cell_type": "code",
   "execution_count": 16,
   "metadata": {},
   "outputs": [
    {
     "data": {
      "text/html": [
       "<div>\n",
       "<style scoped>\n",
       "    .dataframe tbody tr th:only-of-type {\n",
       "        vertical-align: middle;\n",
       "    }\n",
       "\n",
       "    .dataframe tbody tr th {\n",
       "        vertical-align: top;\n",
       "    }\n",
       "\n",
       "    .dataframe thead th {\n",
       "        text-align: right;\n",
       "    }\n",
       "</style>\n",
       "<table border=\"1\" class=\"dataframe\">\n",
       "  <thead>\n",
       "    <tr style=\"text-align: right;\">\n",
       "      <th></th>\n",
       "      <th>words_for_line</th>\n",
       "    </tr>\n",
       "    <tr>\n",
       "      <th>character</th>\n",
       "      <th></th>\n",
       "    </tr>\n",
       "  </thead>\n",
       "  <tbody>\n",
       "    <tr>\n",
       "      <th>phoebe</th>\n",
       "      <td>82150</td>\n",
       "    </tr>\n",
       "    <tr>\n",
       "      <th>monica</th>\n",
       "      <td>82989</td>\n",
       "    </tr>\n",
       "    <tr>\n",
       "      <th>chandler</th>\n",
       "      <td>87246</td>\n",
       "    </tr>\n",
       "    <tr>\n",
       "      <th>joey</th>\n",
       "      <td>87521</td>\n",
       "    </tr>\n",
       "    <tr>\n",
       "      <th>ross</th>\n",
       "      <td>94962</td>\n",
       "    </tr>\n",
       "    <tr>\n",
       "      <th>rachel</th>\n",
       "      <td>97525</td>\n",
       "    </tr>\n",
       "  </tbody>\n",
       "</table>\n",
       "</div>"
      ],
      "text/plain": [
       "           words_for_line\n",
       "character                \n",
       "phoebe              82150\n",
       "monica              82989\n",
       "chandler            87246\n",
       "joey                87521\n",
       "ross                94962\n",
       "rachel              97525"
      ]
     },
     "execution_count": 16,
     "metadata": {},
     "output_type": "execute_result"
    }
   ],
   "source": [
    "# HACEMOS OTRO RECUENTO COMPARATIVO DEL NÚMERO DE PALABRAS QUE CADA PROTA DICE A LO LARGO DE LA SERIE\n",
    "\n",
    "friends_cant_palabras = friends_1_filtr.groupby(['character']).sum()[['words_for_line']].sort_values(by='words_for_line', ascending=True)\n",
    "friends_cant_palabras\n"
   ]
  },
  {
   "cell_type": "code",
   "execution_count": 17,
   "metadata": {},
   "outputs": [
    {
     "data": {
      "image/png": "[encoded data removed]",
      "text/plain": [
       "<Figure size 1440x576 with 1 Axes>"
      ]
     },
     "metadata": {},
     "output_type": "display_data"
    }
   ],
   "source": [
    "sns.set_style('white', {\"axes.grid\": True, 'grid.linestyle': ':', \"grid.color\": \"grey\", 'axes.spines.left': False,\n",
    " 'axes.spines.bottom': False,\n",
    " 'axes.spines.right': False,\n",
    " 'axes.spines.top': False, 'font.family': ['Verdana']})\n",
    "\n",
    "my_color=np.where(friends_cant_palabras ['words_for_line']==friends_cant_palabras ['words_for_line'].max(), v.rachel, v.colordefondo)\n",
    "my_size=np.where(friends_cant_palabras ['words_for_line']==friends_cant_palabras ['words_for_line'].max(), 400, 200)\n",
    "\n",
    "plt.figure(figsize=(20,8))\n",
    "plt.hlines(y=friends_cant_palabras.index,\n",
    "           xmin=140,\n",
    "           xmax=friends_cant_palabras,\n",
    "           color=my_color, linewidth=7)\n",
    "plt.scatter(friends_cant_palabras, friends_cant_palabras.index, color=my_color, s=my_size, alpha=1)\n",
    "\n",
    "plt.xticks(fontsize=14)\n",
    "plt.yticks(fontsize=14)\n",
    "plt.xlim(75000,100000)\n",
    "plt.title('¿Quién es el personaje que más palabras dice?', loc='left', fontsize=14)\n",
    "plt.xlabel('Nº de palabras dichas', fontsize=14 )\n",
    "# plt.ylabel('Personajes', fontsize=14)\n",
    "\n",
    "plt.show()"
   ]
  },
  {
   "cell_type": "code",
   "execution_count": 18,
   "metadata": {},
   "outputs": [
    {
     "data": {
      "text/plain": [
       "196"
      ]
     },
     "execution_count": 18,
     "metadata": {},
     "output_type": "execute_result"
    }
   ],
   "source": [
    "# LA FRASE MÁS LARGA DICHA EN TODA LA SERIE!\n",
    "\n",
    "friends_1_filtr['words_for_line'].max()"
   ]
  },
  {
   "cell_type": "code",
   "execution_count": 19,
   "metadata": {},
   "outputs": [
    {
     "data": {
      "text/html": [
       "<div>\n",
       "<style scoped>\n",
       "    .dataframe tbody tr th:only-of-type {\n",
       "        vertical-align: middle;\n",
       "    }\n",
       "\n",
       "    .dataframe tbody tr th {\n",
       "        vertical-align: top;\n",
       "    }\n",
       "\n",
       "    .dataframe thead th {\n",
       "        text-align: right;\n",
       "    }\n",
       "</style>\n",
       "<table border=\"1\" class=\"dataframe\">\n",
       "  <thead>\n",
       "    <tr style=\"text-align: right;\">\n",
       "      <th></th>\n",
       "      <th>Unnamed: 0</th>\n",
       "      <th>season_number</th>\n",
       "      <th>episode_number</th>\n",
       "      <th>episode_name</th>\n",
       "      <th>character</th>\n",
       "      <th>words_for_line</th>\n",
       "    </tr>\n",
       "  </thead>\n",
       "  <tbody>\n",
       "    <tr>\n",
       "      <th>47869</th>\n",
       "      <td>47869</td>\n",
       "      <td>8</td>\n",
       "      <td>18</td>\n",
       "      <td>the one in massapequa</td>\n",
       "      <td>monica</td>\n",
       "      <td>196</td>\n",
       "    </tr>\n",
       "  </tbody>\n",
       "</table>\n",
       "</div>"
      ],
      "text/plain": [
       "       Unnamed: 0  season_number  episode_number           episode_name  \\\n",
       "47869       47869              8              18  the one in massapequa   \n",
       "\n",
       "      character  words_for_line  \n",
       "47869    monica             196  "
      ]
     },
     "execution_count": 19,
     "metadata": {},
     "output_type": "execute_result"
    }
   ],
   "source": [
    "friends_1_filtr[friends_1_filtr['words_for_line']==196]"
   ]
  },
  {
   "cell_type": "code",
   "execution_count": 20,
   "metadata": {},
   "outputs": [
    {
     "data": {
      "text/html": [
       "<div>\n",
       "<style scoped>\n",
       "    .dataframe tbody tr th:only-of-type {\n",
       "        vertical-align: middle;\n",
       "    }\n",
       "\n",
       "    .dataframe tbody tr th {\n",
       "        vertical-align: top;\n",
       "    }\n",
       "\n",
       "    .dataframe thead th {\n",
       "        text-align: right;\n",
       "    }\n",
       "</style>\n",
       "<table border=\"1\" class=\"dataframe\">\n",
       "  <thead>\n",
       "    <tr style=\"text-align: right;\">\n",
       "      <th></th>\n",
       "      <th>season_number</th>\n",
       "      <th>character</th>\n",
       "    </tr>\n",
       "  </thead>\n",
       "  <tbody>\n",
       "    <tr>\n",
       "      <th>0</th>\n",
       "      <td>1</td>\n",
       "      <td>monica</td>\n",
       "    </tr>\n",
       "    <tr>\n",
       "      <th>1</th>\n",
       "      <td>1</td>\n",
       "      <td>joey</td>\n",
       "    </tr>\n",
       "    <tr>\n",
       "      <th>2</th>\n",
       "      <td>1</td>\n",
       "      <td>chandler</td>\n",
       "    </tr>\n",
       "    <tr>\n",
       "      <th>3</th>\n",
       "      <td>1</td>\n",
       "      <td>phoebe</td>\n",
       "    </tr>\n",
       "    <tr>\n",
       "      <th>4</th>\n",
       "      <td>1</td>\n",
       "      <td>phoebe</td>\n",
       "    </tr>\n",
       "    <tr>\n",
       "      <th>...</th>\n",
       "      <td>...</td>\n",
       "      <td>...</td>\n",
       "    </tr>\n",
       "    <tr>\n",
       "      <th>61251</th>\n",
       "      <td>10</td>\n",
       "      <td>chandler</td>\n",
       "    </tr>\n",
       "    <tr>\n",
       "      <th>61252</th>\n",
       "      <td>10</td>\n",
       "      <td>rachel</td>\n",
       "    </tr>\n",
       "    <tr>\n",
       "      <th>61253</th>\n",
       "      <td>10</td>\n",
       "      <td>monica</td>\n",
       "    </tr>\n",
       "    <tr>\n",
       "      <th>61254</th>\n",
       "      <td>10</td>\n",
       "      <td>rachel</td>\n",
       "    </tr>\n",
       "    <tr>\n",
       "      <th>61255</th>\n",
       "      <td>10</td>\n",
       "      <td>chandler</td>\n",
       "    </tr>\n",
       "  </tbody>\n",
       "</table>\n",
       "<p>51240 rows × 2 columns</p>\n",
       "</div>"
      ],
      "text/plain": [
       "       season_number character\n",
       "0                  1    monica\n",
       "1                  1      joey\n",
       "2                  1  chandler\n",
       "3                  1    phoebe\n",
       "4                  1    phoebe\n",
       "...              ...       ...\n",
       "61251             10  chandler\n",
       "61252             10    rachel\n",
       "61253             10    monica\n",
       "61254             10    rachel\n",
       "61255             10  chandler\n",
       "\n",
       "[51240 rows x 2 columns]"
      ]
     },
     "execution_count": 20,
     "metadata": {},
     "output_type": "execute_result"
    }
   ],
   "source": [
    "friends_por_temp = friends_1_filtr.drop(['Unnamed: 0','episode_name', 'episode_number', 'words_for_line'], axis=1)\n",
    "friends_por_temp"
   ]
  },
  {
   "cell_type": "code",
   "execution_count": 21,
   "metadata": {},
   "outputs": [],
   "source": [
    "# CREAMOS UNA FUNCIÓN PARA OBTENER UN DATAFRAME NUEVO CON LOS DATOS POR CADA PERSONAJE. EN ESTE CASO, DE LAS APARICIONES POR TEMPORADA.\n",
    "\n",
    "# ross\n",
    "temp_ross_res = f.filtro_a_df(friends_por_temp, 'character', 'ross', 'season_number')\n",
    "\n",
    "# rachel\n",
    "temp_rachel_res = f.filtro_a_df(friends_por_temp, 'character', 'rachel', 'season_number')\n",
    "\n",
    "# monica\n",
    "temp_monica_res = f.filtro_a_df(friends_por_temp, 'character', 'monica', 'season_number')\n",
    "\n",
    "# chandler\n",
    "temp_chandler_res = f.filtro_a_df(friends_por_temp, 'character', 'chandler', 'season_number')\n",
    "\n",
    "# joey\n",
    "temp_joey_res = f.filtro_a_df(friends_por_temp, 'character', 'joey', 'season_number')\n",
    "\n",
    "# phoebe\n",
    "temp_phoebe_res = f.filtro_a_df(friends_por_temp, 'character', 'phoebe', 'season_number')"
   ]
  },
  {
   "cell_type": "code",
   "execution_count": 22,
   "metadata": {},
   "outputs": [
    {
     "data": {
      "application/vnd.plotly.v1+json": {
       "config": {
        "linkText": "Export to plot.ly",
        "plotlyServerURL": "https://plot.ly",
        "showLink": false
       },
       "data": [
        {
         "marker": {
          "color": "#6488C8"
         },
         "mode": "lines",
         "name": "Ross",
         "text": [
          "ross",
          "ross",
          "ross",
          "ross",
          "ross",
          "ross",
          "ross",
          "ross",
          "ross",
          "ross"
         ],
         "texttemplate": "simple_white",
         "type": "scatter",
         "x": [
          1,
          2,
          3,
          4,
          5,
          6,
          7,
          8,
          9,
          10
         ],
         "y": [
          958,
          870,
          1083,
          809,
          874,
          915,
          824,
          988,
          912,
          871
         ]
        },
        {
         "marker": {
          "color": "#843B73"
         },
         "mode": "lines",
         "name": "Rachel",
         "text": [
          "rachel",
          "rachel",
          "rachel",
          "rachel",
          "rachel",
          "rachel",
          "rachel",
          "rachel",
          "rachel",
          "rachel"
         ],
         "texttemplate": "simple_white",
         "type": "scatter",
         "x": [
          1,
          2,
          3,
          4,
          5,
          6,
          7,
          8,
          9,
          10
         ],
         "y": [
          858,
          815,
          930,
          910,
          906,
          994,
          1096,
          1083,
          924,
          779
         ]
        },
        {
         "marker": {
          "color": "#BFA1A1"
         },
         "mode": "lines",
         "name": "Monica",
         "text": [
          "monica",
          "monica",
          "monica",
          "monica",
          "monica",
          "monica",
          "monica",
          "monica",
          "monica",
          "monica"
         ],
         "texttemplate": "simple_white",
         "type": "scatter",
         "x": [
          1,
          2,
          3,
          4,
          5,
          6,
          7,
          8,
          9,
          10
         ],
         "y": [
          882,
          796,
          856,
          770,
          899,
          914,
          906,
          813,
          925,
          695
         ]
        },
        {
         "marker": {
          "color": "#FCDA44"
         },
         "mode": "lines",
         "name": "Chandler",
         "text": [
          "chandler",
          "chandler",
          "chandler",
          "chandler",
          "chandler",
          "chandler",
          "chandler",
          "chandler",
          "chandler",
          "chandler"
         ],
         "texttemplate": "simple_white",
         "type": "scatter",
         "x": [
          1,
          2,
          3,
          4,
          5,
          6,
          7,
          8,
          9,
          10
         ],
         "y": [
          823,
          782,
          839,
          925,
          948,
          1038,
          847,
          677,
          929,
          696
         ]
        },
        {
         "marker": {
          "color": "#D88F53"
         },
         "mode": "lines",
         "name": "Joey",
         "text": [
          "joey",
          "joey",
          "joey",
          "joey",
          "joey",
          "joey",
          "joey",
          "joey",
          "joey",
          "joey"
         ],
         "texttemplate": "simple_white",
         "type": "scatter",
         "x": [
          1,
          2,
          3,
          4,
          5,
          6,
          7,
          8,
          9,
          10
         ],
         "y": [
          648,
          662,
          791,
          823,
          955,
          914,
          938,
          921,
          901,
          742
         ]
        },
        {
         "marker": {
          "color": "#CFDB74"
         },
         "mode": "lines",
         "name": "Phoebe",
         "text": [
          "phoebe",
          "phoebe",
          "phoebe",
          "phoebe",
          "phoebe",
          "phoebe",
          "phoebe",
          "phoebe",
          "phoebe",
          "phoebe"
         ],
         "texttemplate": "simple_white",
         "type": "scatter",
         "x": [
          1,
          2,
          3,
          4,
          5,
          6,
          7,
          8,
          9,
          10
         ],
         "y": [
          645,
          667,
          815,
          747,
          816,
          793,
          810,
          773,
          816,
          704
         ]
        }
       ],
       "layout": {
        "plot_bgcolor": "white",
        "template": {
         "data": {
          "bar": [
           {
            "error_x": {
             "color": "#2a3f5f"
            },
            "error_y": {
             "color": "#2a3f5f"
            },
            "marker": {
             "line": {
              "color": "#E5ECF6",
              "width": 0.5
             },
             "pattern": {
              "fillmode": "overlay",
              "size": 10,
              "solidity": 0.2
             }
            },
            "type": "bar"
           }
          ],
          "barpolar": [
           {
            "marker": {
             "line": {
              "color": "#E5ECF6",
              "width": 0.5
             },
             "pattern": {
              "fillmode": "overlay",
              "size": 10,
              "solidity": 0.2
             }
            },
            "type": "barpolar"
           }
          ],
          "carpet": [
           {
            "aaxis": {
             "endlinecolor": "#2a3f5f",
             "gridcolor": "white",
             "linecolor": "white",
             "minorgridcolor": "white",
             "startlinecolor": "#2a3f5f"
            },
            "baxis": {
             "endlinecolor": "#2a3f5f",
             "gridcolor": "white",
             "linecolor": "white",
             "minorgridcolor": "white",
             "startlinecolor": "#2a3f5f"
            },
            "type": "carpet"
           }
          ],
          "choropleth": [
           {
            "colorbar": {
             "outlinewidth": 0,
             "ticks": ""
            },
            "type": "choropleth"
           }
          ],
          "contour": [
           {
            "colorbar": {
             "outlinewidth": 0,
             "ticks": ""
            },
            "colorscale": [
             [
              0,
              "#0d0887"
             ],
             [
              0.1111111111111111,
              "#46039f"
             ],
             [
              0.2222222222222222,
              "#7201a8"
             ],
             [
              0.3333333333333333,
              "#9c179e"
             ],
             [
              0.4444444444444444,
              "#bd3786"
             ],
             [
              0.5555555555555556,
              "#d8576b"
             ],
             [
              0.6666666666666666,
              "#ed7953"
             ],
             [
              0.7777777777777778,
              "#fb9f3a"
             ],
             [
              0.8888888888888888,
              "#fdca26"
             ],
             [
              1,
              "#f0f921"
             ]
            ],
            "type": "contour"
           }
          ],
          "contourcarpet": [
           {
            "colorbar": {
             "outlinewidth": 0,
             "ticks": ""
            },
            "type": "contourcarpet"
           }
          ],
          "heatmap": [
           {
            "colorbar": {
             "outlinewidth": 0,
             "ticks": ""
            },
            "colorscale": [
             [
              0,
              "#0d0887"
             ],
             [
              0.1111111111111111,
              "#46039f"
             ],
             [
              0.2222222222222222,
              "#7201a8"
             ],
             [
              0.3333333333333333,
              "#9c179e"
             ],
             [
              0.4444444444444444,
              "#bd3786"
             ],
             [
              0.5555555555555556,
              "#d8576b"
             ],
             [
              0.6666666666666666,
              "#ed7953"
             ],
             [
              0.7777777777777778,
              "#fb9f3a"
             ],
             [
              0.8888888888888888,
              "#fdca26"
             ],
             [
              1,
              "#f0f921"
             ]
            ],
            "type": "heatmap"
           }
          ],
          "heatmapgl": [
           {
            "colorbar": {
             "outlinewidth": 0,
             "ticks": ""
            },
            "colorscale": [
             [
              0,
              "#0d0887"
             ],
             [
              0.1111111111111111,
              "#46039f"
             ],
             [
              0.2222222222222222,
              "#7201a8"
             ],
             [
              0.3333333333333333,
              "#9c179e"
             ],
             [
              0.4444444444444444,
              "#bd3786"
             ],
             [
              0.5555555555555556,
              "#d8576b"
             ],
             [
              0.6666666666666666,
              "#ed7953"
             ],
             [
              0.7777777777777778,
              "#fb9f3a"
             ],
             [
              0.8888888888888888,
              "#fdca26"
             ],
             [
              1,
              "#f0f921"
             ]
            ],
            "type": "heatmapgl"
           }
          ],
          "histogram": [
           {
            "marker": {
             "pattern": {
              "fillmode": "overlay",
              "size": 10,
              "solidity": 0.2
             }
            },
            "type": "histogram"
           }
          ],
          "histogram2d": [
           {
            "colorbar": {
             "outlinewidth": 0,
             "ticks": ""
            },
            "colorscale": [
             [
              0,
              "#0d0887"
             ],
             [
              0.1111111111111111,
              "#46039f"
             ],
             [
              0.2222222222222222,
              "#7201a8"
             ],
             [
              0.3333333333333333,
              "#9c179e"
             ],
             [
              0.4444444444444444,
              "#bd3786"
             ],
             [
              0.5555555555555556,
              "#d8576b"
             ],
             [
              0.6666666666666666,
              "#ed7953"
             ],
             [
              0.7777777777777778,
              "#fb9f3a"
             ],
             [
              0.8888888888888888,
              "#fdca26"
             ],
             [
              1,
              "#f0f921"
             ]
            ],
            "type": "histogram2d"
           }
          ],
          "histogram2dcontour": [
           {
            "colorbar": {
             "outlinewidth": 0,
             "ticks": ""
            },
            "colorscale": [
             [
              0,
              "#0d0887"
             ],
             [
              0.1111111111111111,
              "#46039f"
             ],
             [
              0.2222222222222222,
              "#7201a8"
             ],
             [
              0.3333333333333333,
              "#9c179e"
             ],
             [
              0.4444444444444444,
              "#bd3786"
             ],
             [
              0.5555555555555556,
              "#d8576b"
             ],
             [
              0.6666666666666666,
              "#ed7953"
             ],
             [
              0.7777777777777778,
              "#fb9f3a"
             ],
             [
              0.8888888888888888,
              "#fdca26"
             ],
             [
              1,
              "#f0f921"
             ]
            ],
            "type": "histogram2dcontour"
           }
          ],
          "mesh3d": [
           {
            "colorbar": {
             "outlinewidth": 0,
             "ticks": ""
            },
            "type": "mesh3d"
           }
          ],
          "parcoords": [
           {
            "line": {
             "colorbar": {
              "outlinewidth": 0,
              "ticks": ""
             }
            },
            "type": "parcoords"
           }
          ],
          "pie": [
           {
            "automargin": true,
            "type": "pie"
           }
          ],
          "scatter": [
           {
            "fillpattern": {
             "fillmode": "overlay",
             "size": 10,
             "solidity": 0.2
            },
            "type": "scatter"
           }
          ],
          "scatter3d": [
           {
            "line": {
             "colorbar": {
              "outlinewidth": 0,
              "ticks": ""
             }
            },
            "marker": {
             "colorbar": {
              "outlinewidth": 0,
              "ticks": ""
             }
            },
            "type": "scatter3d"
           }
          ],
          "scattercarpet": [
           {
            "marker": {
             "colorbar": {
              "outlinewidth": 0,
              "ticks": ""
             }
            },
            "type": "scattercarpet"
           }
          ],
          "scattergeo": [
           {
            "marker": {
             "colorbar": {
              "outlinewidth": 0,
              "ticks": ""
             }
            },
            "type": "scattergeo"
           }
          ],
          "scattergl": [
           {
            "marker": {
             "colorbar": {
              "outlinewidth": 0,
              "ticks": ""
             }
            },
            "type": "scattergl"
           }
          ],
          "scattermapbox": [
           {
            "marker": {
             "colorbar": {
              "outlinewidth": 0,
              "ticks": ""
             }
            },
            "type": "scattermapbox"
           }
          ],
          "scatterpolar": [
           {
            "marker": {
             "colorbar": {
              "outlinewidth": 0,
              "ticks": ""
             }
            },
            "type": "scatterpolar"
           }
          ],
          "scatterpolargl": [
           {
            "marker": {
             "colorbar": {
              "outlinewidth": 0,
              "ticks": ""
             }
            },
            "type": "scatterpolargl"
           }
          ],
          "scatterternary": [
           {
            "marker": {
             "colorbar": {
              "outlinewidth": 0,
              "ticks": ""
             }
            },
            "type": "scatterternary"
           }
          ],
          "surface": [
           {
            "colorbar": {
             "outlinewidth": 0,
             "ticks": ""
            },
            "colorscale": [
             [
              0,
              "#0d0887"
             ],
             [
              0.1111111111111111,
              "#46039f"
             ],
             [
              0.2222222222222222,
              "#7201a8"
             ],
             [
              0.3333333333333333,
              "#9c179e"
             ],
             [
              0.4444444444444444,
              "#bd3786"
             ],
             [
              0.5555555555555556,
              "#d8576b"
             ],
             [
              0.6666666666666666,
              "#ed7953"
             ],
             [
              0.7777777777777778,
              "#fb9f3a"
             ],
             [
              0.8888888888888888,
              "#fdca26"
             ],
             [
              1,
              "#f0f921"
             ]
            ],
            "type": "surface"
           }
          ],
          "table": [
           {
            "cells": {
             "fill": {
              "color": "#EBF0F8"
             },
             "line": {
              "color": "white"
             }
            },
            "header": {
             "fill": {
              "color": "#C8D4E3"
             },
             "line": {
              "color": "white"
             }
            },
            "type": "table"
           }
          ]
         },
         "layout": {
          "annotationdefaults": {
           "arrowcolor": "#2a3f5f",
           "arrowhead": 0,
           "arrowwidth": 1
          },
          "autotypenumbers": "strict",
          "coloraxis": {
           "colorbar": {
            "outlinewidth": 0,
            "ticks": ""
           }
          },
          "colorscale": {
           "diverging": [
            [
             0,
             "#8e0152"
            ],
            [
             0.1,
             "#c51b7d"
            ],
            [
             0.2,
             "#de77ae"
            ],
            [
             0.3,
             "#f1b6da"
            ],
            [
             0.4,
             "#fde0ef"
            ],
            [
             0.5,
             "#f7f7f7"
            ],
            [
             0.6,
             "#e6f5d0"
            ],
            [
             0.7,
             "#b8e186"
            ],
            [
             0.8,
             "#7fbc41"
            ],
            [
             0.9,
             "#4d9221"
            ],
            [
             1,
             "#276419"
            ]
           ],
           "sequential": [
            [
             0,
             "#0d0887"
            ],
            [
             0.1111111111111111,
             "#46039f"
            ],
            [
             0.2222222222222222,
             "#7201a8"
            ],
            [
             0.3333333333333333,
             "#9c179e"
            ],
            [
             0.4444444444444444,
             "#bd3786"
            ],
            [
             0.5555555555555556,
             "#d8576b"
            ],
            [
             0.6666666666666666,
             "#ed7953"
            ],
            [
             0.7777777777777778,
             "#fb9f3a"
            ],
            [
             0.8888888888888888,
             "#fdca26"
            ],
            [
             1,
             "#f0f921"
            ]
           ],
           "sequentialminus": [
            [
             0,
             "#0d0887"
            ],
            [
             0.1111111111111111,
             "#46039f"
            ],
            [
             0.2222222222222222,
             "#7201a8"
            ],
            [
             0.3333333333333333,
             "#9c179e"
            ],
            [
             0.4444444444444444,
             "#bd3786"
            ],
            [
             0.5555555555555556,
             "#d8576b"
            ],
            [
             0.6666666666666666,
             "#ed7953"
            ],
            [
             0.7777777777777778,
             "#fb9f3a"
            ],
            [
             0.8888888888888888,
             "#fdca26"
            ],
            [
             1,
             "#f0f921"
            ]
           ]
          },
          "colorway": [
           "#636efa",
           "#EF553B",
           "#00cc96",
           "#ab63fa",
           "#FFA15A",
           "#19d3f3",
           "#FF6692",
           "#B6E880",
           "#FF97FF",
           "#FECB52"
          ],
          "font": {
           "color": "#2a3f5f"
          },
          "geo": {
           "bgcolor": "white",
           "lakecolor": "white",
           "landcolor": "#E5ECF6",
           "showlakes": true,
           "showland": true,
           "subunitcolor": "white"
          },
          "hoverlabel": {
           "align": "left"
          },
          "hovermode": "closest",
          "mapbox": {
           "style": "light"
          },
          "paper_bgcolor": "white",
          "plot_bgcolor": "#E5ECF6",
          "polar": {
           "angularaxis": {
            "gridcolor": "white",
            "linecolor": "white",
            "ticks": ""
           },
           "bgcolor": "#E5ECF6",
           "radialaxis": {
            "gridcolor": "white",
            "linecolor": "white",
            "ticks": ""
           }
          },
          "scene": {
           "xaxis": {
            "backgroundcolor": "#E5ECF6",
            "gridcolor": "white",
            "gridwidth": 2,
            "linecolor": "white",
            "showbackground": true,
            "ticks": "",
            "zerolinecolor": "white"
           },
           "yaxis": {
            "backgroundcolor": "#E5ECF6",
            "gridcolor": "white",
            "gridwidth": 2,
            "linecolor": "white",
            "showbackground": true,
            "ticks": "",
            "zerolinecolor": "white"
           },
           "zaxis": {
            "backgroundcolor": "#E5ECF6",
            "gridcolor": "white",
            "gridwidth": 2,
            "linecolor": "white",
            "showbackground": true,
            "ticks": "",
            "zerolinecolor": "white"
           }
          },
          "shapedefaults": {
           "line": {
            "color": "#2a3f5f"
           }
          },
          "ternary": {
           "aaxis": {
            "gridcolor": "white",
            "linecolor": "white",
            "ticks": ""
           },
           "baxis": {
            "gridcolor": "white",
            "linecolor": "white",
            "ticks": ""
           },
           "bgcolor": "#E5ECF6",
           "caxis": {
            "gridcolor": "white",
            "linecolor": "white",
            "ticks": ""
           }
          },
          "title": {
           "x": 0.05
          },
          "xaxis": {
           "automargin": true,
           "gridcolor": "white",
           "linecolor": "white",
           "ticks": "",
           "title": {
            "standoff": 15
           },
           "zerolinecolor": "white",
           "zerolinewidth": 2
          },
          "yaxis": {
           "automargin": true,
           "gridcolor": "white",
           "linecolor": "white",
           "ticks": "",
           "title": {
            "standoff": 15
           },
           "zerolinecolor": "white",
           "zerolinewidth": 2
          }
         }
        },
        "title": {
         "text": "Aparición de cada personaje por temporada"
        },
        "xaxis": {
         "gridcolor": "lightgrey",
         "gridwidth": 0.1,
         "showgrid": true,
         "ticklen": 5,
         "title": {
          "text": "Temporadas"
         }
        },
        "yaxis": {
         "gridcolor": "lightgrey",
         "gridwidth": 0.1,
         "showgrid": true,
         "title": {
          "text": "Valoración en IMDB"
         }
        }
       }
      },
      "text/html": [
       "<div>                            <div id=\"0c56c329-aad8-4625-bb82-9bae416d92cb\" class=\"plotly-graph-div\" style=\"height:525px; width:100%;\"></div>            <script type=\"text/javascript\">                require([\"plotly\"], function(Plotly) {                    window.PLOTLYENV=window.PLOTLYENV || {};                                    if (document.getElementById(\"0c56c329-aad8-4625-bb82-9bae416d92cb\")) {                    Plotly.newPlot(                        \"0c56c329-aad8-4625-bb82-9bae416d92cb\",                        [{\"marker\":{\"color\":\"#6488C8\"},\"mode\":\"lines\",\"name\":\"Ross\",\"text\":[\"ross\",\"ross\",\"ross\",\"ross\",\"ross\",\"ross\",\"ross\",\"ross\",\"ross\",\"ross\"],\"texttemplate\":\"simple_white\",\"x\":[1,2,3,4,5,6,7,8,9,10],\"y\":[958,870,1083,809,874,915,824,988,912,871],\"type\":\"scatter\"},{\"marker\":{\"color\":\"#843B73\"},\"mode\":\"lines\",\"name\":\"Rachel\",\"text\":[\"rachel\",\"rachel\",\"rachel\",\"rachel\",\"rachel\",\"rachel\",\"rachel\",\"rachel\",\"rachel\",\"rachel\"],\"texttemplate\":\"simple_white\",\"x\":[1,2,3,4,5,6,7,8,9,10],\"y\":[858,815,930,910,906,994,1096,1083,924,779],\"type\":\"scatter\"},{\"marker\":{\"color\":\"#BFA1A1\"},\"mode\":\"lines\",\"name\":\"Monica\",\"text\":[\"monica\",\"monica\",\"monica\",\"monica\",\"monica\",\"monica\",\"monica\",\"monica\",\"monica\",\"monica\"],\"texttemplate\":\"simple_white\",\"x\":[1,2,3,4,5,6,7,8,9,10],\"y\":[882,796,856,770,899,914,906,813,925,695],\"type\":\"scatter\"},{\"marker\":{\"color\":\"#FCDA44\"},\"mode\":\"lines\",\"name\":\"Chandler\",\"text\":[\"chandler\",\"chandler\",\"chandler\",\"chandler\",\"chandler\",\"chandler\",\"chandler\",\"chandler\",\"chandler\",\"chandler\"],\"texttemplate\":\"simple_white\",\"x\":[1,2,3,4,5,6,7,8,9,10],\"y\":[823,782,839,925,948,1038,847,677,929,696],\"type\":\"scatter\"},{\"marker\":{\"color\":\"#D88F53\"},\"mode\":\"lines\",\"name\":\"Joey\",\"text\":[\"joey\",\"joey\",\"joey\",\"joey\",\"joey\",\"joey\",\"joey\",\"joey\",\"joey\",\"joey\"],\"texttemplate\":\"simple_white\",\"x\":[1,2,3,4,5,6,7,8,9,10],\"y\":[648,662,791,823,955,914,938,921,901,742],\"type\":\"scatter\"},{\"marker\":{\"color\":\"#CFDB74\"},\"mode\":\"lines\",\"name\":\"Phoebe\",\"text\":[\"phoebe\",\"phoebe\",\"phoebe\",\"phoebe\",\"phoebe\",\"phoebe\",\"phoebe\",\"phoebe\",\"phoebe\",\"phoebe\"],\"texttemplate\":\"simple_white\",\"x\":[1,2,3,4,5,6,7,8,9,10],\"y\":[645,667,815,747,816,793,810,773,816,704],\"type\":\"scatter\"}],                        {\"plot_bgcolor\":\"white\",\"template\":{\"data\":{\"barpolar\":[{\"marker\":{\"line\":{\"color\":\"#E5ECF6\",\"width\":0.5},\"pattern\":{\"fillmode\":\"overlay\",\"size\":10,\"solidity\":0.2}},\"type\":\"barpolar\"}],\"bar\":[{\"error_x\":{\"color\":\"#2a3f5f\"},\"error_y\":{\"color\":\"#2a3f5f\"},\"marker\":{\"line\":{\"color\":\"#E5ECF6\",\"width\":0.5},\"pattern\":{\"fillmode\":\"overlay\",\"size\":10,\"solidity\":0.2}},\"type\":\"bar\"}],\"carpet\":[{\"aaxis\":{\"endlinecolor\":\"#2a3f5f\",\"gridcolor\":\"white\",\"linecolor\":\"white\",\"minorgridcolor\":\"white\",\"startlinecolor\":\"#2a3f5f\"},\"baxis\":{\"endlinecolor\":\"#2a3f5f\",\"gridcolor\":\"white\",\"linecolor\":\"white\",\"minorgridcolor\":\"white\",\"startlinecolor\":\"#2a3f5f\"},\"type\":\"carpet\"}],\"choropleth\":[{\"colorbar\":{\"outlinewidth\":0,\"ticks\":\"\"},\"type\":\"choropleth\"}],\"contourcarpet\":[{\"colorbar\":{\"outlinewidth\":0,\"ticks\":\"\"},\"type\":\"contourcarpet\"}],\"contour\":[{\"colorbar\":{\"outlinewidth\":0,\"ticks\":\"\"},\"colorscale\":[[0.0,\"#0d0887\"],[0.1111111111111111,\"#46039f\"],[0.2222222222222222,\"#7201a8\"],[0.3333333333333333,\"#9c179e\"],[0.4444444444444444,\"#bd3786\"],[0.5555555555555556,\"#d8576b\"],[0.6666666666666666,\"#ed7953\"],[0.7777777777777778,\"#fb9f3a\"],[0.8888888888888888,\"#fdca26\"],[1.0,\"#f0f921\"]],\"type\":\"contour\"}],\"heatmapgl\":[{\"colorbar\":{\"outlinewidth\":0,\"ticks\":\"\"},\"colorscale\":[[0.0,\"#0d0887\"],[0.1111111111111111,\"#46039f\"],[0.2222222222222222,\"#7201a8\"],[0.3333333333333333,\"#9c179e\"],[0.4444444444444444,\"#bd3786\"],[0.5555555555555556,\"#d8576b\"],[0.6666666666666666,\"#ed7953\"],[0.7777777777777778,\"#fb9f3a\"],[0.8888888888888888,\"#fdca26\"],[1.0,\"#f0f921\"]],\"type\":\"heatmapgl\"}],\"heatmap\":[{\"colorbar\":{\"outlinewidth\":0,\"ticks\":\"\"},\"colorscale\":[[0.0,\"#0d0887\"],[0.1111111111111111,\"#46039f\"],[0.2222222222222222,\"#7201a8\"],[0.3333333333333333,\"#9c179e\"],[0.4444444444444444,\"#bd3786\"],[0.5555555555555556,\"#d8576b\"],[0.6666666666666666,\"#ed7953\"],[0.7777777777777778,\"#fb9f3a\"],[0.8888888888888888,\"#fdca26\"],[1.0,\"#f0f921\"]],\"type\":\"heatmap\"}],\"histogram2dcontour\":[{\"colorbar\":{\"outlinewidth\":0,\"ticks\":\"\"},\"colorscale\":[[0.0,\"#0d0887\"],[0.1111111111111111,\"#46039f\"],[0.2222222222222222,\"#7201a8\"],[0.3333333333333333,\"#9c179e\"],[0.4444444444444444,\"#bd3786\"],[0.5555555555555556,\"#d8576b\"],[0.6666666666666666,\"#ed7953\"],[0.7777777777777778,\"#fb9f3a\"],[0.8888888888888888,\"#fdca26\"],[1.0,\"#f0f921\"]],\"type\":\"histogram2dcontour\"}],\"histogram2d\":[{\"colorbar\":{\"outlinewidth\":0,\"ticks\":\"\"},\"colorscale\":[[0.0,\"#0d0887\"],[0.1111111111111111,\"#46039f\"],[0.2222222222222222,\"#7201a8\"],[0.3333333333333333,\"#9c179e\"],[0.4444444444444444,\"#bd3786\"],[0.5555555555555556,\"#d8576b\"],[0.6666666666666666,\"#ed7953\"],[0.7777777777777778,\"#fb9f3a\"],[0.8888888888888888,\"#fdca26\"],[1.0,\"#f0f921\"]],\"type\":\"histogram2d\"}],\"histogram\":[{\"marker\":{\"pattern\":{\"fillmode\":\"overlay\",\"size\":10,\"solidity\":0.2}},\"type\":\"histogram\"}],\"mesh3d\":[{\"colorbar\":{\"outlinewidth\":0,\"ticks\":\"\"},\"type\":\"mesh3d\"}],\"parcoords\":[{\"line\":{\"colorbar\":{\"outlinewidth\":0,\"ticks\":\"\"}},\"type\":\"parcoords\"}],\"pie\":[{\"automargin\":true,\"type\":\"pie\"}],\"scatter3d\":[{\"line\":{\"colorbar\":{\"outlinewidth\":0,\"ticks\":\"\"}},\"marker\":{\"colorbar\":{\"outlinewidth\":0,\"ticks\":\"\"}},\"type\":\"scatter3d\"}],\"scattercarpet\":[{\"marker\":{\"colorbar\":{\"outlinewidth\":0,\"ticks\":\"\"}},\"type\":\"scattercarpet\"}],\"scattergeo\":[{\"marker\":{\"colorbar\":{\"outlinewidth\":0,\"ticks\":\"\"}},\"type\":\"scattergeo\"}],\"scattergl\":[{\"marker\":{\"colorbar\":{\"outlinewidth\":0,\"ticks\":\"\"}},\"type\":\"scattergl\"}],\"scattermapbox\":[{\"marker\":{\"colorbar\":{\"outlinewidth\":0,\"ticks\":\"\"}},\"type\":\"scattermapbox\"}],\"scatterpolargl\":[{\"marker\":{\"colorbar\":{\"outlinewidth\":0,\"ticks\":\"\"}},\"type\":\"scatterpolargl\"}],\"scatterpolar\":[{\"marker\":{\"colorbar\":{\"outlinewidth\":0,\"ticks\":\"\"}},\"type\":\"scatterpolar\"}],\"scatter\":[{\"fillpattern\":{\"fillmode\":\"overlay\",\"size\":10,\"solidity\":0.2},\"type\":\"scatter\"}],\"scatterternary\":[{\"marker\":{\"colorbar\":{\"outlinewidth\":0,\"ticks\":\"\"}},\"type\":\"scatterternary\"}],\"surface\":[{\"colorbar\":{\"outlinewidth\":0,\"ticks\":\"\"},\"colorscale\":[[0.0,\"#0d0887\"],[0.1111111111111111,\"#46039f\"],[0.2222222222222222,\"#7201a8\"],[0.3333333333333333,\"#9c179e\"],[0.4444444444444444,\"#bd3786\"],[0.5555555555555556,\"#d8576b\"],[0.6666666666666666,\"#ed7953\"],[0.7777777777777778,\"#fb9f3a\"],[0.8888888888888888,\"#fdca26\"],[1.0,\"#f0f921\"]],\"type\":\"surface\"}],\"table\":[{\"cells\":{\"fill\":{\"color\":\"#EBF0F8\"},\"line\":{\"color\":\"white\"}},\"header\":{\"fill\":{\"color\":\"#C8D4E3\"},\"line\":{\"color\":\"white\"}},\"type\":\"table\"}]},\"layout\":{\"annotationdefaults\":{\"arrowcolor\":\"#2a3f5f\",\"arrowhead\":0,\"arrowwidth\":1},\"autotypenumbers\":\"strict\",\"coloraxis\":{\"colorbar\":{\"outlinewidth\":0,\"ticks\":\"\"}},\"colorscale\":{\"diverging\":[[0,\"#8e0152\"],[0.1,\"#c51b7d\"],[0.2,\"#de77ae\"],[0.3,\"#f1b6da\"],[0.4,\"#fde0ef\"],[0.5,\"#f7f7f7\"],[0.6,\"#e6f5d0\"],[0.7,\"#b8e186\"],[0.8,\"#7fbc41\"],[0.9,\"#4d9221\"],[1,\"#276419\"]],\"sequential\":[[0.0,\"#0d0887\"],[0.1111111111111111,\"#46039f\"],[0.2222222222222222,\"#7201a8\"],[0.3333333333333333,\"#9c179e\"],[0.4444444444444444,\"#bd3786\"],[0.5555555555555556,\"#d8576b\"],[0.6666666666666666,\"#ed7953\"],[0.7777777777777778,\"#fb9f3a\"],[0.8888888888888888,\"#fdca26\"],[1.0,\"#f0f921\"]],\"sequentialminus\":[[0.0,\"#0d0887\"],[0.1111111111111111,\"#46039f\"],[0.2222222222222222,\"#7201a8\"],[0.3333333333333333,\"#9c179e\"],[0.4444444444444444,\"#bd3786\"],[0.5555555555555556,\"#d8576b\"],[0.6666666666666666,\"#ed7953\"],[0.7777777777777778,\"#fb9f3a\"],[0.8888888888888888,\"#fdca26\"],[1.0,\"#f0f921\"]]},\"colorway\":[\"#636efa\",\"#EF553B\",\"#00cc96\",\"#ab63fa\",\"#FFA15A\",\"#19d3f3\",\"#FF6692\",\"#B6E880\",\"#FF97FF\",\"#FECB52\"],\"font\":{\"color\":\"#2a3f5f\"},\"geo\":{\"bgcolor\":\"white\",\"lakecolor\":\"white\",\"landcolor\":\"#E5ECF6\",\"showlakes\":true,\"showland\":true,\"subunitcolor\":\"white\"},\"hoverlabel\":{\"align\":\"left\"},\"hovermode\":\"closest\",\"mapbox\":{\"style\":\"light\"},\"paper_bgcolor\":\"white\",\"plot_bgcolor\":\"#E5ECF6\",\"polar\":{\"angularaxis\":{\"gridcolor\":\"white\",\"linecolor\":\"white\",\"ticks\":\"\"},\"bgcolor\":\"#E5ECF6\",\"radialaxis\":{\"gridcolor\":\"white\",\"linecolor\":\"white\",\"ticks\":\"\"}},\"scene\":{\"xaxis\":{\"backgroundcolor\":\"#E5ECF6\",\"gridcolor\":\"white\",\"gridwidth\":2,\"linecolor\":\"white\",\"showbackground\":true,\"ticks\":\"\",\"zerolinecolor\":\"white\"},\"yaxis\":{\"backgroundcolor\":\"#E5ECF6\",\"gridcolor\":\"white\",\"gridwidth\":2,\"linecolor\":\"white\",\"showbackground\":true,\"ticks\":\"\",\"zerolinecolor\":\"white\"},\"zaxis\":{\"backgroundcolor\":\"#E5ECF6\",\"gridcolor\":\"white\",\"gridwidth\":2,\"linecolor\":\"white\",\"showbackground\":true,\"ticks\":\"\",\"zerolinecolor\":\"white\"}},\"shapedefaults\":{\"line\":{\"color\":\"#2a3f5f\"}},\"ternary\":{\"aaxis\":{\"gridcolor\":\"white\",\"linecolor\":\"white\",\"ticks\":\"\"},\"baxis\":{\"gridcolor\":\"white\",\"linecolor\":\"white\",\"ticks\":\"\"},\"bgcolor\":\"#E5ECF6\",\"caxis\":{\"gridcolor\":\"white\",\"linecolor\":\"white\",\"ticks\":\"\"}},\"title\":{\"x\":0.05},\"xaxis\":{\"automargin\":true,\"gridcolor\":\"white\",\"linecolor\":\"white\",\"ticks\":\"\",\"title\":{\"standoff\":15},\"zerolinecolor\":\"white\",\"zerolinewidth\":2},\"yaxis\":{\"automargin\":true,\"gridcolor\":\"white\",\"linecolor\":\"white\",\"ticks\":\"\",\"title\":{\"standoff\":15},\"zerolinecolor\":\"white\",\"zerolinewidth\":2}}},\"title\":{\"text\":\"Aparici\\u00f3n de cada personaje por temporada\"},\"xaxis\":{\"gridcolor\":\"lightgrey\",\"gridwidth\":0.1,\"showgrid\":true,\"ticklen\":5,\"title\":{\"text\":\"Temporadas\"}},\"yaxis\":{\"gridcolor\":\"lightgrey\",\"gridwidth\":0.1,\"showgrid\":true,\"title\":{\"text\":\"Valoraci\\u00f3n en IMDB\"}}},                        {\"responsive\": true}                    ).then(function(){\n",
       "                            \n",
       "var gd = document.getElementById('0c56c329-aad8-4625-bb82-9bae416d92cb');\n",
       "var x = new MutationObserver(function (mutations, observer) {{\n",
       "        var display = window.getComputedStyle(gd).display;\n",
       "        if (!display || display === 'none') {{\n",
       "            console.log([gd, 'removed!']);\n",
       "            Plotly.purge(gd);\n",
       "            observer.disconnect();\n",
       "        }}\n",
       "}});\n",
       "\n",
       "// Listen for the removal of the full notebook cells\n",
       "var notebookContainer = gd.closest('#notebook-container');\n",
       "if (notebookContainer) {{\n",
       "    x.observe(notebookContainer, {childList: true});\n",
       "}}\n",
       "\n",
       "// Listen for the clearing of the current output cell\n",
       "var outputEl = gd.closest('.output');\n",
       "if (outputEl) {{\n",
       "    x.observe(outputEl, {childList: true});\n",
       "}}\n",
       "\n",
       "                        })                };                });            </script>        </div>"
      ]
     },
     "metadata": {},
     "output_type": "display_data"
    }
   ],
   "source": [
    "# OBTENEMOS UN GRÁFICO CON LAS APARICIONES DE CADA PERSONAJE POR TEMPORADA. CREAMOS UNA FUNCIÓN PARA OBTENER LOS TRACE DE CADA UNO.\n",
    "\n",
    "trace_ross = f.grafico_goscatter(temp_ross_res, 'season_number', 'Ross', v.ross, 'character')\n",
    "trace_rachel = f.grafico_goscatter(temp_rachel_res, 'season_number', 'Rachel', v.rachel, 'character')\n",
    "trace_monica = f.grafico_goscatter(temp_monica_res, 'season_number', 'Monica', v.monica, 'character')\n",
    "trace_chandler = f.grafico_goscatter(temp_chandler_res, 'season_number', 'Chandler', v.chandler, 'character')\n",
    "trace_joey = f.grafico_goscatter(temp_joey_res, 'season_number', 'Joey', v.joey, 'character')\n",
    "trace_phoebe = f.grafico_goscatter(temp_phoebe_res, 'season_number', 'Phoebe', v.phoebe, 'character')\n",
    "\n",
    "data = [trace_ross, trace_rachel, trace_monica, trace_chandler, trace_joey, trace_phoebe]\n",
    "\n",
    "layout = dict(title = 'Aparición de cada personaje por temporada',\n",
    "             xaxis= dict(title= 'Temporadas', ticklen= 5, showgrid=True, gridwidth=0.1, gridcolor='lightgrey'), \n",
    "             yaxis= dict(title='Valoración en IMDB',showgrid=True, gridwidth=0.1, gridcolor='lightgrey'), plot_bgcolor='white'\n",
    "           )\n",
    "\n",
    "fig = go.Figure(data = data, layout=layout)\n",
    "\n",
    "fig.write_html(\"evolucion_personaje_por_temporada.html\")\n",
    "\n",
    "iplot(fig)"
   ]
  },
  {
   "cell_type": "code",
   "execution_count": 23,
   "metadata": {},
   "outputs": [],
   "source": [
    "# CONCATENAMOS LAS COLUMNAS DE LA TEMPORADA Y DE LOS EPISODIOS, PARA CONTABILIZAR LOS CAPITULOS Y EL PROTAGONISTA DE CADA UNO DE ELLOS\n",
    "\n",
    "friends_1['temp_mas_cap'] = friends_1['season_number'].map(str) + '.' + friends_1['episode_number'].map(str)\n",
    "\n",
    "capitulos = friends_1['temp_mas_cap'].unique()\n"
   ]
  },
  {
   "cell_type": "code",
   "execution_count": 24,
   "metadata": {},
   "outputs": [
    {
     "data": {
      "text/html": [
       "<div>\n",
       "<style scoped>\n",
       "    .dataframe tbody tr th:only-of-type {\n",
       "        vertical-align: middle;\n",
       "    }\n",
       "\n",
       "    .dataframe tbody tr th {\n",
       "        vertical-align: top;\n",
       "    }\n",
       "\n",
       "    .dataframe thead th {\n",
       "        text-align: right;\n",
       "    }\n",
       "</style>\n",
       "<table border=\"1\" class=\"dataframe\">\n",
       "  <thead>\n",
       "    <tr style=\"text-align: right;\">\n",
       "      <th></th>\n",
       "      <th>temp_mas_cap</th>\n",
       "      <th>character</th>\n",
       "    </tr>\n",
       "  </thead>\n",
       "  <tbody>\n",
       "    <tr>\n",
       "      <th>0</th>\n",
       "      <td>1.1</td>\n",
       "      <td>monica</td>\n",
       "    </tr>\n",
       "    <tr>\n",
       "      <th>1</th>\n",
       "      <td>1.1</td>\n",
       "      <td>joey</td>\n",
       "    </tr>\n",
       "    <tr>\n",
       "      <th>2</th>\n",
       "      <td>1.1</td>\n",
       "      <td>chandler</td>\n",
       "    </tr>\n",
       "    <tr>\n",
       "      <th>3</th>\n",
       "      <td>1.1</td>\n",
       "      <td>phoebe</td>\n",
       "    </tr>\n",
       "    <tr>\n",
       "      <th>4</th>\n",
       "      <td>1.1</td>\n",
       "      <td>phoebe</td>\n",
       "    </tr>\n",
       "    <tr>\n",
       "      <th>...</th>\n",
       "      <td>...</td>\n",
       "      <td>...</td>\n",
       "    </tr>\n",
       "    <tr>\n",
       "      <th>61251</th>\n",
       "      <td>10.17</td>\n",
       "      <td>chandler</td>\n",
       "    </tr>\n",
       "    <tr>\n",
       "      <th>61252</th>\n",
       "      <td>10.17</td>\n",
       "      <td>rachel</td>\n",
       "    </tr>\n",
       "    <tr>\n",
       "      <th>61253</th>\n",
       "      <td>10.17</td>\n",
       "      <td>monica</td>\n",
       "    </tr>\n",
       "    <tr>\n",
       "      <th>61254</th>\n",
       "      <td>10.17</td>\n",
       "      <td>rachel</td>\n",
       "    </tr>\n",
       "    <tr>\n",
       "      <th>61255</th>\n",
       "      <td>10.17</td>\n",
       "      <td>chandler</td>\n",
       "    </tr>\n",
       "  </tbody>\n",
       "</table>\n",
       "<p>61256 rows × 2 columns</p>\n",
       "</div>"
      ],
      "text/plain": [
       "      temp_mas_cap character\n",
       "0              1.1    monica\n",
       "1              1.1      joey\n",
       "2              1.1  chandler\n",
       "3              1.1    phoebe\n",
       "4              1.1    phoebe\n",
       "...            ...       ...\n",
       "61251        10.17  chandler\n",
       "61252        10.17    rachel\n",
       "61253        10.17    monica\n",
       "61254        10.17    rachel\n",
       "61255        10.17  chandler\n",
       "\n",
       "[61256 rows x 2 columns]"
      ]
     },
     "execution_count": 24,
     "metadata": {},
     "output_type": "execute_result"
    }
   ],
   "source": [
    "# SACAMOS UN DATAFRAME FILTRADO POR CAPÍTULO Y PROTAGONISTAS DESDE EL DATASET PRINCIPAL\n",
    "\n",
    "friends_temp_mas_cap = friends_1[['temp_mas_cap','character']]\n",
    "friends_temp_mas_cap"
   ]
  },
  {
   "cell_type": "code",
   "execution_count": 25,
   "metadata": {},
   "outputs": [
    {
     "data": {
      "text/html": [
       "<div>\n",
       "<style scoped>\n",
       "    .dataframe tbody tr th:only-of-type {\n",
       "        vertical-align: middle;\n",
       "    }\n",
       "\n",
       "    .dataframe tbody tr th {\n",
       "        vertical-align: top;\n",
       "    }\n",
       "\n",
       "    .dataframe thead th {\n",
       "        text-align: right;\n",
       "    }\n",
       "</style>\n",
       "<table border=\"1\" class=\"dataframe\">\n",
       "  <thead>\n",
       "    <tr style=\"text-align: right;\">\n",
       "      <th></th>\n",
       "      <th>temp_mas_cap</th>\n",
       "      <th>prota_por_cap</th>\n",
       "    </tr>\n",
       "  </thead>\n",
       "  <tbody>\n",
       "    <tr>\n",
       "      <th>0</th>\n",
       "      <td>1.1</td>\n",
       "      <td>monica</td>\n",
       "    </tr>\n",
       "    <tr>\n",
       "      <th>1</th>\n",
       "      <td>1.2</td>\n",
       "      <td>ross</td>\n",
       "    </tr>\n",
       "    <tr>\n",
       "      <th>2</th>\n",
       "      <td>1.3</td>\n",
       "      <td>monica</td>\n",
       "    </tr>\n",
       "    <tr>\n",
       "      <th>3</th>\n",
       "      <td>1.4</td>\n",
       "      <td>monica</td>\n",
       "    </tr>\n",
       "    <tr>\n",
       "      <th>4</th>\n",
       "      <td>1.5</td>\n",
       "      <td>ross</td>\n",
       "    </tr>\n",
       "  </tbody>\n",
       "</table>\n",
       "</div>"
      ],
      "text/plain": [
       "  temp_mas_cap prota_por_cap\n",
       "0          1.1        monica\n",
       "1          1.2          ross\n",
       "2          1.3        monica\n",
       "3          1.4        monica\n",
       "4          1.5          ross"
      ]
     },
     "execution_count": 25,
     "metadata": {},
     "output_type": "execute_result"
    }
   ],
   "source": [
    "# SACAMOS UN DATAFRAME REDUCIDO CON EL PERSONAJE PROTAGONISTA POR CAPÍTULO\n",
    "\n",
    "lista_prota_por_cap=[]\n",
    "\n",
    "for i in capitulos:\n",
    "    df=friends_temp_mas_cap[friends_temp_mas_cap['temp_mas_cap']==i].groupby(['character']).count().sort_values(by='temp_mas_cap', ascending=False)\n",
    "    lista_prota_por_cap.append(df.index[0])\n",
    "lista_prota_por_cap\n",
    "\n",
    "friends_PROTA_por_cap = pd.DataFrame(list(zip(friends_temp_mas_cap['temp_mas_cap'].unique(), lista_prota_por_cap)), columns=['temp_mas_cap','prota_por_cap'])\n",
    "friends_PROTA_por_cap.head()"
   ]
  },
  {
   "cell_type": "code",
   "execution_count": 26,
   "metadata": {},
   "outputs": [
    {
     "name": "stderr",
     "output_type": "stream",
     "text": [
      "c:\\Users\\pieci\\AppData\\Local\\Programs\\Python\\Python37\\lib\\site-packages\\seaborn\\_decorators.py:43: FutureWarning:\n",
      "\n",
      "Pass the following variable as a keyword arg: x. From version 0.12, the only valid positional argument will be `data`, and passing other arguments without an explicit keyword will result in an error or misinterpretation.\n",
      "\n"
     ]
    },
    {
     "data": {
      "image/png": "[encoded data removed]",
      "text/plain": [
       "<Figure size 1440x576 with 1 Axes>"
      ]
     },
     "metadata": {},
     "output_type": "display_data"
    }
   ],
   "source": [
    "# SACAMOS UNA GRÁFICA CON LOS PERSONAJES QUE HAN SIDO PROTAGONISTAS Y EL RECUENTO DE CAPÍTULOS QUE HAN PROTAGONIZADO\n",
    "\n",
    "plt.figure(figsize=(20,8))\n",
    "ax = sns.countplot(friends_PROTA_por_cap['prota_por_cap'], palette=v.lista_de_colores);\n",
    "# ax[0].set_color(v.monica)\n",
    "# ax.invert_xaxis()\n",
    "ax.set_yticks(np.arange(1,55,3))\n",
    "plt.xticks(rotation=60,fontsize=12);\n",
    "plt.yticks(fontsize=12);\n",
    "plt.ylabel('Capítulos donde son protas', fontsize=12, rotation=90)\n",
    "plt.xlabel(' ');"
   ]
  },
  {
   "cell_type": "code",
   "execution_count": 27,
   "metadata": {},
   "outputs": [
    {
     "data": {
      "text/html": [
       "<div>\n",
       "<style scoped>\n",
       "    .dataframe tbody tr th:only-of-type {\n",
       "        vertical-align: middle;\n",
       "    }\n",
       "\n",
       "    .dataframe tbody tr th {\n",
       "        vertical-align: top;\n",
       "    }\n",
       "\n",
       "    .dataframe thead th {\n",
       "        text-align: right;\n",
       "    }\n",
       "</style>\n",
       "<table border=\"1\" class=\"dataframe\">\n",
       "  <thead>\n",
       "    <tr style=\"text-align: right;\">\n",
       "      <th></th>\n",
       "      <th>season</th>\n",
       "      <th>episode_num</th>\n",
       "      <th>title</th>\n",
       "      <th>original_air_date</th>\n",
       "      <th>imdb_rating</th>\n",
       "      <th>total_votes</th>\n",
       "      <th>desc</th>\n",
       "    </tr>\n",
       "  </thead>\n",
       "  <tbody>\n",
       "    <tr>\n",
       "      <th>0</th>\n",
       "      <td>1</td>\n",
       "      <td>1</td>\n",
       "      <td>The One Where Monica Gets a Roommate</td>\n",
       "      <td>22 Sep. 1994</td>\n",
       "      <td>8.3</td>\n",
       "      <td>8378</td>\n",
       "      <td>Monica and the gang introduce Rachel to the \"r...</td>\n",
       "    </tr>\n",
       "    <tr>\n",
       "      <th>1</th>\n",
       "      <td>1</td>\n",
       "      <td>2</td>\n",
       "      <td>The One with the Sonogram at the End</td>\n",
       "      <td>29 Sep. 1994</td>\n",
       "      <td>8.0</td>\n",
       "      <td>6441</td>\n",
       "      <td>Ross finds out his ex-wife is pregnant. Rachel...</td>\n",
       "    </tr>\n",
       "    <tr>\n",
       "      <th>2</th>\n",
       "      <td>1</td>\n",
       "      <td>3</td>\n",
       "      <td>The One with the Thumb</td>\n",
       "      <td>6 Oct. 1994</td>\n",
       "      <td>8.1</td>\n",
       "      <td>6060</td>\n",
       "      <td>Monica becomes irritated when everyone likes h...</td>\n",
       "    </tr>\n",
       "    <tr>\n",
       "      <th>3</th>\n",
       "      <td>1</td>\n",
       "      <td>4</td>\n",
       "      <td>The One with George Stephanopoulos</td>\n",
       "      <td>13 Oct. 1994</td>\n",
       "      <td>8.1</td>\n",
       "      <td>5892</td>\n",
       "      <td>Joey and Chandler take Ross to a hockey game t...</td>\n",
       "    </tr>\n",
       "    <tr>\n",
       "      <th>4</th>\n",
       "      <td>1</td>\n",
       "      <td>5</td>\n",
       "      <td>The One with the East German Laundry Detergent</td>\n",
       "      <td>20 Oct. 1994</td>\n",
       "      <td>8.4</td>\n",
       "      <td>5872</td>\n",
       "      <td>Eager to spend time with Rachel, Ross pretends...</td>\n",
       "    </tr>\n",
       "  </tbody>\n",
       "</table>\n",
       "</div>"
      ],
      "text/plain": [
       "   season  episode_num                                           title  \\\n",
       "0       1            1            The One Where Monica Gets a Roommate   \n",
       "1       1            2            The One with the Sonogram at the End   \n",
       "2       1            3                          The One with the Thumb   \n",
       "3       1            4              The One with George Stephanopoulos   \n",
       "4       1            5  The One with the East German Laundry Detergent   \n",
       "\n",
       "  original_air_date  imdb_rating  total_votes  \\\n",
       "0      22 Sep. 1994          8.3         8378   \n",
       "1      29 Sep. 1994          8.0         6441   \n",
       "2       6 Oct. 1994          8.1         6060   \n",
       "3      13 Oct. 1994          8.1         5892   \n",
       "4      20 Oct. 1994          8.4         5872   \n",
       "\n",
       "                                                desc  \n",
       "0  Monica and the gang introduce Rachel to the \"r...  \n",
       "1  Ross finds out his ex-wife is pregnant. Rachel...  \n",
       "2  Monica becomes irritated when everyone likes h...  \n",
       "3  Joey and Chandler take Ross to a hockey game t...  \n",
       "4  Eager to spend time with Rachel, Ross pretends...  "
      ]
     },
     "execution_count": 27,
     "metadata": {},
     "output_type": "execute_result"
    }
   ],
   "source": [
    "# EMPEZAMOS A TRABAJAR CON EL SEGUNDO DATASET, QUE CONTIENE LAS VALORACIONES EN IMDB POR CAPÍTULO\n",
    "\n",
    "friends_imdb2.head()"
   ]
  },
  {
   "cell_type": "code",
   "execution_count": 28,
   "metadata": {},
   "outputs": [
    {
     "data": {
      "text/html": [
       "<div>\n",
       "<style scoped>\n",
       "    .dataframe tbody tr th:only-of-type {\n",
       "        vertical-align: middle;\n",
       "    }\n",
       "\n",
       "    .dataframe tbody tr th {\n",
       "        vertical-align: top;\n",
       "    }\n",
       "\n",
       "    .dataframe thead th {\n",
       "        text-align: right;\n",
       "    }\n",
       "</style>\n",
       "<table border=\"1\" class=\"dataframe\">\n",
       "  <thead>\n",
       "    <tr style=\"text-align: right;\">\n",
       "      <th></th>\n",
       "      <th>season</th>\n",
       "      <th>episode_num</th>\n",
       "      <th>title</th>\n",
       "      <th>original_air_date</th>\n",
       "      <th>imdb_rating</th>\n",
       "      <th>total_votes</th>\n",
       "      <th>desc</th>\n",
       "      <th>temp_mas_cap</th>\n",
       "    </tr>\n",
       "  </thead>\n",
       "  <tbody>\n",
       "    <tr>\n",
       "      <th>0</th>\n",
       "      <td>1</td>\n",
       "      <td>1</td>\n",
       "      <td>The One Where Monica Gets a Roommate</td>\n",
       "      <td>22 Sep. 1994</td>\n",
       "      <td>8.3</td>\n",
       "      <td>8378</td>\n",
       "      <td>Monica and the gang introduce Rachel to the \"r...</td>\n",
       "      <td>1.1</td>\n",
       "    </tr>\n",
       "    <tr>\n",
       "      <th>1</th>\n",
       "      <td>1</td>\n",
       "      <td>2</td>\n",
       "      <td>The One with the Sonogram at the End</td>\n",
       "      <td>29 Sep. 1994</td>\n",
       "      <td>8.0</td>\n",
       "      <td>6441</td>\n",
       "      <td>Ross finds out his ex-wife is pregnant. Rachel...</td>\n",
       "      <td>1.2</td>\n",
       "    </tr>\n",
       "    <tr>\n",
       "      <th>2</th>\n",
       "      <td>1</td>\n",
       "      <td>3</td>\n",
       "      <td>The One with the Thumb</td>\n",
       "      <td>6 Oct. 1994</td>\n",
       "      <td>8.1</td>\n",
       "      <td>6060</td>\n",
       "      <td>Monica becomes irritated when everyone likes h...</td>\n",
       "      <td>1.3</td>\n",
       "    </tr>\n",
       "    <tr>\n",
       "      <th>3</th>\n",
       "      <td>1</td>\n",
       "      <td>4</td>\n",
       "      <td>The One with George Stephanopoulos</td>\n",
       "      <td>13 Oct. 1994</td>\n",
       "      <td>8.1</td>\n",
       "      <td>5892</td>\n",
       "      <td>Joey and Chandler take Ross to a hockey game t...</td>\n",
       "      <td>1.4</td>\n",
       "    </tr>\n",
       "    <tr>\n",
       "      <th>4</th>\n",
       "      <td>1</td>\n",
       "      <td>5</td>\n",
       "      <td>The One with the East German Laundry Detergent</td>\n",
       "      <td>20 Oct. 1994</td>\n",
       "      <td>8.4</td>\n",
       "      <td>5872</td>\n",
       "      <td>Eager to spend time with Rachel, Ross pretends...</td>\n",
       "      <td>1.5</td>\n",
       "    </tr>\n",
       "  </tbody>\n",
       "</table>\n",
       "</div>"
      ],
      "text/plain": [
       "   season  episode_num                                           title  \\\n",
       "0       1            1            The One Where Monica Gets a Roommate   \n",
       "1       1            2            The One with the Sonogram at the End   \n",
       "2       1            3                          The One with the Thumb   \n",
       "3       1            4              The One with George Stephanopoulos   \n",
       "4       1            5  The One with the East German Laundry Detergent   \n",
       "\n",
       "  original_air_date  imdb_rating  total_votes  \\\n",
       "0      22 Sep. 1994          8.3         8378   \n",
       "1      29 Sep. 1994          8.0         6441   \n",
       "2       6 Oct. 1994          8.1         6060   \n",
       "3      13 Oct. 1994          8.1         5892   \n",
       "4      20 Oct. 1994          8.4         5872   \n",
       "\n",
       "                                                desc temp_mas_cap  \n",
       "0  Monica and the gang introduce Rachel to the \"r...          1.1  \n",
       "1  Ross finds out his ex-wife is pregnant. Rachel...          1.2  \n",
       "2  Monica becomes irritated when everyone likes h...          1.3  \n",
       "3  Joey and Chandler take Ross to a hockey game t...          1.4  \n",
       "4  Eager to spend time with Rachel, Ross pretends...          1.5  "
      ]
     },
     "execution_count": 28,
     "metadata": {},
     "output_type": "execute_result"
    }
   ],
   "source": [
    "# UNIFICAMOS LAS COLUMNAS DE TEMPORADA Y CAPÍTULO PARA PODER RELACIONARLO CON EL DATASET DE LOS PERSONAJES\n",
    "\n",
    "friends_imdb2['temp_mas_cap'] = friends_imdb2['season'].map(str) + '.' + friends_imdb2['episode_num'].map(str) \n",
    "friends_imdb2.head()"
   ]
  },
  {
   "cell_type": "code",
   "execution_count": 29,
   "metadata": {},
   "outputs": [
    {
     "data": {
      "text/html": [
       "<div>\n",
       "<style scoped>\n",
       "    .dataframe tbody tr th:only-of-type {\n",
       "        vertical-align: middle;\n",
       "    }\n",
       "\n",
       "    .dataframe tbody tr th {\n",
       "        vertical-align: top;\n",
       "    }\n",
       "\n",
       "    .dataframe thead th {\n",
       "        text-align: right;\n",
       "    }\n",
       "</style>\n",
       "<table border=\"1\" class=\"dataframe\">\n",
       "  <thead>\n",
       "    <tr style=\"text-align: right;\">\n",
       "      <th></th>\n",
       "      <th>temp_mas_cap</th>\n",
       "      <th>imdb_rating</th>\n",
       "    </tr>\n",
       "  </thead>\n",
       "  <tbody>\n",
       "    <tr>\n",
       "      <th>0</th>\n",
       "      <td>1.1</td>\n",
       "      <td>8.3</td>\n",
       "    </tr>\n",
       "    <tr>\n",
       "      <th>1</th>\n",
       "      <td>1.2</td>\n",
       "      <td>8.0</td>\n",
       "    </tr>\n",
       "    <tr>\n",
       "      <th>2</th>\n",
       "      <td>1.3</td>\n",
       "      <td>8.1</td>\n",
       "    </tr>\n",
       "    <tr>\n",
       "      <th>3</th>\n",
       "      <td>1.4</td>\n",
       "      <td>8.1</td>\n",
       "    </tr>\n",
       "    <tr>\n",
       "      <th>4</th>\n",
       "      <td>1.5</td>\n",
       "      <td>8.4</td>\n",
       "    </tr>\n",
       "    <tr>\n",
       "      <th>...</th>\n",
       "      <td>...</td>\n",
       "      <td>...</td>\n",
       "    </tr>\n",
       "    <tr>\n",
       "      <th>230</th>\n",
       "      <td>10.13</td>\n",
       "      <td>8.5</td>\n",
       "    </tr>\n",
       "    <tr>\n",
       "      <th>231</th>\n",
       "      <td>10.14</td>\n",
       "      <td>8.6</td>\n",
       "    </tr>\n",
       "    <tr>\n",
       "      <th>232</th>\n",
       "      <td>10.15</td>\n",
       "      <td>8.5</td>\n",
       "    </tr>\n",
       "    <tr>\n",
       "      <th>233</th>\n",
       "      <td>10.16</td>\n",
       "      <td>8.9</td>\n",
       "    </tr>\n",
       "    <tr>\n",
       "      <th>234</th>\n",
       "      <td>10.17</td>\n",
       "      <td>9.7</td>\n",
       "    </tr>\n",
       "  </tbody>\n",
       "</table>\n",
       "<p>235 rows × 2 columns</p>\n",
       "</div>"
      ],
      "text/plain": [
       "    temp_mas_cap  imdb_rating\n",
       "0            1.1          8.3\n",
       "1            1.2          8.0\n",
       "2            1.3          8.1\n",
       "3            1.4          8.1\n",
       "4            1.5          8.4\n",
       "..           ...          ...\n",
       "230        10.13          8.5\n",
       "231        10.14          8.6\n",
       "232        10.15          8.5\n",
       "233        10.16          8.9\n",
       "234        10.17          9.7\n",
       "\n",
       "[235 rows x 2 columns]"
      ]
     },
     "execution_count": 29,
     "metadata": {},
     "output_type": "execute_result"
    }
   ],
   "source": [
    "# SACAMOS UN DATAFRAME CON LA VALORACIÓN POR CAPÍTULO\n",
    "\n",
    "friends_IMDB_por_cap = friends_imdb2[['temp_mas_cap','imdb_rating']]\n",
    "friends_IMDB_por_cap"
   ]
  },
  {
   "cell_type": "code",
   "execution_count": 30,
   "metadata": {},
   "outputs": [
    {
     "data": {
      "text/html": [
       "<div>\n",
       "<style scoped>\n",
       "    .dataframe tbody tr th:only-of-type {\n",
       "        vertical-align: middle;\n",
       "    }\n",
       "\n",
       "    .dataframe tbody tr th {\n",
       "        vertical-align: top;\n",
       "    }\n",
       "\n",
       "    .dataframe thead th {\n",
       "        text-align: right;\n",
       "    }\n",
       "</style>\n",
       "<table border=\"1\" class=\"dataframe\">\n",
       "  <thead>\n",
       "    <tr style=\"text-align: right;\">\n",
       "      <th></th>\n",
       "      <th>temp_mas_cap</th>\n",
       "      <th>prota_por_cap</th>\n",
       "      <th>imdb_rating</th>\n",
       "    </tr>\n",
       "  </thead>\n",
       "  <tbody>\n",
       "    <tr>\n",
       "      <th>227</th>\n",
       "      <td>10.17</td>\n",
       "      <td>ross</td>\n",
       "      <td>9.7</td>\n",
       "    </tr>\n",
       "    <tr>\n",
       "      <th>108</th>\n",
       "      <td>5.14</td>\n",
       "      <td>phoebe</td>\n",
       "      <td>9.7</td>\n",
       "    </tr>\n",
       "    <tr>\n",
       "      <th>83</th>\n",
       "      <td>4.12</td>\n",
       "      <td>monica</td>\n",
       "      <td>9.5</td>\n",
       "    </tr>\n",
       "    <tr>\n",
       "      <th>37</th>\n",
       "      <td>2.14</td>\n",
       "      <td>monica</td>\n",
       "      <td>9.4</td>\n",
       "    </tr>\n",
       "    <tr>\n",
       "      <th>168</th>\n",
       "      <td>8.4</td>\n",
       "      <td>ross</td>\n",
       "      <td>9.3</td>\n",
       "    </tr>\n",
       "    <tr>\n",
       "      <th>173</th>\n",
       "      <td>8.9</td>\n",
       "      <td>monica</td>\n",
       "      <td>9.3</td>\n",
       "    </tr>\n",
       "    <tr>\n",
       "      <th>94</th>\n",
       "      <td>4.24</td>\n",
       "      <td>joey</td>\n",
       "      <td>9.2</td>\n",
       "    </tr>\n",
       "    <tr>\n",
       "      <th>126</th>\n",
       "      <td>6.9</td>\n",
       "      <td>ross</td>\n",
       "      <td>9.2</td>\n",
       "    </tr>\n",
       "    <tr>\n",
       "      <th>63</th>\n",
       "      <td>3.16</td>\n",
       "      <td>ross</td>\n",
       "      <td>9.1</td>\n",
       "    </tr>\n",
       "    <tr>\n",
       "      <th>103</th>\n",
       "      <td>5.9</td>\n",
       "      <td>rachel</td>\n",
       "      <td>9.1</td>\n",
       "    </tr>\n",
       "    <tr>\n",
       "      <th>53</th>\n",
       "      <td>3.6</td>\n",
       "      <td>monica</td>\n",
       "      <td>9.1</td>\n",
       "    </tr>\n",
       "    <tr>\n",
       "      <th>166</th>\n",
       "      <td>8.2</td>\n",
       "      <td>phoebe</td>\n",
       "      <td>9.1</td>\n",
       "    </tr>\n",
       "    <tr>\n",
       "      <th>72</th>\n",
       "      <td>4.1</td>\n",
       "      <td>phoebe</td>\n",
       "      <td>9.1</td>\n",
       "    </tr>\n",
       "    <tr>\n",
       "      <th>102</th>\n",
       "      <td>5.8</td>\n",
       "      <td>monica</td>\n",
       "      <td>9.1</td>\n",
       "    </tr>\n",
       "    <tr>\n",
       "      <th>79</th>\n",
       "      <td>4.8</td>\n",
       "      <td>monica</td>\n",
       "      <td>9.1</td>\n",
       "    </tr>\n",
       "    <tr>\n",
       "      <th>105</th>\n",
       "      <td>5.11</td>\n",
       "      <td>joey</td>\n",
       "      <td>9.1</td>\n",
       "    </tr>\n",
       "    <tr>\n",
       "      <th>134</th>\n",
       "      <td>6.17</td>\n",
       "      <td>chandler</td>\n",
       "      <td>9.1</td>\n",
       "    </tr>\n",
       "    <tr>\n",
       "      <th>96</th>\n",
       "      <td>5.2</td>\n",
       "      <td>rachel</td>\n",
       "      <td>9.0</td>\n",
       "    </tr>\n",
       "    <tr>\n",
       "      <th>30</th>\n",
       "      <td>2.7</td>\n",
       "      <td>rachel</td>\n",
       "      <td>9.0</td>\n",
       "    </tr>\n",
       "    <tr>\n",
       "      <th>139</th>\n",
       "      <td>6.22</td>\n",
       "      <td>rachel</td>\n",
       "      <td>9.0</td>\n",
       "    </tr>\n",
       "    <tr>\n",
       "      <th>221</th>\n",
       "      <td>10.11</td>\n",
       "      <td>ross</td>\n",
       "      <td>9.0</td>\n",
       "    </tr>\n",
       "  </tbody>\n",
       "</table>\n",
       "</div>"
      ],
      "text/plain": [
       "    temp_mas_cap prota_por_cap  imdb_rating\n",
       "227        10.17          ross          9.7\n",
       "108         5.14        phoebe          9.7\n",
       "83          4.12        monica          9.5\n",
       "37          2.14        monica          9.4\n",
       "168          8.4          ross          9.3\n",
       "173          8.9        monica          9.3\n",
       "94          4.24          joey          9.2\n",
       "126          6.9          ross          9.2\n",
       "63          3.16          ross          9.1\n",
       "103          5.9        rachel          9.1\n",
       "53           3.6        monica          9.1\n",
       "166          8.2        phoebe          9.1\n",
       "72           4.1        phoebe          9.1\n",
       "102          5.8        monica          9.1\n",
       "79           4.8        monica          9.1\n",
       "105         5.11          joey          9.1\n",
       "134         6.17      chandler          9.1\n",
       "96           5.2        rachel          9.0\n",
       "30           2.7        rachel          9.0\n",
       "139         6.22        rachel          9.0\n",
       "221        10.11          ross          9.0"
      ]
     },
     "execution_count": 30,
     "metadata": {},
     "output_type": "execute_result"
    }
   ],
   "source": [
    "# UNIFICAMOS ESTE DATASET DE VALORACIONES POR CAPÍTULO CON NUESTRO DATASET DE PROTAGONISTA POR CAPÍTULO\n",
    "\n",
    "friends_PROTA_por_cap\n",
    "friends_IMDB_por_cap\n",
    "pd.options.display.max_rows = 500\n",
    "data_protas_valoracion = pd.merge(friends_PROTA_por_cap,friends_IMDB_por_cap, how='outer')\n",
    "data_protas_valoracion.dropna(how='any', axis=0, inplace=True)\n",
    "data_protas_valoracion.sort_values(by='imdb_rating', ascending=False, inplace=True)\n",
    "\n",
    "\n",
    "# SACAMOS UN TOP 20 DE LOS CAPÍTULOS MÁS VALORADOS\n",
    "top20_valorados = data_protas_valoracion.iloc[:21]\n",
    "top20_valorados"
   ]
  },
  {
   "cell_type": "code",
   "execution_count": 31,
   "metadata": {},
   "outputs": [],
   "source": [
    "import dataframe_image as dfi\n",
    "\n",
    "data_protas_valoracion.describe()\n",
    "\n",
    "dfi.export(data_protas_valoracion.describe(), 'imbd_estadísticas.png')"
   ]
  },
  {
   "cell_type": "code",
   "execution_count": 32,
   "metadata": {},
   "outputs": [
    {
     "data": {
      "text/plain": [
       "<Figure size 1440x1440 with 0 Axes>"
      ]
     },
     "metadata": {},
     "output_type": "display_data"
    },
    {
     "data": {
      "image/png": "[encoded data removed]",
      "text/plain": [
       "<Figure size 360x360 with 1 Axes>"
      ]
     },
     "metadata": {},
     "output_type": "display_data"
    }
   ],
   "source": [
    "plt.figure(figsize=(20,20))\n",
    "# sns.set(rc = {'figure.figsize':(100,6)})\n",
    "sns.displot(data = data_protas_valoracion['imdb_rating'], kde = True, color=v.colordefondo)\n",
    "\n",
    "plt.xticks(ticks=np.arange(4.5,11,1),fontsize=12);\n",
    "plt.yticks(ticks=np.arange(0,65,10), fontsize=12);\n",
    "plt.ylabel('Nº de capítulos con esa valoración', fontsize=12, rotation=90)\n",
    "plt.xlabel('Valoración en IMDB', fontsize=12);"
   ]
  },
  {
   "cell_type": "code",
   "execution_count": 33,
   "metadata": {},
   "outputs": [
    {
     "name": "stderr",
     "output_type": "stream",
     "text": [
      "c:\\Users\\pieci\\AppData\\Local\\Programs\\Python\\Python37\\lib\\site-packages\\ipykernel_launcher.py:5: FutureWarning:\n",
      "\n",
      "Index.__or__ operating as a set operation is deprecated, in the future this will be a logical operation matching Series.__or__.  Use index.union(other) instead\n",
      "\n"
     ]
    }
   ],
   "source": [
    "# ELIMINAMOS DE ESTE DATAFRAME LOS DOS PERSONAJES QUE NO CORRESPONDEN A LOS 6 PROTAS\n",
    "\n",
    "mask_amy = data_protas_valoracion[data_protas_valoracion['prota_por_cap']=='amy'].index\n",
    "mask_paul = data_protas_valoracion[data_protas_valoracion['prota_por_cap']=='paul'].index\n",
    "data_protas_valoracion = data_protas_valoracion.drop(mask_amy|mask_paul)\n"
   ]
  },
  {
   "cell_type": "code",
   "execution_count": 34,
   "metadata": {},
   "outputs": [
    {
     "data": {
      "text/html": [
       "<div>\n",
       "<style scoped>\n",
       "    .dataframe tbody tr th:only-of-type {\n",
       "        vertical-align: middle;\n",
       "    }\n",
       "\n",
       "    .dataframe tbody tr th {\n",
       "        vertical-align: top;\n",
       "    }\n",
       "\n",
       "    .dataframe thead th {\n",
       "        text-align: right;\n",
       "    }\n",
       "</style>\n",
       "<table border=\"1\" class=\"dataframe\">\n",
       "  <thead>\n",
       "    <tr style=\"text-align: right;\">\n",
       "      <th></th>\n",
       "      <th>imdb_rating</th>\n",
       "    </tr>\n",
       "    <tr>\n",
       "      <th>prota_por_cap</th>\n",
       "      <th></th>\n",
       "    </tr>\n",
       "  </thead>\n",
       "  <tbody>\n",
       "    <tr>\n",
       "      <th>ross</th>\n",
       "      <td>8.492857</td>\n",
       "    </tr>\n",
       "    <tr>\n",
       "      <th>phoebe</th>\n",
       "      <td>8.480000</td>\n",
       "    </tr>\n",
       "    <tr>\n",
       "      <th>monica</th>\n",
       "      <td>8.471053</td>\n",
       "    </tr>\n",
       "    <tr>\n",
       "      <th>chandler</th>\n",
       "      <td>8.362857</td>\n",
       "    </tr>\n",
       "    <tr>\n",
       "      <th>rachel</th>\n",
       "      <td>8.340000</td>\n",
       "    </tr>\n",
       "    <tr>\n",
       "      <th>joey</th>\n",
       "      <td>8.338889</td>\n",
       "    </tr>\n",
       "  </tbody>\n",
       "</table>\n",
       "</div>"
      ],
      "text/plain": [
       "               imdb_rating\n",
       "prota_por_cap             \n",
       "ross              8.492857\n",
       "phoebe            8.480000\n",
       "monica            8.471053\n",
       "chandler          8.362857\n",
       "rachel            8.340000\n",
       "joey              8.338889"
      ]
     },
     "execution_count": 34,
     "metadata": {},
     "output_type": "execute_result"
    }
   ],
   "source": [
    "nota_media = data_protas_valoracion.groupby('prota_por_cap').mean().sort_values(by='imdb_rating', ascending=False)\n",
    "nota_media"
   ]
  },
  {
   "cell_type": "code",
   "execution_count": 35,
   "metadata": {},
   "outputs": [
    {
     "data": {
      "image/png": "[encoded data removed]",
      "text/plain": [
       "<Figure size 432x288 with 1 Axes>"
      ]
     },
     "metadata": {},
     "output_type": "display_data"
    }
   ],
   "source": [
    "# , markerfmt='*', bottom=1.1, use_line_collection=True,  linefmt='grey'\n",
    "\n",
    "x= nota_media.index\n",
    "y= nota_media['imdb_rating']\n",
    "plt.plot(x,y, '-*',\n",
    "        color='grey',\n",
    "        linewidth = 2,\n",
    "        markersize = 30,\n",
    "        markerfacecolor = 'gold',\n",
    "        markeredgecolor = 'blue',\n",
    "        markeredgewidth = 1)\n",
    "plt.yticks(np.arange(7,11), fontsize=12)\n",
    "plt.xticks(fontsize=12, rotation=60)\n",
    "plt.xlabel(' ', fontsize=12)\n",
    "plt.ylabel('Nota media IMDB', fontsize=12);\n",
    "plt.show()\n"
   ]
  },
  {
   "cell_type": "code",
   "execution_count": 36,
   "metadata": {},
   "outputs": [
    {
     "data": {
      "text/html": [
       "<div>\n",
       "<style scoped>\n",
       "    .dataframe tbody tr th:only-of-type {\n",
       "        vertical-align: middle;\n",
       "    }\n",
       "\n",
       "    .dataframe tbody tr th {\n",
       "        vertical-align: top;\n",
       "    }\n",
       "\n",
       "    .dataframe thead th {\n",
       "        text-align: right;\n",
       "    }\n",
       "</style>\n",
       "<table border=\"1\" class=\"dataframe\">\n",
       "  <thead>\n",
       "    <tr style=\"text-align: right;\">\n",
       "      <th></th>\n",
       "      <th>season</th>\n",
       "      <th>episode_num_in_season</th>\n",
       "      <th>episode_num_overall</th>\n",
       "      <th>title</th>\n",
       "      <th>directed_by</th>\n",
       "      <th>written_by</th>\n",
       "      <th>original_air_date</th>\n",
       "      <th>prod_code</th>\n",
       "      <th>us_viewers</th>\n",
       "    </tr>\n",
       "  </thead>\n",
       "  <tbody>\n",
       "    <tr>\n",
       "      <th>0</th>\n",
       "      <td>1</td>\n",
       "      <td>1</td>\n",
       "      <td>1</td>\n",
       "      <td>The One Where Monica Gets a Roommate</td>\n",
       "      <td>James Burrows</td>\n",
       "      <td>David Crane &amp; Marta Kauffman</td>\n",
       "      <td>1994-09-22</td>\n",
       "      <td>456650</td>\n",
       "      <td>21500000.0</td>\n",
       "    </tr>\n",
       "    <tr>\n",
       "      <th>1</th>\n",
       "      <td>1</td>\n",
       "      <td>2</td>\n",
       "      <td>2</td>\n",
       "      <td>The One with the Sonogram at the End</td>\n",
       "      <td>James Burrows</td>\n",
       "      <td>David Crane &amp; Marta Kauffman</td>\n",
       "      <td>1994-09-29</td>\n",
       "      <td>456652</td>\n",
       "      <td>20200000.0</td>\n",
       "    </tr>\n",
       "    <tr>\n",
       "      <th>2</th>\n",
       "      <td>1</td>\n",
       "      <td>3</td>\n",
       "      <td>3</td>\n",
       "      <td>The One with the Thumb</td>\n",
       "      <td>James Burrows</td>\n",
       "      <td>Jeffrey Astrof &amp; Mike Sikowitz</td>\n",
       "      <td>1994-10-06</td>\n",
       "      <td>456651</td>\n",
       "      <td>19500000.0</td>\n",
       "    </tr>\n",
       "    <tr>\n",
       "      <th>3</th>\n",
       "      <td>1</td>\n",
       "      <td>4</td>\n",
       "      <td>4</td>\n",
       "      <td>The One with George Stephanopoulos</td>\n",
       "      <td>James Burrows</td>\n",
       "      <td>Alexa Junge</td>\n",
       "      <td>1994-10-13</td>\n",
       "      <td>456654</td>\n",
       "      <td>19700000.0</td>\n",
       "    </tr>\n",
       "    <tr>\n",
       "      <th>4</th>\n",
       "      <td>1</td>\n",
       "      <td>5</td>\n",
       "      <td>5</td>\n",
       "      <td>The One with the East German Laundry Detergent</td>\n",
       "      <td>Pamela Fryman</td>\n",
       "      <td>Jeff Greenstein &amp; Jeff Strauss</td>\n",
       "      <td>1994-10-20</td>\n",
       "      <td>456653</td>\n",
       "      <td>18600000.0</td>\n",
       "    </tr>\n",
       "  </tbody>\n",
       "</table>\n",
       "</div>"
      ],
      "text/plain": [
       "   season  episode_num_in_season  episode_num_overall  \\\n",
       "0       1                      1                    1   \n",
       "1       1                      2                    2   \n",
       "2       1                      3                    3   \n",
       "3       1                      4                    4   \n",
       "4       1                      5                    5   \n",
       "\n",
       "                                            title    directed_by  \\\n",
       "0            The One Where Monica Gets a Roommate  James Burrows   \n",
       "1            The One with the Sonogram at the End  James Burrows   \n",
       "2                          The One with the Thumb  James Burrows   \n",
       "3              The One with George Stephanopoulos  James Burrows   \n",
       "4  The One with the East German Laundry Detergent  Pamela Fryman   \n",
       "\n",
       "                       written_by original_air_date prod_code  us_viewers  \n",
       "0    David Crane & Marta Kauffman        1994-09-22    456650  21500000.0  \n",
       "1    David Crane & Marta Kauffman        1994-09-29    456652  20200000.0  \n",
       "2  Jeffrey Astrof & Mike Sikowitz        1994-10-06    456651  19500000.0  \n",
       "3                     Alexa Junge        1994-10-13    456654  19700000.0  \n",
       "4  Jeff Greenstein & Jeff Strauss        1994-10-20    456653  18600000.0  "
      ]
     },
     "execution_count": 36,
     "metadata": {},
     "output_type": "execute_result"
    }
   ],
   "source": [
    "# EMPEZAMOS A TRABAJAR CON EL TERCER DATASET, QUE CONTIENE LAS VISUALI ZACIONES POR CAPÍTULO\n",
    "\n",
    "friends_visualiz.head()"
   ]
  },
  {
   "cell_type": "code",
   "execution_count": 37,
   "metadata": {},
   "outputs": [
    {
     "data": {
      "text/html": [
       "<div>\n",
       "<style scoped>\n",
       "    .dataframe tbody tr th:only-of-type {\n",
       "        vertical-align: middle;\n",
       "    }\n",
       "\n",
       "    .dataframe tbody tr th {\n",
       "        vertical-align: top;\n",
       "    }\n",
       "\n",
       "    .dataframe thead th {\n",
       "        text-align: right;\n",
       "    }\n",
       "</style>\n",
       "<table border=\"1\" class=\"dataframe\">\n",
       "  <thead>\n",
       "    <tr style=\"text-align: right;\">\n",
       "      <th></th>\n",
       "      <th>season</th>\n",
       "      <th>episode_num_in_season</th>\n",
       "      <th>episode_num_overall</th>\n",
       "      <th>title</th>\n",
       "      <th>directed_by</th>\n",
       "      <th>written_by</th>\n",
       "      <th>original_air_date</th>\n",
       "      <th>prod_code</th>\n",
       "      <th>us_viewers</th>\n",
       "      <th>temp_mas_cap</th>\n",
       "    </tr>\n",
       "  </thead>\n",
       "  <tbody>\n",
       "    <tr>\n",
       "      <th>0</th>\n",
       "      <td>1</td>\n",
       "      <td>1</td>\n",
       "      <td>1</td>\n",
       "      <td>The One Where Monica Gets a Roommate</td>\n",
       "      <td>James Burrows</td>\n",
       "      <td>David Crane &amp; Marta Kauffman</td>\n",
       "      <td>1994-09-22</td>\n",
       "      <td>456650</td>\n",
       "      <td>21500000.0</td>\n",
       "      <td>1.1</td>\n",
       "    </tr>\n",
       "    <tr>\n",
       "      <th>1</th>\n",
       "      <td>1</td>\n",
       "      <td>2</td>\n",
       "      <td>2</td>\n",
       "      <td>The One with the Sonogram at the End</td>\n",
       "      <td>James Burrows</td>\n",
       "      <td>David Crane &amp; Marta Kauffman</td>\n",
       "      <td>1994-09-29</td>\n",
       "      <td>456652</td>\n",
       "      <td>20200000.0</td>\n",
       "      <td>1.2</td>\n",
       "    </tr>\n",
       "    <tr>\n",
       "      <th>2</th>\n",
       "      <td>1</td>\n",
       "      <td>3</td>\n",
       "      <td>3</td>\n",
       "      <td>The One with the Thumb</td>\n",
       "      <td>James Burrows</td>\n",
       "      <td>Jeffrey Astrof &amp; Mike Sikowitz</td>\n",
       "      <td>1994-10-06</td>\n",
       "      <td>456651</td>\n",
       "      <td>19500000.0</td>\n",
       "      <td>1.3</td>\n",
       "    </tr>\n",
       "    <tr>\n",
       "      <th>3</th>\n",
       "      <td>1</td>\n",
       "      <td>4</td>\n",
       "      <td>4</td>\n",
       "      <td>The One with George Stephanopoulos</td>\n",
       "      <td>James Burrows</td>\n",
       "      <td>Alexa Junge</td>\n",
       "      <td>1994-10-13</td>\n",
       "      <td>456654</td>\n",
       "      <td>19700000.0</td>\n",
       "      <td>1.4</td>\n",
       "    </tr>\n",
       "    <tr>\n",
       "      <th>4</th>\n",
       "      <td>1</td>\n",
       "      <td>5</td>\n",
       "      <td>5</td>\n",
       "      <td>The One with the East German Laundry Detergent</td>\n",
       "      <td>Pamela Fryman</td>\n",
       "      <td>Jeff Greenstein &amp; Jeff Strauss</td>\n",
       "      <td>1994-10-20</td>\n",
       "      <td>456653</td>\n",
       "      <td>18600000.0</td>\n",
       "      <td>1.5</td>\n",
       "    </tr>\n",
       "  </tbody>\n",
       "</table>\n",
       "</div>"
      ],
      "text/plain": [
       "   season  episode_num_in_season  episode_num_overall  \\\n",
       "0       1                      1                    1   \n",
       "1       1                      2                    2   \n",
       "2       1                      3                    3   \n",
       "3       1                      4                    4   \n",
       "4       1                      5                    5   \n",
       "\n",
       "                                            title    directed_by  \\\n",
       "0            The One Where Monica Gets a Roommate  James Burrows   \n",
       "1            The One with the Sonogram at the End  James Burrows   \n",
       "2                          The One with the Thumb  James Burrows   \n",
       "3              The One with George Stephanopoulos  James Burrows   \n",
       "4  The One with the East German Laundry Detergent  Pamela Fryman   \n",
       "\n",
       "                       written_by original_air_date prod_code  us_viewers  \\\n",
       "0    David Crane & Marta Kauffman        1994-09-22    456650  21500000.0   \n",
       "1    David Crane & Marta Kauffman        1994-09-29    456652  20200000.0   \n",
       "2  Jeffrey Astrof & Mike Sikowitz        1994-10-06    456651  19500000.0   \n",
       "3                     Alexa Junge        1994-10-13    456654  19700000.0   \n",
       "4  Jeff Greenstein & Jeff Strauss        1994-10-20    456653  18600000.0   \n",
       "\n",
       "  temp_mas_cap  \n",
       "0          1.1  \n",
       "1          1.2  \n",
       "2          1.3  \n",
       "3          1.4  \n",
       "4          1.5  "
      ]
     },
     "execution_count": 37,
     "metadata": {},
     "output_type": "execute_result"
    }
   ],
   "source": [
    "friends_visualiz['temp_mas_cap'] = friends_visualiz['season'].map(str) + '.' + friends_visualiz['episode_num_in_season'].map(str) \n",
    "friends_visualiz.head()"
   ]
  },
  {
   "cell_type": "code",
   "execution_count": 38,
   "metadata": {},
   "outputs": [
    {
     "data": {
      "text/html": [
       "<div>\n",
       "<style scoped>\n",
       "    .dataframe tbody tr th:only-of-type {\n",
       "        vertical-align: middle;\n",
       "    }\n",
       "\n",
       "    .dataframe tbody tr th {\n",
       "        vertical-align: top;\n",
       "    }\n",
       "\n",
       "    .dataframe thead th {\n",
       "        text-align: right;\n",
       "    }\n",
       "</style>\n",
       "<table border=\"1\" class=\"dataframe\">\n",
       "  <thead>\n",
       "    <tr style=\"text-align: right;\">\n",
       "      <th></th>\n",
       "      <th>us_viewers</th>\n",
       "    </tr>\n",
       "    <tr>\n",
       "      <th>season</th>\n",
       "      <th></th>\n",
       "    </tr>\n",
       "  </thead>\n",
       "  <tbody>\n",
       "    <tr>\n",
       "      <th>1</th>\n",
       "      <td>24790000.0</td>\n",
       "    </tr>\n",
       "    <tr>\n",
       "      <th>2</th>\n",
       "      <td>31720000.0</td>\n",
       "    </tr>\n",
       "    <tr>\n",
       "      <th>3</th>\n",
       "      <td>26080000.0</td>\n",
       "    </tr>\n",
       "    <tr>\n",
       "      <th>4</th>\n",
       "      <td>24950000.0</td>\n",
       "    </tr>\n",
       "    <tr>\n",
       "      <th>5</th>\n",
       "      <td>24750000.0</td>\n",
       "    </tr>\n",
       "    <tr>\n",
       "      <th>6</th>\n",
       "      <td>23050000.0</td>\n",
       "    </tr>\n",
       "    <tr>\n",
       "      <th>7</th>\n",
       "      <td>22050000.0</td>\n",
       "    </tr>\n",
       "    <tr>\n",
       "      <th>8</th>\n",
       "      <td>26720000.0</td>\n",
       "    </tr>\n",
       "    <tr>\n",
       "      <th>9</th>\n",
       "      <td>23930000.0</td>\n",
       "    </tr>\n",
       "    <tr>\n",
       "      <th>10</th>\n",
       "      <td>24580000.0</td>\n",
       "    </tr>\n",
       "  </tbody>\n",
       "</table>\n",
       "</div>"
      ],
      "text/plain": [
       "        us_viewers\n",
       "season            \n",
       "1       24790000.0\n",
       "2       31720000.0\n",
       "3       26080000.0\n",
       "4       24950000.0\n",
       "5       24750000.0\n",
       "6       23050000.0\n",
       "7       22050000.0\n",
       "8       26720000.0\n",
       "9       23930000.0\n",
       "10      24580000.0"
      ]
     },
     "execution_count": 38,
     "metadata": {},
     "output_type": "execute_result"
    }
   ],
   "source": [
    "visual_por_temp = friends_visualiz[['season','us_viewers']]\n",
    "visual_por_temp_agrup = round(visual_por_temp.groupby('season').mean(),-4)\n",
    "visual_por_temp_agrup"
   ]
  },
  {
   "cell_type": "code",
   "execution_count": 39,
   "metadata": {},
   "outputs": [
    {
     "data": {
      "image/png": "[encoded data removed]",
      "text/plain": [
       "<Figure size 1440x576 with 1 Axes>"
      ]
     },
     "metadata": {},
     "output_type": "display_data"
    }
   ],
   "source": [
    "plt.figure(figsize=(20,8))\n",
    "# sns.set(rc = {'figure.figsize':(100,6)})\n",
    "sns.barplot(data = visual_por_temp_agrup, x=visual_por_temp_agrup.index, y=visual_por_temp_agrup['us_viewers'], palette='Oranges')\n",
    "\n",
    "plt.ylabel('Media de visualizaciones por temporada (*10M)', fontsize=14, rotation=90)\n",
    "plt.xlabel('Temporadas', fontsize=14);"
   ]
  },
  {
   "cell_type": "code",
   "execution_count": 40,
   "metadata": {},
   "outputs": [
    {
     "data": {
      "text/html": [
       "<div>\n",
       "<style scoped>\n",
       "    .dataframe tbody tr th:only-of-type {\n",
       "        vertical-align: middle;\n",
       "    }\n",
       "\n",
       "    .dataframe tbody tr th {\n",
       "        vertical-align: top;\n",
       "    }\n",
       "\n",
       "    .dataframe thead th {\n",
       "        text-align: right;\n",
       "    }\n",
       "</style>\n",
       "<table border=\"1\" class=\"dataframe\">\n",
       "  <thead>\n",
       "    <tr style=\"text-align: right;\">\n",
       "      <th></th>\n",
       "      <th>temp_mas_cap</th>\n",
       "      <th>us_viewers</th>\n",
       "    </tr>\n",
       "  </thead>\n",
       "  <tbody>\n",
       "    <tr>\n",
       "      <th>0</th>\n",
       "      <td>1.1</td>\n",
       "      <td>21500000.0</td>\n",
       "    </tr>\n",
       "    <tr>\n",
       "      <th>1</th>\n",
       "      <td>1.2</td>\n",
       "      <td>20200000.0</td>\n",
       "    </tr>\n",
       "    <tr>\n",
       "      <th>2</th>\n",
       "      <td>1.3</td>\n",
       "      <td>19500000.0</td>\n",
       "    </tr>\n",
       "    <tr>\n",
       "      <th>3</th>\n",
       "      <td>1.4</td>\n",
       "      <td>19700000.0</td>\n",
       "    </tr>\n",
       "    <tr>\n",
       "      <th>4</th>\n",
       "      <td>1.5</td>\n",
       "      <td>18600000.0</td>\n",
       "    </tr>\n",
       "  </tbody>\n",
       "</table>\n",
       "</div>"
      ],
      "text/plain": [
       "  temp_mas_cap  us_viewers\n",
       "0          1.1  21500000.0\n",
       "1          1.2  20200000.0\n",
       "2          1.3  19500000.0\n",
       "3          1.4  19700000.0\n",
       "4          1.5  18600000.0"
      ]
     },
     "execution_count": 40,
     "metadata": {},
     "output_type": "execute_result"
    }
   ],
   "source": [
    "friends_visualiz = friends_visualiz[['temp_mas_cap','us_viewers']]\n",
    "friends_visualiz.head()"
   ]
  },
  {
   "cell_type": "code",
   "execution_count": 41,
   "metadata": {},
   "outputs": [
    {
     "data": {
      "text/html": [
       "<div>\n",
       "<style scoped>\n",
       "    .dataframe tbody tr th:only-of-type {\n",
       "        vertical-align: middle;\n",
       "    }\n",
       "\n",
       "    .dataframe tbody tr th {\n",
       "        vertical-align: top;\n",
       "    }\n",
       "\n",
       "    .dataframe thead th {\n",
       "        text-align: right;\n",
       "    }\n",
       "</style>\n",
       "<table border=\"1\" class=\"dataframe\">\n",
       "  <thead>\n",
       "    <tr style=\"text-align: right;\">\n",
       "      <th></th>\n",
       "      <th>temp_mas_cap</th>\n",
       "      <th>prota_por_cap</th>\n",
       "      <th>imdb_rating</th>\n",
       "      <th>us_viewers</th>\n",
       "    </tr>\n",
       "  </thead>\n",
       "  <tbody>\n",
       "    <tr>\n",
       "      <th>223</th>\n",
       "      <td>7.21</td>\n",
       "      <td>chandler</td>\n",
       "      <td>7.4</td>\n",
       "      <td>15650000.0</td>\n",
       "    </tr>\n",
       "    <tr>\n",
       "      <th>122</th>\n",
       "      <td>7.20</td>\n",
       "      <td>rachel</td>\n",
       "      <td>8.3</td>\n",
       "      <td>16300000.0</td>\n",
       "    </tr>\n",
       "    <tr>\n",
       "      <th>44</th>\n",
       "      <td>7.19</td>\n",
       "      <td>monica</td>\n",
       "      <td>8.7</td>\n",
       "      <td>16540000.0</td>\n",
       "    </tr>\n",
       "    <tr>\n",
       "      <th>164</th>\n",
       "      <td>7.8</td>\n",
       "      <td>chandler</td>\n",
       "      <td>8.2</td>\n",
       "      <td>16570000.0</td>\n",
       "    </tr>\n",
       "    <tr>\n",
       "      <th>124</th>\n",
       "      <td>7.22</td>\n",
       "      <td>rachel</td>\n",
       "      <td>8.3</td>\n",
       "      <td>17230000.0</td>\n",
       "    </tr>\n",
       "  </tbody>\n",
       "</table>\n",
       "</div>"
      ],
      "text/plain": [
       "    temp_mas_cap prota_por_cap  imdb_rating  us_viewers\n",
       "223         7.21      chandler          7.4  15650000.0\n",
       "122         7.20        rachel          8.3  16300000.0\n",
       "44          7.19        monica          8.7  16540000.0\n",
       "164          7.8      chandler          8.2  16570000.0\n",
       "124         7.22        rachel          8.3  17230000.0"
      ]
     },
     "execution_count": 41,
     "metadata": {},
     "output_type": "execute_result"
    }
   ],
   "source": [
    "# UNIFICAMOS ESTE DATASET DE VISUALIZACIONES POR CAPÍTULO CON NUESTROS DATASETS ANTERIORES\n",
    "\n",
    "data_protas_valoracion\n",
    "friends_visualiz\n",
    "\n",
    "pd.options.display.max_rows = 500\n",
    "data_protas_val_visua = pd.merge(data_protas_valoracion,friends_visualiz, how='outer')\n",
    "data_protas_val_visua.dropna(how='any', axis=0, inplace=True)\n",
    "data_protas_val_visua.sort_values(by='us_viewers', ascending=True, inplace=True)\n",
    "data_protas_val_visua.head()\n"
   ]
  },
  {
   "cell_type": "code",
   "execution_count": 42,
   "metadata": {},
   "outputs": [],
   "source": [
    "\n",
    "# imdb_size  = data_protas_val_visua['imdb_rating']\n",
    "# us_viewers_color = [float(each) for each in data_protas_val_visua['us_viewers']]\n",
    "\n",
    "# data = [\n",
    "#     {\n",
    "#         'y': data_protas_val_visua['imdb_rating'],\n",
    "#         'x': data_protas_val_visua['us_viewers'],\n",
    "#         'mode': 'markers',\n",
    "#         'marker': {\n",
    "#             'color': imdb_size,\n",
    "#             'size': imdb_size,\n",
    "#             'showscale': True,\n",
    "#             'colorscale':v.degradado_colores,       \n",
    "              \n",
    "            \n",
    "#         },\n",
    "#         'text': data_protas_val_visua['temp_mas_cap'],\n",
    "        \n",
    "#     }\n",
    "# ]\n",
    "\n",
    "# iplot(data)"
   ]
  },
  {
   "cell_type": "code",
   "execution_count": 47,
   "metadata": {},
   "outputs": [
    {
     "data": {
      "application/vnd.plotly.v1+json": {
       "config": {
        "plotlyServerURL": "https://plot.ly"
       },
       "data": [
        {
         "marker": {
          "color": [
           7.4,
           8.3,
           8.7,
           8.2,
           8.3,
           8.4,
           8.1,
           8.1,
           8.4,
           8.3,
           7.3,
           8.2,
           9.2,
           8.2,
           8.1,
           8.2,
           7.8,
           8.2,
           8.1,
           8,
           9,
           8,
           8.3,
           8.2,
           8.3,
           8.9,
           8.2,
           8.6,
           8.3,
           8.7,
           8.3,
           8.6,
           8.4,
           8.4,
           8.5,
           8.1,
           8.1,
           8.7,
           8.2,
           8.3,
           8.3,
           7.1,
           8.1,
           8.2,
           8.4,
           8.7,
           8.8,
           7.9,
           8.5,
           8.9,
           8.2,
           8.5,
           9.1,
           8.4,
           8.2,
           8.1,
           7.4,
           8,
           8.8,
           8.1,
           8.6,
           8.6,
           8,
           7.4,
           8.2,
           8.5,
           8.1,
           8.1,
           8.3,
           8.6,
           8.6,
           8.2,
           9.1,
           8.1,
           8.2,
           8.2,
           8.5,
           8.6,
           8,
           8.7,
           8.1,
           8.5,
           9.1,
           8.2,
           8.8,
           9,
           8.5,
           8.5,
           7.9,
           8.1,
           7.9,
           8.5,
           8.2,
           8.5,
           8,
           7.9,
           9.1,
           8.1,
           8.5,
           8.2,
           8.2,
           8.2,
           8,
           9.3,
           7.8,
           8.5,
           8.3,
           8.2,
           8.4,
           8.1,
           8.6,
           8,
           8.5,
           8.3,
           8.5,
           8.5,
           8.9,
           8.5,
           8.1,
           8.2,
           8.2,
           9,
           8.1,
           8,
           8.1,
           8,
           8.2,
           8.6,
           9,
           8.1,
           8.4,
           8.6,
           9,
           8.5,
           8,
           8.4,
           9.3,
           8.1,
           8.5,
           8.6,
           8.1,
           8.1,
           8.3,
           8.7,
           8.5,
           8.5,
           8.8,
           8.9,
           8.6,
           8.1,
           8,
           8,
           8,
           8.7,
           8.7,
           8.2,
           8.2,
           8,
           9,
           8.4,
           9.1,
           8.8,
           8.5,
           9.1,
           9.5,
           8.5,
           8.3,
           8.1,
           8.3,
           8.2,
           9.7,
           8.7,
           7.9,
           8.3,
           8.2,
           8.4,
           7.9,
           9.1,
           8.2,
           7.8,
           8.2,
           8.3,
           8.3,
           8.7,
           7.8,
           8.5,
           8.2,
           8.7,
           8.5,
           9,
           8.5,
           8.1,
           9.1,
           8.2,
           8.2,
           8.6,
           8.3,
           7.8,
           9.1,
           8.9,
           8.4,
           8.3,
           8.3,
           8.6,
           8.8,
           8.4,
           9,
           8.7,
           8.6,
           8.9,
           8.5,
           8.9,
           8.1,
           8.7,
           9.2,
           8.7,
           8.5,
           8,
           8.5,
           8.9,
           9.4,
           8.6,
           8.8,
           9.7,
           8.7,
           8.6
          ],
          "colorscale": [
           [
            0,
            "#D88F53"
           ],
           [
            1,
            "#6D285D"
           ]
          ],
          "showscale": true,
          "size": [
           7.4,
           8.3,
           8.7,
           8.2,
           8.3,
           8.4,
           8.1,
           8.1,
           8.4,
           8.3,
           7.3,
           8.2,
           9.2,
           8.2,
           8.1,
           8.2,
           7.8,
           8.2,
           8.1,
           8,
           9,
           8,
           8.3,
           8.2,
           8.3,
           8.9,
           8.2,
           8.6,
           8.3,
           8.7,
           8.3,
           8.6,
           8.4,
           8.4,
           8.5,
           8.1,
           8.1,
           8.7,
           8.2,
           8.3,
           8.3,
           7.1,
           8.1,
           8.2,
           8.4,
           8.7,
           8.8,
           7.9,
           8.5,
           8.9,
           8.2,
           8.5,
           9.1,
           8.4,
           8.2,
           8.1,
           7.4,
           8,
           8.8,
           8.1,
           8.6,
           8.6,
           8,
           7.4,
           8.2,
           8.5,
           8.1,
           8.1,
           8.3,
           8.6,
           8.6,
           8.2,
           9.1,
           8.1,
           8.2,
           8.2,
           8.5,
           8.6,
           8,
           8.7,
           8.1,
           8.5,
           9.1,
           8.2,
           8.8,
           9,
           8.5,
           8.5,
           7.9,
           8.1,
           7.9,
           8.5,
           8.2,
           8.5,
           8,
           7.9,
           9.1,
           8.1,
           8.5,
           8.2,
           8.2,
           8.2,
           8,
           9.3,
           7.8,
           8.5,
           8.3,
           8.2,
           8.4,
           8.1,
           8.6,
           8,
           8.5,
           8.3,
           8.5,
           8.5,
           8.9,
           8.5,
           8.1,
           8.2,
           8.2,
           9,
           8.1,
           8,
           8.1,
           8,
           8.2,
           8.6,
           9,
           8.1,
           8.4,
           8.6,
           9,
           8.5,
           8,
           8.4,
           9.3,
           8.1,
           8.5,
           8.6,
           8.1,
           8.1,
           8.3,
           8.7,
           8.5,
           8.5,
           8.8,
           8.9,
           8.6,
           8.1,
           8,
           8,
           8,
           8.7,
           8.7,
           8.2,
           8.2,
           8,
           9,
           8.4,
           9.1,
           8.8,
           8.5,
           9.1,
           9.5,
           8.5,
           8.3,
           8.1,
           8.3,
           8.2,
           9.7,
           8.7,
           7.9,
           8.3,
           8.2,
           8.4,
           7.9,
           9.1,
           8.2,
           7.8,
           8.2,
           8.3,
           8.3,
           8.7,
           7.8,
           8.5,
           8.2,
           8.7,
           8.5,
           9,
           8.5,
           8.1,
           9.1,
           8.2,
           8.2,
           8.6,
           8.3,
           7.8,
           9.1,
           8.9,
           8.4,
           8.3,
           8.3,
           8.6,
           8.8,
           8.4,
           9,
           8.7,
           8.6,
           8.9,
           8.5,
           8.9,
           8.1,
           8.7,
           9.2,
           8.7,
           8.5,
           8,
           8.5,
           8.9,
           9.4,
           8.6,
           8.8,
           9.7,
           8.7,
           8.6
          ]
         },
         "mode": "markers",
         "text": [
          "7.21",
          "7.20",
          "7.19",
          "7.8",
          "7.22",
          "7.18",
          "1.6",
          "9.19",
          "1.5",
          "10.4",
          "6.20",
          "9.21",
          "6.9",
          "10.5",
          "1.3",
          "9.16",
          "9.22",
          "5.20",
          "1.4",
          "1.10",
          "6.22",
          "1.2",
          "10.7",
          "10.6",
          "6.18",
          "10.8",
          "9.20",
          "9.18",
          "7.17",
          "5.19",
          "9.15",
          "6.23",
          "5.21",
          "9.17",
          "6.4",
          "7.9",
          "1.8",
          "7.16",
          "5.22",
          "6.19",
          "1.1",
          "4.21",
          "6.3",
          "4.18",
          "7.15",
          "4.19",
          "10.3",
          "5.18",
          "4.20",
          "7.6",
          "8.18",
          "6.8",
          "6.17",
          "7.13",
          "8.20",
          "6.11",
          "9.10",
          "6.12",
          "10.2",
          "6.5",
          "7.14",
          "6.10",
          "8.10",
          "8.19",
          "3.22",
          "10.15",
          "7.4",
          "7.3",
          "6.7",
          "10.14",
          "7.12",
          "6.2",
          "5.9",
          "3.24",
          "1.9",
          "4.16",
          "4.22",
          "4.17",
          "4.10",
          "3.21",
          "3.5",
          "7.10",
          "3.6",
          "9.14",
          "3.25",
          "1.7",
          "6.6",
          "4.11",
          "9.12",
          "5.10",
          "9.11",
          "7.7",
          "1.14",
          "6.14",
          "8.11",
          "4.9",
          "5.8",
          "8.21",
          "4.3",
          "1.12",
          "5.4",
          "6.13",
          "3.23",
          "8.9",
          "8.7",
          "10.13",
          "8.22",
          "4.4",
          "4.5",
          "3.20",
          "7.11",
          "7.5",
          "4.15",
          "5.7",
          "9.5",
          "5.17",
          "10.16",
          "10.1",
          "2.21",
          "1.15",
          "5.12",
          "10.11",
          "5.13",
          "5.6",
          "3.10",
          "3.3",
          "4.13",
          "9.7",
          "5.2",
          "9.9",
          "9.23",
          "10.9",
          "2.22",
          "8.12",
          "4.2",
          "7.1",
          "8.4",
          "8.5",
          "4.6",
          "1.13",
          "9.4",
          "9.13",
          "3.17",
          "5.5",
          "6.15",
          "6.16",
          "5.23",
          "10.12",
          "5.16",
          "1.16",
          "2.23",
          "3.4",
          "8.17",
          "4.7",
          "8.8",
          "1.11",
          "9.3",
          "10.10",
          "3.2",
          "3.1",
          "4.8",
          "5.3",
          "8.6",
          "5.11",
          "4.12",
          "3.15",
          "3.7",
          "2.20",
          "9.6",
          "8.16",
          "5.14",
          "6.1",
          "2.9",
          "7.2",
          "3.13",
          "3.18",
          "2.4",
          "3.16",
          "2.5",
          "1.21",
          "8.14",
          "8.15",
          "3.8",
          "1.23",
          "3.14",
          "9.2",
          "2.24",
          "8.3",
          "8.13",
          "3.9",
          "5.15",
          "1.19",
          "4.1",
          "3.12",
          "2.2",
          "3.11",
          "1.22",
          "1.20",
          "8.2",
          "7.23",
          "2.18",
          "2.17",
          "2.3",
          "2.6",
          "1.18",
          "1.17",
          "2.7",
          "6.24",
          "2.16",
          "5.1",
          "2.19",
          "1.24",
          "2.11",
          "4.23",
          "4.24",
          "8.1",
          "2.1",
          "2.10",
          "2.8",
          "2.15",
          "2.14",
          "9.1",
          "8.23",
          "10.17",
          "2.13",
          "2.12"
         ],
         "type": "scatter",
         "x": [
          15650000,
          16300000,
          16540000,
          16570000,
          17230000,
          17810000,
          18200000,
          18240000,
          18600000,
          18760000,
          18810000,
          19030000,
          19170000,
          19370000,
          19500000,
          19520000,
          19550000,
          19630000,
          19700000,
          19900000,
          20010000,
          20200000,
          20210000,
          20370000,
          20520000,
          20660000,
          20710000,
          20790000,
          20840000,
          20850000,
          20850000,
          20870000,
          20920000,
          21000000,
          21070000,
          21080000,
          21100000,
          21220000,
          21280000,
          21460000,
          21500000,
          21510000,
          21600000,
          21720000,
          21750000,
          21760000,
          21870000,
          21880000,
          21940000,
          22010000,
          22050000,
          22140000,
          22210000,
          22240000,
          22240000,
          22260000,
          22280000,
          22330000,
          22370000,
          22390000,
          22400000,
          22430000,
          22440000,
          22590000,
          22630000,
          22640000,
          22660000,
          22720000,
          22750000,
          22820000,
          22860000,
          22950000,
          23030000,
          23070000,
          23100000,
          23130000,
          23150000,
          23220000,
          23220000,
          23220000,
          23250000,
          23260000,
          23270000,
          23370000,
          23390000,
          23500000,
          23590000,
          23660000,
          23660000,
          23670000,
          23670000,
          23730000,
          23800000,
          23820000,
          23850000,
          23890000,
          23920000,
          23970000,
          23980000,
          24000000,
          24090000,
          24140000,
          24170000,
          24240000,
          24240000,
          24270000,
          24310000,
          24310000,
          24350000,
          24360000,
          24370000,
          24430000,
          24440000,
          24440000,
          24460000,
          24480000,
          24510000,
          24540000,
          24700000,
          24800000,
          24820000,
          24910000,
          24920000,
          24990000,
          25100000,
          25230000,
          25270000,
          25350000,
          25360000,
          25420000,
          25460000,
          25480000,
          25500000,
          25530000,
          25540000,
          25540000,
          25580000,
          25640000,
          25680000,
          25800000,
          25810000,
          25820000,
          25840000,
          25870000,
          25890000,
          25890000,
          25900000,
          25900000,
          26020000,
          26100000,
          26100000,
          26100000,
          26300000,
          26350000,
          26540000,
          26600000,
          26620000,
          26680000,
          26730000,
          26760000,
          26760000,
          26820000,
          26960000,
          27020000,
          27140000,
          27250000,
          27360000,
          27400000,
          27510000,
          27520000,
          27700000,
          27740000,
          27800000,
          27930000,
          28030000,
          28070000,
          28100000,
          28260000,
          28300000,
          28400000,
          28640000,
          28640000,
          28690000,
          28700000,
          28910000,
          28930000,
          29000000,
          29200000,
          29240000,
          29280000,
          29310000,
          29400000,
          29430000,
          29610000,
          29800000,
          29800000,
          29900000,
          30000000,
          30040000,
          30050000,
          30100000,
          30200000,
          30200000,
          30200000,
          30400000,
          30500000,
          30500000,
          30730000,
          31100000,
          31120000,
          31200000,
          31300000,
          31600000,
          31610000,
          31610000,
          31700000,
          32100000,
          32200000.000000004,
          32900000,
          32900000,
          33600000,
          34010000,
          34910000,
          52460000,
          52900000,
          52900000
         ],
         "y": [
          7.4,
          8.3,
          8.7,
          8.2,
          8.3,
          8.4,
          8.1,
          8.1,
          8.4,
          8.3,
          7.3,
          8.2,
          9.2,
          8.2,
          8.1,
          8.2,
          7.8,
          8.2,
          8.1,
          8,
          9,
          8,
          8.3,
          8.2,
          8.3,
          8.9,
          8.2,
          8.6,
          8.3,
          8.7,
          8.3,
          8.6,
          8.4,
          8.4,
          8.5,
          8.1,
          8.1,
          8.7,
          8.2,
          8.3,
          8.3,
          7.1,
          8.1,
          8.2,
          8.4,
          8.7,
          8.8,
          7.9,
          8.5,
          8.9,
          8.2,
          8.5,
          9.1,
          8.4,
          8.2,
          8.1,
          7.4,
          8,
          8.8,
          8.1,
          8.6,
          8.6,
          8,
          7.4,
          8.2,
          8.5,
          8.1,
          8.1,
          8.3,
          8.6,
          8.6,
          8.2,
          9.1,
          8.1,
          8.2,
          8.2,
          8.5,
          8.6,
          8,
          8.7,
          8.1,
          8.5,
          9.1,
          8.2,
          8.8,
          9,
          8.5,
          8.5,
          7.9,
          8.1,
          7.9,
          8.5,
          8.2,
          8.5,
          8,
          7.9,
          9.1,
          8.1,
          8.5,
          8.2,
          8.2,
          8.2,
          8,
          9.3,
          7.8,
          8.5,
          8.3,
          8.2,
          8.4,
          8.1,
          8.6,
          8,
          8.5,
          8.3,
          8.5,
          8.5,
          8.9,
          8.5,
          8.1,
          8.2,
          8.2,
          9,
          8.1,
          8,
          8.1,
          8,
          8.2,
          8.6,
          9,
          8.1,
          8.4,
          8.6,
          9,
          8.5,
          8,
          8.4,
          9.3,
          8.1,
          8.5,
          8.6,
          8.1,
          8.1,
          8.3,
          8.7,
          8.5,
          8.5,
          8.8,
          8.9,
          8.6,
          8.1,
          8,
          8,
          8,
          8.7,
          8.7,
          8.2,
          8.2,
          8,
          9,
          8.4,
          9.1,
          8.8,
          8.5,
          9.1,
          9.5,
          8.5,
          8.3,
          8.1,
          8.3,
          8.2,
          9.7,
          8.7,
          7.9,
          8.3,
          8.2,
          8.4,
          7.9,
          9.1,
          8.2,
          7.8,
          8.2,
          8.3,
          8.3,
          8.7,
          7.8,
          8.5,
          8.2,
          8.7,
          8.5,
          9,
          8.5,
          8.1,
          9.1,
          8.2,
          8.2,
          8.6,
          8.3,
          7.8,
          9.1,
          8.9,
          8.4,
          8.3,
          8.3,
          8.6,
          8.8,
          8.4,
          9,
          8.7,
          8.6,
          8.9,
          8.5,
          8.9,
          8.1,
          8.7,
          9.2,
          8.7,
          8.5,
          8,
          8.5,
          8.9,
          9.4,
          8.6,
          8.8,
          9.7,
          8.7,
          8.6
         ]
        }
       ],
       "layout": {
        "plot_bgcolor": "white",
        "template": {
         "data": {
          "bar": [
           {
            "error_x": {
             "color": "#2a3f5f"
            },
            "error_y": {
             "color": "#2a3f5f"
            },
            "marker": {
             "line": {
              "color": "#E5ECF6",
              "width": 0.5
             },
             "pattern": {
              "fillmode": "overlay",
              "size": 10,
              "solidity": 0.2
             }
            },
            "type": "bar"
           }
          ],
          "barpolar": [
           {
            "marker": {
             "line": {
              "color": "#E5ECF6",
              "width": 0.5
             },
             "pattern": {
              "fillmode": "overlay",
              "size": 10,
              "solidity": 0.2
             }
            },
            "type": "barpolar"
           }
          ],
          "carpet": [
           {
            "aaxis": {
             "endlinecolor": "#2a3f5f",
             "gridcolor": "white",
             "linecolor": "white",
             "minorgridcolor": "white",
             "startlinecolor": "#2a3f5f"
            },
            "baxis": {
             "endlinecolor": "#2a3f5f",
             "gridcolor": "white",
             "linecolor": "white",
             "minorgridcolor": "white",
             "startlinecolor": "#2a3f5f"
            },
            "type": "carpet"
           }
          ],
          "choropleth": [
           {
            "colorbar": {
             "outlinewidth": 0,
             "ticks": ""
            },
            "type": "choropleth"
           }
          ],
          "contour": [
           {
            "colorbar": {
             "outlinewidth": 0,
             "ticks": ""
            },
            "colorscale": [
             [
              0,
              "#0d0887"
             ],
             [
              0.1111111111111111,
              "#46039f"
             ],
             [
              0.2222222222222222,
              "#7201a8"
             ],
             [
              0.3333333333333333,
              "#9c179e"
             ],
             [
              0.4444444444444444,
              "#bd3786"
             ],
             [
              0.5555555555555556,
              "#d8576b"
             ],
             [
              0.6666666666666666,
              "#ed7953"
             ],
             [
              0.7777777777777778,
              "#fb9f3a"
             ],
             [
              0.8888888888888888,
              "#fdca26"
             ],
             [
              1,
              "#f0f921"
             ]
            ],
            "type": "contour"
           }
          ],
          "contourcarpet": [
           {
            "colorbar": {
             "outlinewidth": 0,
             "ticks": ""
            },
            "type": "contourcarpet"
           }
          ],
          "heatmap": [
           {
            "colorbar": {
             "outlinewidth": 0,
             "ticks": ""
            },
            "colorscale": [
             [
              0,
              "#0d0887"
             ],
             [
              0.1111111111111111,
              "#46039f"
             ],
             [
              0.2222222222222222,
              "#7201a8"
             ],
             [
              0.3333333333333333,
              "#9c179e"
             ],
             [
              0.4444444444444444,
              "#bd3786"
             ],
             [
              0.5555555555555556,
              "#d8576b"
             ],
             [
              0.6666666666666666,
              "#ed7953"
             ],
             [
              0.7777777777777778,
              "#fb9f3a"
             ],
             [
              0.8888888888888888,
              "#fdca26"
             ],
             [
              1,
              "#f0f921"
             ]
            ],
            "type": "heatmap"
           }
          ],
          "heatmapgl": [
           {
            "colorbar": {
             "outlinewidth": 0,
             "ticks": ""
            },
            "colorscale": [
             [
              0,
              "#0d0887"
             ],
             [
              0.1111111111111111,
              "#46039f"
             ],
             [
              0.2222222222222222,
              "#7201a8"
             ],
             [
              0.3333333333333333,
              "#9c179e"
             ],
             [
              0.4444444444444444,
              "#bd3786"
             ],
             [
              0.5555555555555556,
              "#d8576b"
             ],
             [
              0.6666666666666666,
              "#ed7953"
             ],
             [
              0.7777777777777778,
              "#fb9f3a"
             ],
             [
              0.8888888888888888,
              "#fdca26"
             ],
             [
              1,
              "#f0f921"
             ]
            ],
            "type": "heatmapgl"
           }
          ],
          "histogram": [
           {
            "marker": {
             "pattern": {
              "fillmode": "overlay",
              "size": 10,
              "solidity": 0.2
             }
            },
            "type": "histogram"
           }
          ],
          "histogram2d": [
           {
            "colorbar": {
             "outlinewidth": 0,
             "ticks": ""
            },
            "colorscale": [
             [
              0,
              "#0d0887"
             ],
             [
              0.1111111111111111,
              "#46039f"
             ],
             [
              0.2222222222222222,
              "#7201a8"
             ],
             [
              0.3333333333333333,
              "#9c179e"
             ],
             [
              0.4444444444444444,
              "#bd3786"
             ],
             [
              0.5555555555555556,
              "#d8576b"
             ],
             [
              0.6666666666666666,
              "#ed7953"
             ],
             [
              0.7777777777777778,
              "#fb9f3a"
             ],
             [
              0.8888888888888888,
              "#fdca26"
             ],
             [
              1,
              "#f0f921"
             ]
            ],
            "type": "histogram2d"
           }
          ],
          "histogram2dcontour": [
           {
            "colorbar": {
             "outlinewidth": 0,
             "ticks": ""
            },
            "colorscale": [
             [
              0,
              "#0d0887"
             ],
             [
              0.1111111111111111,
              "#46039f"
             ],
             [
              0.2222222222222222,
              "#7201a8"
             ],
             [
              0.3333333333333333,
              "#9c179e"
             ],
             [
              0.4444444444444444,
              "#bd3786"
             ],
             [
              0.5555555555555556,
              "#d8576b"
             ],
             [
              0.6666666666666666,
              "#ed7953"
             ],
             [
              0.7777777777777778,
              "#fb9f3a"
             ],
             [
              0.8888888888888888,
              "#fdca26"
             ],
             [
              1,
              "#f0f921"
             ]
            ],
            "type": "histogram2dcontour"
           }
          ],
          "mesh3d": [
           {
            "colorbar": {
             "outlinewidth": 0,
             "ticks": ""
            },
            "type": "mesh3d"
           }
          ],
          "parcoords": [
           {
            "line": {
             "colorbar": {
              "outlinewidth": 0,
              "ticks": ""
             }
            },
            "type": "parcoords"
           }
          ],
          "pie": [
           {
            "automargin": true,
            "type": "pie"
           }
          ],
          "scatter": [
           {
            "fillpattern": {
             "fillmode": "overlay",
             "size": 10,
             "solidity": 0.2
            },
            "type": "scatter"
           }
          ],
          "scatter3d": [
           {
            "line": {
             "colorbar": {
              "outlinewidth": 0,
              "ticks": ""
             }
            },
            "marker": {
             "colorbar": {
              "outlinewidth": 0,
              "ticks": ""
             }
            },
            "type": "scatter3d"
           }
          ],
          "scattercarpet": [
           {
            "marker": {
             "colorbar": {
              "outlinewidth": 0,
              "ticks": ""
             }
            },
            "type": "scattercarpet"
           }
          ],
          "scattergeo": [
           {
            "marker": {
             "colorbar": {
              "outlinewidth": 0,
              "ticks": ""
             }
            },
            "type": "scattergeo"
           }
          ],
          "scattergl": [
           {
            "marker": {
             "colorbar": {
              "outlinewidth": 0,
              "ticks": ""
             }
            },
            "type": "scattergl"
           }
          ],
          "scattermapbox": [
           {
            "marker": {
             "colorbar": {
              "outlinewidth": 0,
              "ticks": ""
             }
            },
            "type": "scattermapbox"
           }
          ],
          "scatterpolar": [
           {
            "marker": {
             "colorbar": {
              "outlinewidth": 0,
              "ticks": ""
             }
            },
            "type": "scatterpolar"
           }
          ],
          "scatterpolargl": [
           {
            "marker": {
             "colorbar": {
              "outlinewidth": 0,
              "ticks": ""
             }
            },
            "type": "scatterpolargl"
           }
          ],
          "scatterternary": [
           {
            "marker": {
             "colorbar": {
              "outlinewidth": 0,
              "ticks": ""
             }
            },
            "type": "scatterternary"
           }
          ],
          "surface": [
           {
            "colorbar": {
             "outlinewidth": 0,
             "ticks": ""
            },
            "colorscale": [
             [
              0,
              "#0d0887"
             ],
             [
              0.1111111111111111,
              "#46039f"
             ],
             [
              0.2222222222222222,
              "#7201a8"
             ],
             [
              0.3333333333333333,
              "#9c179e"
             ],
             [
              0.4444444444444444,
              "#bd3786"
             ],
             [
              0.5555555555555556,
              "#d8576b"
             ],
             [
              0.6666666666666666,
              "#ed7953"
             ],
             [
              0.7777777777777778,
              "#fb9f3a"
             ],
             [
              0.8888888888888888,
              "#fdca26"
             ],
             [
              1,
              "#f0f921"
             ]
            ],
            "type": "surface"
           }
          ],
          "table": [
           {
            "cells": {
             "fill": {
              "color": "#EBF0F8"
             },
             "line": {
              "color": "white"
             }
            },
            "header": {
             "fill": {
              "color": "#C8D4E3"
             },
             "line": {
              "color": "white"
             }
            },
            "type": "table"
           }
          ]
         },
         "layout": {
          "annotationdefaults": {
           "arrowcolor": "#2a3f5f",
           "arrowhead": 0,
           "arrowwidth": 1
          },
          "autotypenumbers": "strict",
          "coloraxis": {
           "colorbar": {
            "outlinewidth": 0,
            "ticks": ""
           }
          },
          "colorscale": {
           "diverging": [
            [
             0,
             "#8e0152"
            ],
            [
             0.1,
             "#c51b7d"
            ],
            [
             0.2,
             "#de77ae"
            ],
            [
             0.3,
             "#f1b6da"
            ],
            [
             0.4,
             "#fde0ef"
            ],
            [
             0.5,
             "#f7f7f7"
            ],
            [
             0.6,
             "#e6f5d0"
            ],
            [
             0.7,
             "#b8e186"
            ],
            [
             0.8,
             "#7fbc41"
            ],
            [
             0.9,
             "#4d9221"
            ],
            [
             1,
             "#276419"
            ]
           ],
           "sequential": [
            [
             0,
             "#0d0887"
            ],
            [
             0.1111111111111111,
             "#46039f"
            ],
            [
             0.2222222222222222,
             "#7201a8"
            ],
            [
             0.3333333333333333,
             "#9c179e"
            ],
            [
             0.4444444444444444,
             "#bd3786"
            ],
            [
             0.5555555555555556,
             "#d8576b"
            ],
            [
             0.6666666666666666,
             "#ed7953"
            ],
            [
             0.7777777777777778,
             "#fb9f3a"
            ],
            [
             0.8888888888888888,
             "#fdca26"
            ],
            [
             1,
             "#f0f921"
            ]
           ],
           "sequentialminus": [
            [
             0,
             "#0d0887"
            ],
            [
             0.1111111111111111,
             "#46039f"
            ],
            [
             0.2222222222222222,
             "#7201a8"
            ],
            [
             0.3333333333333333,
             "#9c179e"
            ],
            [
             0.4444444444444444,
             "#bd3786"
            ],
            [
             0.5555555555555556,
             "#d8576b"
            ],
            [
             0.6666666666666666,
             "#ed7953"
            ],
            [
             0.7777777777777778,
             "#fb9f3a"
            ],
            [
             0.8888888888888888,
             "#fdca26"
            ],
            [
             1,
             "#f0f921"
            ]
           ]
          },
          "colorway": [
           "#636efa",
           "#EF553B",
           "#00cc96",
           "#ab63fa",
           "#FFA15A",
           "#19d3f3",
           "#FF6692",
           "#B6E880",
           "#FF97FF",
           "#FECB52"
          ],
          "font": {
           "color": "#2a3f5f"
          },
          "geo": {
           "bgcolor": "white",
           "lakecolor": "white",
           "landcolor": "#E5ECF6",
           "showlakes": true,
           "showland": true,
           "subunitcolor": "white"
          },
          "hoverlabel": {
           "align": "left"
          },
          "hovermode": "closest",
          "mapbox": {
           "style": "light"
          },
          "paper_bgcolor": "white",
          "plot_bgcolor": "#E5ECF6",
          "polar": {
           "angularaxis": {
            "gridcolor": "white",
            "linecolor": "white",
            "ticks": ""
           },
           "bgcolor": "#E5ECF6",
           "radialaxis": {
            "gridcolor": "white",
            "linecolor": "white",
            "ticks": ""
           }
          },
          "scene": {
           "xaxis": {
            "backgroundcolor": "#E5ECF6",
            "gridcolor": "white",
            "gridwidth": 2,
            "linecolor": "white",
            "showbackground": true,
            "ticks": "",
            "zerolinecolor": "white"
           },
           "yaxis": {
            "backgroundcolor": "#E5ECF6",
            "gridcolor": "white",
            "gridwidth": 2,
            "linecolor": "white",
            "showbackground": true,
            "ticks": "",
            "zerolinecolor": "white"
           },
           "zaxis": {
            "backgroundcolor": "#E5ECF6",
            "gridcolor": "white",
            "gridwidth": 2,
            "linecolor": "white",
            "showbackground": true,
            "ticks": "",
            "zerolinecolor": "white"
           }
          },
          "shapedefaults": {
           "line": {
            "color": "#2a3f5f"
           }
          },
          "ternary": {
           "aaxis": {
            "gridcolor": "white",
            "linecolor": "white",
            "ticks": ""
           },
           "baxis": {
            "gridcolor": "white",
            "linecolor": "white",
            "ticks": ""
           },
           "bgcolor": "#E5ECF6",
           "caxis": {
            "gridcolor": "white",
            "linecolor": "white",
            "ticks": ""
           }
          },
          "title": {
           "x": 0.05
          },
          "xaxis": {
           "automargin": true,
           "gridcolor": "white",
           "linecolor": "white",
           "ticks": "",
           "title": {
            "standoff": 15
           },
           "zerolinecolor": "white",
           "zerolinewidth": 2
          },
          "yaxis": {
           "automargin": true,
           "gridcolor": "white",
           "linecolor": "white",
           "ticks": "",
           "title": {
            "standoff": 15
           },
           "zerolinecolor": "white",
           "zerolinewidth": 2
          }
         }
        },
        "title": {
         "text": "Relación entre valoración en IMDB y visualizaciones"
        },
        "xaxis": {
         "gridcolor": "grey",
         "gridwidth": 0.1,
         "showgrid": true,
         "title": {
          "text": "Millones de visualizaciones"
         }
        },
        "yaxis": {
         "gridcolor": "grey",
         "gridwidth": 0.1,
         "showgrid": true,
         "title": {
          "text": "Valoración en IMDB"
         }
        }
       }
      },
      "text/html": [
       "<div>                            <div id=\"d24cce3e-d37c-42d0-81eb-82e10e7b22f5\" class=\"plotly-graph-div\" style=\"height:525px; width:100%;\"></div>            <script type=\"text/javascript\">                require([\"plotly\"], function(Plotly) {                    window.PLOTLYENV=window.PLOTLYENV || {};                                    if (document.getElementById(\"d24cce3e-d37c-42d0-81eb-82e10e7b22f5\")) {                    Plotly.newPlot(                        \"d24cce3e-d37c-42d0-81eb-82e10e7b22f5\",                        [{\"marker\":{\"color\":[7.4,8.3,8.7,8.2,8.3,8.4,8.1,8.1,8.4,8.3,7.3,8.2,9.2,8.2,8.1,8.2,7.8,8.2,8.1,8.0,9.0,8.0,8.3,8.2,8.3,8.9,8.2,8.6,8.3,8.7,8.3,8.6,8.4,8.4,8.5,8.1,8.1,8.7,8.2,8.3,8.3,7.1,8.1,8.2,8.4,8.7,8.8,7.9,8.5,8.9,8.2,8.5,9.1,8.4,8.2,8.1,7.4,8.0,8.8,8.1,8.6,8.6,8.0,7.4,8.2,8.5,8.1,8.1,8.3,8.6,8.6,8.2,9.1,8.1,8.2,8.2,8.5,8.6,8.0,8.7,8.1,8.5,9.1,8.2,8.8,9.0,8.5,8.5,7.9,8.1,7.9,8.5,8.2,8.5,8.0,7.9,9.1,8.1,8.5,8.2,8.2,8.2,8.0,9.3,7.8,8.5,8.3,8.2,8.4,8.1,8.6,8.0,8.5,8.3,8.5,8.5,8.9,8.5,8.1,8.2,8.2,9.0,8.1,8.0,8.1,8.0,8.2,8.6,9.0,8.1,8.4,8.6,9.0,8.5,8.0,8.4,9.3,8.1,8.5,8.6,8.1,8.1,8.3,8.7,8.5,8.5,8.8,8.9,8.6,8.1,8.0,8.0,8.0,8.7,8.7,8.2,8.2,8.0,9.0,8.4,9.1,8.8,8.5,9.1,9.5,8.5,8.3,8.1,8.3,8.2,9.7,8.7,7.9,8.3,8.2,8.4,7.9,9.1,8.2,7.8,8.2,8.3,8.3,8.7,7.8,8.5,8.2,8.7,8.5,9.0,8.5,8.1,9.1,8.2,8.2,8.6,8.3,7.8,9.1,8.9,8.4,8.3,8.3,8.6,8.8,8.4,9.0,8.7,8.6,8.9,8.5,8.9,8.1,8.7,9.2,8.7,8.5,8.0,8.5,8.9,9.4,8.6,8.8,9.7,8.7,8.6],\"colorscale\":[[0.0,\"#D88F53\"],[1.0,\"#6D285D\"]],\"showscale\":true,\"size\":[7.4,8.3,8.7,8.2,8.3,8.4,8.1,8.1,8.4,8.3,7.3,8.2,9.2,8.2,8.1,8.2,7.8,8.2,8.1,8.0,9.0,8.0,8.3,8.2,8.3,8.9,8.2,8.6,8.3,8.7,8.3,8.6,8.4,8.4,8.5,8.1,8.1,8.7,8.2,8.3,8.3,7.1,8.1,8.2,8.4,8.7,8.8,7.9,8.5,8.9,8.2,8.5,9.1,8.4,8.2,8.1,7.4,8.0,8.8,8.1,8.6,8.6,8.0,7.4,8.2,8.5,8.1,8.1,8.3,8.6,8.6,8.2,9.1,8.1,8.2,8.2,8.5,8.6,8.0,8.7,8.1,8.5,9.1,8.2,8.8,9.0,8.5,8.5,7.9,8.1,7.9,8.5,8.2,8.5,8.0,7.9,9.1,8.1,8.5,8.2,8.2,8.2,8.0,9.3,7.8,8.5,8.3,8.2,8.4,8.1,8.6,8.0,8.5,8.3,8.5,8.5,8.9,8.5,8.1,8.2,8.2,9.0,8.1,8.0,8.1,8.0,8.2,8.6,9.0,8.1,8.4,8.6,9.0,8.5,8.0,8.4,9.3,8.1,8.5,8.6,8.1,8.1,8.3,8.7,8.5,8.5,8.8,8.9,8.6,8.1,8.0,8.0,8.0,8.7,8.7,8.2,8.2,8.0,9.0,8.4,9.1,8.8,8.5,9.1,9.5,8.5,8.3,8.1,8.3,8.2,9.7,8.7,7.9,8.3,8.2,8.4,7.9,9.1,8.2,7.8,8.2,8.3,8.3,8.7,7.8,8.5,8.2,8.7,8.5,9.0,8.5,8.1,9.1,8.2,8.2,8.6,8.3,7.8,9.1,8.9,8.4,8.3,8.3,8.6,8.8,8.4,9.0,8.7,8.6,8.9,8.5,8.9,8.1,8.7,9.2,8.7,8.5,8.0,8.5,8.9,9.4,8.6,8.8,9.7,8.7,8.6]},\"mode\":\"markers\",\"text\":[\"7.21\",\"7.20\",\"7.19\",\"7.8\",\"7.22\",\"7.18\",\"1.6\",\"9.19\",\"1.5\",\"10.4\",\"6.20\",\"9.21\",\"6.9\",\"10.5\",\"1.3\",\"9.16\",\"9.22\",\"5.20\",\"1.4\",\"1.10\",\"6.22\",\"1.2\",\"10.7\",\"10.6\",\"6.18\",\"10.8\",\"9.20\",\"9.18\",\"7.17\",\"5.19\",\"9.15\",\"6.23\",\"5.21\",\"9.17\",\"6.4\",\"7.9\",\"1.8\",\"7.16\",\"5.22\",\"6.19\",\"1.1\",\"4.21\",\"6.3\",\"4.18\",\"7.15\",\"4.19\",\"10.3\",\"5.18\",\"4.20\",\"7.6\",\"8.18\",\"6.8\",\"6.17\",\"7.13\",\"8.20\",\"6.11\",\"9.10\",\"6.12\",\"10.2\",\"6.5\",\"7.14\",\"6.10\",\"8.10\",\"8.19\",\"3.22\",\"10.15\",\"7.4\",\"7.3\",\"6.7\",\"10.14\",\"7.12\",\"6.2\",\"5.9\",\"3.24\",\"1.9\",\"4.16\",\"4.22\",\"4.17\",\"4.10\",\"3.21\",\"3.5\",\"7.10\",\"3.6\",\"9.14\",\"3.25\",\"1.7\",\"6.6\",\"4.11\",\"9.12\",\"5.10\",\"9.11\",\"7.7\",\"1.14\",\"6.14\",\"8.11\",\"4.9\",\"5.8\",\"8.21\",\"4.3\",\"1.12\",\"5.4\",\"6.13\",\"3.23\",\"8.9\",\"8.7\",\"10.13\",\"8.22\",\"4.4\",\"4.5\",\"3.20\",\"7.11\",\"7.5\",\"4.15\",\"5.7\",\"9.5\",\"5.17\",\"10.16\",\"10.1\",\"2.21\",\"1.15\",\"5.12\",\"10.11\",\"5.13\",\"5.6\",\"3.10\",\"3.3\",\"4.13\",\"9.7\",\"5.2\",\"9.9\",\"9.23\",\"10.9\",\"2.22\",\"8.12\",\"4.2\",\"7.1\",\"8.4\",\"8.5\",\"4.6\",\"1.13\",\"9.4\",\"9.13\",\"3.17\",\"5.5\",\"6.15\",\"6.16\",\"5.23\",\"10.12\",\"5.16\",\"1.16\",\"2.23\",\"3.4\",\"8.17\",\"4.7\",\"8.8\",\"1.11\",\"9.3\",\"10.10\",\"3.2\",\"3.1\",\"4.8\",\"5.3\",\"8.6\",\"5.11\",\"4.12\",\"3.15\",\"3.7\",\"2.20\",\"9.6\",\"8.16\",\"5.14\",\"6.1\",\"2.9\",\"7.2\",\"3.13\",\"3.18\",\"2.4\",\"3.16\",\"2.5\",\"1.21\",\"8.14\",\"8.15\",\"3.8\",\"1.23\",\"3.14\",\"9.2\",\"2.24\",\"8.3\",\"8.13\",\"3.9\",\"5.15\",\"1.19\",\"4.1\",\"3.12\",\"2.2\",\"3.11\",\"1.22\",\"1.20\",\"8.2\",\"7.23\",\"2.18\",\"2.17\",\"2.3\",\"2.6\",\"1.18\",\"1.17\",\"2.7\",\"6.24\",\"2.16\",\"5.1\",\"2.19\",\"1.24\",\"2.11\",\"4.23\",\"4.24\",\"8.1\",\"2.1\",\"2.10\",\"2.8\",\"2.15\",\"2.14\",\"9.1\",\"8.23\",\"10.17\",\"2.13\",\"2.12\"],\"x\":[15650000.0,16300000.0,16540000.0,16570000.0,17230000.0,17810000.0,18200000.0,18240000.0,18600000.0,18760000.0,18810000.0,19030000.0,19170000.0,19370000.0,19500000.0,19520000.0,19550000.0,19630000.0,19700000.0,19900000.0,20010000.0,20200000.0,20210000.0,20370000.0,20520000.0,20660000.0,20710000.0,20790000.0,20840000.0,20850000.0,20850000.0,20870000.0,20920000.0,21000000.0,21070000.0,21080000.0,21100000.0,21220000.0,21280000.0,21460000.0,21500000.0,21510000.0,21600000.0,21720000.0,21750000.0,21760000.0,21870000.0,21880000.0,21940000.0,22010000.0,22050000.0,22140000.0,22210000.0,22240000.0,22240000.0,22260000.0,22280000.0,22330000.0,22370000.0,22390000.0,22400000.0,22430000.0,22440000.0,22590000.0,22630000.0,22640000.0,22660000.0,22720000.0,22750000.0,22820000.0,22860000.0,22950000.0,23030000.0,23070000.0,23100000.0,23130000.0,23150000.0,23220000.0,23220000.0,23220000.0,23250000.0,23260000.0,23270000.0,23370000.0,23390000.0,23500000.0,23590000.0,23660000.0,23660000.0,23670000.0,23670000.0,23730000.0,23800000.0,23820000.0,23850000.0,23890000.0,23920000.0,23970000.0,23980000.0,24000000.0,24090000.0,24140000.0,24170000.0,24240000.0,24240000.0,24270000.0,24310000.0,24310000.0,24350000.0,24360000.0,24370000.0,24430000.0,24440000.0,24440000.0,24460000.0,24480000.0,24510000.0,24540000.0,24700000.0,24800000.0,24820000.0,24910000.0,24920000.0,24990000.0,25100000.0,25230000.0,25270000.0,25350000.0,25360000.0,25420000.0,25460000.0,25480000.0,25500000.0,25530000.0,25540000.0,25540000.0,25580000.0,25640000.0,25680000.0,25800000.0,25810000.0,25820000.0,25840000.0,25870000.0,25890000.0,25890000.0,25900000.0,25900000.0,26020000.0,26100000.0,26100000.0,26100000.0,26300000.0,26350000.0,26540000.0,26600000.0,26620000.0,26680000.0,26730000.0,26760000.0,26760000.0,26820000.0,26960000.0,27020000.0,27140000.0,27250000.0,27360000.0,27400000.0,27510000.0,27520000.0,27700000.0,27740000.0,27800000.0,27930000.0,28030000.0,28070000.0,28100000.0,28260000.0,28300000.0,28400000.0,28640000.0,28640000.0,28690000.0,28700000.0,28910000.0,28930000.0,29000000.0,29200000.0,29240000.0,29280000.0,29310000.0,29400000.0,29430000.0,29610000.0,29800000.0,29800000.0,29900000.0,30000000.0,30040000.0,30050000.0,30100000.0,30200000.0,30200000.0,30200000.0,30400000.0,30500000.0,30500000.0,30730000.0,31100000.0,31120000.0,31200000.0,31300000.0,31600000.0,31610000.0,31610000.0,31700000.0,32100000.0,32200000.000000004,32900000.0,32900000.0,33600000.0,34010000.0,34910000.0,52460000.0,52900000.0,52900000.0],\"y\":[7.4,8.3,8.7,8.2,8.3,8.4,8.1,8.1,8.4,8.3,7.3,8.2,9.2,8.2,8.1,8.2,7.8,8.2,8.1,8.0,9.0,8.0,8.3,8.2,8.3,8.9,8.2,8.6,8.3,8.7,8.3,8.6,8.4,8.4,8.5,8.1,8.1,8.7,8.2,8.3,8.3,7.1,8.1,8.2,8.4,8.7,8.8,7.9,8.5,8.9,8.2,8.5,9.1,8.4,8.2,8.1,7.4,8.0,8.8,8.1,8.6,8.6,8.0,7.4,8.2,8.5,8.1,8.1,8.3,8.6,8.6,8.2,9.1,8.1,8.2,8.2,8.5,8.6,8.0,8.7,8.1,8.5,9.1,8.2,8.8,9.0,8.5,8.5,7.9,8.1,7.9,8.5,8.2,8.5,8.0,7.9,9.1,8.1,8.5,8.2,8.2,8.2,8.0,9.3,7.8,8.5,8.3,8.2,8.4,8.1,8.6,8.0,8.5,8.3,8.5,8.5,8.9,8.5,8.1,8.2,8.2,9.0,8.1,8.0,8.1,8.0,8.2,8.6,9.0,8.1,8.4,8.6,9.0,8.5,8.0,8.4,9.3,8.1,8.5,8.6,8.1,8.1,8.3,8.7,8.5,8.5,8.8,8.9,8.6,8.1,8.0,8.0,8.0,8.7,8.7,8.2,8.2,8.0,9.0,8.4,9.1,8.8,8.5,9.1,9.5,8.5,8.3,8.1,8.3,8.2,9.7,8.7,7.9,8.3,8.2,8.4,7.9,9.1,8.2,7.8,8.2,8.3,8.3,8.7,7.8,8.5,8.2,8.7,8.5,9.0,8.5,8.1,9.1,8.2,8.2,8.6,8.3,7.8,9.1,8.9,8.4,8.3,8.3,8.6,8.8,8.4,9.0,8.7,8.6,8.9,8.5,8.9,8.1,8.7,9.2,8.7,8.5,8.0,8.5,8.9,9.4,8.6,8.8,9.7,8.7,8.6],\"type\":\"scatter\"}],                        {\"plot_bgcolor\":\"white\",\"title\":{\"text\":\"Relaci\\u00f3n entre valoraci\\u00f3n en IMDB y visualizaciones\"},\"xaxis\":{\"gridcolor\":\"grey\",\"gridwidth\":0.1,\"showgrid\":true,\"title\":{\"text\":\"Millones de visualizaciones\"}},\"yaxis\":{\"gridcolor\":\"grey\",\"gridwidth\":0.1,\"showgrid\":true,\"title\":{\"text\":\"Valoraci\\u00f3n en IMDB\"}},\"template\":{\"data\":{\"histogram2dcontour\":[{\"type\":\"histogram2dcontour\",\"colorbar\":{\"outlinewidth\":0,\"ticks\":\"\"},\"colorscale\":[[0.0,\"#0d0887\"],[0.1111111111111111,\"#46039f\"],[0.2222222222222222,\"#7201a8\"],[0.3333333333333333,\"#9c179e\"],[0.4444444444444444,\"#bd3786\"],[0.5555555555555556,\"#d8576b\"],[0.6666666666666666,\"#ed7953\"],[0.7777777777777778,\"#fb9f3a\"],[0.8888888888888888,\"#fdca26\"],[1.0,\"#f0f921\"]]}],\"choropleth\":[{\"type\":\"choropleth\",\"colorbar\":{\"outlinewidth\":0,\"ticks\":\"\"}}],\"histogram2d\":[{\"type\":\"histogram2d\",\"colorbar\":{\"outlinewidth\":0,\"ticks\":\"\"},\"colorscale\":[[0.0,\"#0d0887\"],[0.1111111111111111,\"#46039f\"],[0.2222222222222222,\"#7201a8\"],[0.3333333333333333,\"#9c179e\"],[0.4444444444444444,\"#bd3786\"],[0.5555555555555556,\"#d8576b\"],[0.6666666666666666,\"#ed7953\"],[0.7777777777777778,\"#fb9f3a\"],[0.8888888888888888,\"#fdca26\"],[1.0,\"#f0f921\"]]}],\"heatmap\":[{\"type\":\"heatmap\",\"colorbar\":{\"outlinewidth\":0,\"ticks\":\"\"},\"colorscale\":[[0.0,\"#0d0887\"],[0.1111111111111111,\"#46039f\"],[0.2222222222222222,\"#7201a8\"],[0.3333333333333333,\"#9c179e\"],[0.4444444444444444,\"#bd3786\"],[0.5555555555555556,\"#d8576b\"],[0.6666666666666666,\"#ed7953\"],[0.7777777777777778,\"#fb9f3a\"],[0.8888888888888888,\"#fdca26\"],[1.0,\"#f0f921\"]]}],\"heatmapgl\":[{\"type\":\"heatmapgl\",\"colorbar\":{\"outlinewidth\":0,\"ticks\":\"\"},\"colorscale\":[[0.0,\"#0d0887\"],[0.1111111111111111,\"#46039f\"],[0.2222222222222222,\"#7201a8\"],[0.3333333333333333,\"#9c179e\"],[0.4444444444444444,\"#bd3786\"],[0.5555555555555556,\"#d8576b\"],[0.6666666666666666,\"#ed7953\"],[0.7777777777777778,\"#fb9f3a\"],[0.8888888888888888,\"#fdca26\"],[1.0,\"#f0f921\"]]}],\"contourcarpet\":[{\"type\":\"contourcarpet\",\"colorbar\":{\"outlinewidth\":0,\"ticks\":\"\"}}],\"contour\":[{\"type\":\"contour\",\"colorbar\":{\"outlinewidth\":0,\"ticks\":\"\"},\"colorscale\":[[0.0,\"#0d0887\"],[0.1111111111111111,\"#46039f\"],[0.2222222222222222,\"#7201a8\"],[0.3333333333333333,\"#9c179e\"],[0.4444444444444444,\"#bd3786\"],[0.5555555555555556,\"#d8576b\"],[0.6666666666666666,\"#ed7953\"],[0.7777777777777778,\"#fb9f3a\"],[0.8888888888888888,\"#fdca26\"],[1.0,\"#f0f921\"]]}],\"surface\":[{\"type\":\"surface\",\"colorbar\":{\"outlinewidth\":0,\"ticks\":\"\"},\"colorscale\":[[0.0,\"#0d0887\"],[0.1111111111111111,\"#46039f\"],[0.2222222222222222,\"#7201a8\"],[0.3333333333333333,\"#9c179e\"],[0.4444444444444444,\"#bd3786\"],[0.5555555555555556,\"#d8576b\"],[0.6666666666666666,\"#ed7953\"],[0.7777777777777778,\"#fb9f3a\"],[0.8888888888888888,\"#fdca26\"],[1.0,\"#f0f921\"]]}],\"mesh3d\":[{\"type\":\"mesh3d\",\"colorbar\":{\"outlinewidth\":0,\"ticks\":\"\"}}],\"scatter\":[{\"fillpattern\":{\"fillmode\":\"overlay\",\"size\":10,\"solidity\":0.2},\"type\":\"scatter\"}],\"parcoords\":[{\"type\":\"parcoords\",\"line\":{\"colorbar\":{\"outlinewidth\":0,\"ticks\":\"\"}}}],\"scatterpolargl\":[{\"type\":\"scatterpolargl\",\"marker\":{\"colorbar\":{\"outlinewidth\":0,\"ticks\":\"\"}}}],\"bar\":[{\"error_x\":{\"color\":\"#2a3f5f\"},\"error_y\":{\"color\":\"#2a3f5f\"},\"marker\":{\"line\":{\"color\":\"#E5ECF6\",\"width\":0.5},\"pattern\":{\"fillmode\":\"overlay\",\"size\":10,\"solidity\":0.2}},\"type\":\"bar\"}],\"scattergeo\":[{\"type\":\"scattergeo\",\"marker\":{\"colorbar\":{\"outlinewidth\":0,\"ticks\":\"\"}}}],\"scatterpolar\":[{\"type\":\"scatterpolar\",\"marker\":{\"colorbar\":{\"outlinewidth\":0,\"ticks\":\"\"}}}],\"histogram\":[{\"marker\":{\"pattern\":{\"fillmode\":\"overlay\",\"size\":10,\"solidity\":0.2}},\"type\":\"histogram\"}],\"scattergl\":[{\"type\":\"scattergl\",\"marker\":{\"colorbar\":{\"outlinewidth\":0,\"ticks\":\"\"}}}],\"scatter3d\":[{\"type\":\"scatter3d\",\"line\":{\"colorbar\":{\"outlinewidth\":0,\"ticks\":\"\"}},\"marker\":{\"colorbar\":{\"outlinewidth\":0,\"ticks\":\"\"}}}],\"scattermapbox\":[{\"type\":\"scattermapbox\",\"marker\":{\"colorbar\":{\"outlinewidth\":0,\"ticks\":\"\"}}}],\"scatterternary\":[{\"type\":\"scatterternary\",\"marker\":{\"colorbar\":{\"outlinewidth\":0,\"ticks\":\"\"}}}],\"scattercarpet\":[{\"type\":\"scattercarpet\",\"marker\":{\"colorbar\":{\"outlinewidth\":0,\"ticks\":\"\"}}}],\"carpet\":[{\"aaxis\":{\"endlinecolor\":\"#2a3f5f\",\"gridcolor\":\"white\",\"linecolor\":\"white\",\"minorgridcolor\":\"white\",\"startlinecolor\":\"#2a3f5f\"},\"baxis\":{\"endlinecolor\":\"#2a3f5f\",\"gridcolor\":\"white\",\"linecolor\":\"white\",\"minorgridcolor\":\"white\",\"startlinecolor\":\"#2a3f5f\"},\"type\":\"carpet\"}],\"table\":[{\"cells\":{\"fill\":{\"color\":\"#EBF0F8\"},\"line\":{\"color\":\"white\"}},\"header\":{\"fill\":{\"color\":\"#C8D4E3\"},\"line\":{\"color\":\"white\"}},\"type\":\"table\"}],\"barpolar\":[{\"marker\":{\"line\":{\"color\":\"#E5ECF6\",\"width\":0.5},\"pattern\":{\"fillmode\":\"overlay\",\"size\":10,\"solidity\":0.2}},\"type\":\"barpolar\"}],\"pie\":[{\"automargin\":true,\"type\":\"pie\"}]},\"layout\":{\"autotypenumbers\":\"strict\",\"colorway\":[\"#636efa\",\"#EF553B\",\"#00cc96\",\"#ab63fa\",\"#FFA15A\",\"#19d3f3\",\"#FF6692\",\"#B6E880\",\"#FF97FF\",\"#FECB52\"],\"font\":{\"color\":\"#2a3f5f\"},\"hovermode\":\"closest\",\"hoverlabel\":{\"align\":\"left\"},\"paper_bgcolor\":\"white\",\"plot_bgcolor\":\"#E5ECF6\",\"polar\":{\"bgcolor\":\"#E5ECF6\",\"angularaxis\":{\"gridcolor\":\"white\",\"linecolor\":\"white\",\"ticks\":\"\"},\"radialaxis\":{\"gridcolor\":\"white\",\"linecolor\":\"white\",\"ticks\":\"\"}},\"ternary\":{\"bgcolor\":\"#E5ECF6\",\"aaxis\":{\"gridcolor\":\"white\",\"linecolor\":\"white\",\"ticks\":\"\"},\"baxis\":{\"gridcolor\":\"white\",\"linecolor\":\"white\",\"ticks\":\"\"},\"caxis\":{\"gridcolor\":\"white\",\"linecolor\":\"white\",\"ticks\":\"\"}},\"coloraxis\":{\"colorbar\":{\"outlinewidth\":0,\"ticks\":\"\"}},\"colorscale\":{\"sequential\":[[0.0,\"#0d0887\"],[0.1111111111111111,\"#46039f\"],[0.2222222222222222,\"#7201a8\"],[0.3333333333333333,\"#9c179e\"],[0.4444444444444444,\"#bd3786\"],[0.5555555555555556,\"#d8576b\"],[0.6666666666666666,\"#ed7953\"],[0.7777777777777778,\"#fb9f3a\"],[0.8888888888888888,\"#fdca26\"],[1.0,\"#f0f921\"]],\"sequentialminus\":[[0.0,\"#0d0887\"],[0.1111111111111111,\"#46039f\"],[0.2222222222222222,\"#7201a8\"],[0.3333333333333333,\"#9c179e\"],[0.4444444444444444,\"#bd3786\"],[0.5555555555555556,\"#d8576b\"],[0.6666666666666666,\"#ed7953\"],[0.7777777777777778,\"#fb9f3a\"],[0.8888888888888888,\"#fdca26\"],[1.0,\"#f0f921\"]],\"diverging\":[[0,\"#8e0152\"],[0.1,\"#c51b7d\"],[0.2,\"#de77ae\"],[0.3,\"#f1b6da\"],[0.4,\"#fde0ef\"],[0.5,\"#f7f7f7\"],[0.6,\"#e6f5d0\"],[0.7,\"#b8e186\"],[0.8,\"#7fbc41\"],[0.9,\"#4d9221\"],[1,\"#276419\"]]},\"xaxis\":{\"gridcolor\":\"white\",\"linecolor\":\"white\",\"ticks\":\"\",\"title\":{\"standoff\":15},\"zerolinecolor\":\"white\",\"automargin\":true,\"zerolinewidth\":2},\"yaxis\":{\"gridcolor\":\"white\",\"linecolor\":\"white\",\"ticks\":\"\",\"title\":{\"standoff\":15},\"zerolinecolor\":\"white\",\"automargin\":true,\"zerolinewidth\":2},\"scene\":{\"xaxis\":{\"backgroundcolor\":\"#E5ECF6\",\"gridcolor\":\"white\",\"linecolor\":\"white\",\"showbackground\":true,\"ticks\":\"\",\"zerolinecolor\":\"white\",\"gridwidth\":2},\"yaxis\":{\"backgroundcolor\":\"#E5ECF6\",\"gridcolor\":\"white\",\"linecolor\":\"white\",\"showbackground\":true,\"ticks\":\"\",\"zerolinecolor\":\"white\",\"gridwidth\":2},\"zaxis\":{\"backgroundcolor\":\"#E5ECF6\",\"gridcolor\":\"white\",\"linecolor\":\"white\",\"showbackground\":true,\"ticks\":\"\",\"zerolinecolor\":\"white\",\"gridwidth\":2}},\"shapedefaults\":{\"line\":{\"color\":\"#2a3f5f\"}},\"annotationdefaults\":{\"arrowcolor\":\"#2a3f5f\",\"arrowhead\":0,\"arrowwidth\":1},\"geo\":{\"bgcolor\":\"white\",\"landcolor\":\"#E5ECF6\",\"subunitcolor\":\"white\",\"showland\":true,\"showlakes\":true,\"lakecolor\":\"white\"},\"title\":{\"x\":0.05},\"mapbox\":{\"style\":\"light\"}}}},                        {\"responsive\": true}                    ).then(function(){\n",
       "                            \n",
       "var gd = document.getElementById('d24cce3e-d37c-42d0-81eb-82e10e7b22f5');\n",
       "var x = new MutationObserver(function (mutations, observer) {{\n",
       "        var display = window.getComputedStyle(gd).display;\n",
       "        if (!display || display === 'none') {{\n",
       "            console.log([gd, 'removed!']);\n",
       "            Plotly.purge(gd);\n",
       "            observer.disconnect();\n",
       "        }}\n",
       "}});\n",
       "\n",
       "// Listen for the removal of the full notebook cells\n",
       "var notebookContainer = gd.closest('#notebook-container');\n",
       "if (notebookContainer) {{\n",
       "    x.observe(notebookContainer, {childList: true});\n",
       "}}\n",
       "\n",
       "// Listen for the clearing of the current output cell\n",
       "var outputEl = gd.closest('.output');\n",
       "if (outputEl) {{\n",
       "    x.observe(outputEl, {childList: true});\n",
       "}}\n",
       "\n",
       "                        })                };                });            </script>        </div>"
      ]
     },
     "metadata": {},
     "output_type": "display_data"
    }
   ],
   "source": [
    "# PINTAMOS UN ÚLTIMO GRÁFICO DE LA RELACIÓN ENTRE LAS VISUALIZACIONES Y LA VALORACIÓN EN IMDB\n",
    "\n",
    "imdb_size  = data_protas_val_visua['imdb_rating']\n",
    "us_viewers_color = [float(each) for each in data_protas_val_visua['us_viewers']]\n",
    "\n",
    "data = [\n",
    "    {\n",
    "        'y': data_protas_val_visua['imdb_rating'],\n",
    "        'x': data_protas_val_visua['us_viewers'],\n",
    "        'mode': 'markers',\n",
    "        'marker': {\n",
    "            'color': imdb_size,\n",
    "            'size': imdb_size,\n",
    "            'showscale': True,\n",
    "            'colorscale':v.degradado_colores,       \n",
    "              \n",
    "            \n",
    "        },\n",
    "        'text': data_protas_val_visua['temp_mas_cap'],\n",
    "        \n",
    "    }\n",
    "]\n",
    "\n",
    "\n",
    "layout = dict(title = 'Relación entre valoración en IMDB y visualizaciones',\n",
    "             xaxis= dict(title= 'Millones de visualizaciones', showgrid=True, gridwidth=0.1, gridcolor='grey'), \n",
    "             yaxis= dict(title='Valoración en IMDB',showgrid=True, gridwidth=0.1, gridcolor='grey'),\n",
    "             plot_bgcolor='white'\n",
    "           )\n",
    "\n",
    "fig = go.Figure(data = data, layout=layout)\n",
    "fig.show()\n",
    "\n",
    "fig.write_html(\"Relación entre valoración en IMDB y visualizaciones.html\")\n"
   ]
  }
 ],
 "metadata": {
  "kernelspec": {
   "display_name": "Python 3.7.4 64-bit",
   "language": "python",
   "name": "python3"
  },
  "language_info": {
   "codemirror_mode": {
    "name": "ipython",
    "version": 3
   },
   "file_extension": ".py",
   "mimetype": "text/x-python",
   "name": "python",
   "nbconvert_exporter": "python",
   "pygments_lexer": "ipython3",
   "version": "3.7.4"
  },
  "orig_nbformat": 4,
  "vscode": {
   "interpreter": {
    "hash": "bed665d392a0b16c59368a0492a31cfeef380a776e0741f5d7e9c0d91554052a"
   }
  }
 },
 "nbformat": 4,
 "nbformat_minor": 2
}
